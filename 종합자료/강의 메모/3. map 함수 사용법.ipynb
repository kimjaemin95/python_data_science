{
 "cells": [
  {
   "cell_type": "markdown",
   "id": "aea5c3b6",
   "metadata": {},
   "source": [
    "### map 함수 사용법\n",
    "- map(function, *iterable)"
   ]
  },
  {
   "cell_type": "code",
   "execution_count": 1,
   "id": "a1bf87e2",
   "metadata": {},
   "outputs": [],
   "source": [
    "val_iter = [1,2,3,4,5]"
   ]
  },
  {
   "cell_type": "code",
   "execution_count": 6,
   "id": "9e16a6f3",
   "metadata": {},
   "outputs": [],
   "source": [
    "val_map = map(float, val_iter)"
   ]
  },
  {
   "cell_type": "code",
   "execution_count": 7,
   "id": "27d6a7bb",
   "metadata": {},
   "outputs": [
    {
     "data": {
      "text/plain": [
       "[1.0, 2.0, 3.0, 4.0, 5.0]"
      ]
     },
     "execution_count": 7,
     "metadata": {},
     "output_type": "execute_result"
    }
   ],
   "source": [
    "list(val_map)"
   ]
  },
  {
   "cell_type": "code",
   "execution_count": 8,
   "id": "31237874",
   "metadata": {},
   "outputs": [],
   "source": [
    "def add(a):\n",
    "    return a + 10"
   ]
  },
  {
   "cell_type": "code",
   "execution_count": 9,
   "id": "db13fd1b",
   "metadata": {},
   "outputs": [],
   "source": [
    "val_map2 = map(add, val_iter)"
   ]
  },
  {
   "cell_type": "code",
   "execution_count": 10,
   "id": "2fc8dea1",
   "metadata": {},
   "outputs": [
    {
     "data": {
      "text/plain": [
       "[11, 12, 13, 14, 15]"
      ]
     },
     "execution_count": 10,
     "metadata": {},
     "output_type": "execute_result"
    }
   ],
   "source": [
    "list(val_map2)"
   ]
  },
  {
   "cell_type": "code",
   "execution_count": null,
   "id": "ae2366f1",
   "metadata": {},
   "outputs": [],
   "source": []
  }
 ],
 "metadata": {
  "kernelspec": {
   "display_name": "Python 3",
   "language": "python",
   "name": "python3"
  },
  "language_info": {
   "codemirror_mode": {
    "name": "ipython",
    "version": 3
   },
   "file_extension": ".py",
   "mimetype": "text/x-python",
   "name": "python",
   "nbconvert_exporter": "python",
   "pygments_lexer": "ipython3",
   "version": "3.8.8"
  }
 },
 "nbformat": 4,
 "nbformat_minor": 5
}
