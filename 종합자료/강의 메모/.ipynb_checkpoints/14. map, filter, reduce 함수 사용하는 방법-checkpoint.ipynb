{
 "cells": [
  {
   "cell_type": "markdown",
   "id": "904e2c6c",
   "metadata": {},
   "source": [
    "### map() 함수"
   ]
  },
  {
   "cell_type": "code",
   "execution_count": 1,
   "id": "4b5b2ca7",
   "metadata": {},
   "outputs": [
    {
     "data": {
      "text/plain": [
       "'\\nInit signature: map(self, /, *args, **kwargs)\\nDocstring:     \\nmap(func, *iterables) --> map object\\n'"
      ]
     },
     "execution_count": 1,
     "metadata": {},
     "output_type": "execute_result"
    }
   ],
   "source": [
    "# map() 함수\n",
    "'''\n",
    "Init signature: map(self, /, *args, **kwargs)\n",
    "Docstring:     \n",
    "map(func, *iterables) --> map object\n",
    "'''"
   ]
  },
  {
   "cell_type": "code",
   "execution_count": 63,
   "id": "ce9906bf",
   "metadata": {},
   "outputs": [
    {
     "data": {
      "text/plain": [
       "['(1, 2)', '(2, 3)', '4']"
      ]
     },
     "execution_count": 63,
     "metadata": {},
     "output_type": "execute_result"
    }
   ],
   "source": [
    "ls = [(1,2), (2,3), 4]\n",
    "list(map(lambda a: str(a), ls))"
   ]
  },
  {
   "cell_type": "code",
   "execution_count": 2,
   "id": "850d3865",
   "metadata": {},
   "outputs": [],
   "source": [
    "ls = [1,2,3,4,5]\n",
    "\n",
    "def odd_even(num):\n",
    "    return 'odd' if num % 2 else 'even'"
   ]
  },
  {
   "cell_type": "code",
   "execution_count": 52,
   "id": "a37327b7",
   "metadata": {},
   "outputs": [
    {
     "data": {
      "text/plain": [
       "['odd', 'even', 'odd', 'even', 'odd']"
      ]
     },
     "execution_count": 52,
     "metadata": {},
     "output_type": "execute_result"
    }
   ],
   "source": [
    "list(map(odd_even, ls))"
   ]
  },
  {
   "cell_type": "code",
   "execution_count": 7,
   "id": "c4884f94",
   "metadata": {},
   "outputs": [],
   "source": [
    "# input 함수로 구분자는 \" \"으로 여러개의 숫자를 입력 받습니다.\n",
    "# str.split(\" \") 리스트로 만들고\n",
    "# 만들어진 리스트의 값들을 int 형변환"
   ]
  },
  {
   "cell_type": "code",
   "execution_count": 9,
   "id": "5057b100",
   "metadata": {},
   "outputs": [
    {
     "name": "stdout",
     "output_type": "stream",
     "text": [
      "Input number list :10 20 30 40 50\n"
     ]
    }
   ],
   "source": [
    "data = input(\"Input number list :\")"
   ]
  },
  {
   "cell_type": "code",
   "execution_count": 11,
   "id": "cf714dd6",
   "metadata": {},
   "outputs": [
    {
     "data": {
      "text/plain": [
       "[10, 20, 30, 40, 50]"
      ]
     },
     "execution_count": 11,
     "metadata": {},
     "output_type": "execute_result"
    }
   ],
   "source": [
    "list(map(int, data.split(\" \")))"
   ]
  },
  {
   "cell_type": "code",
   "execution_count": 41,
   "id": "535428d1",
   "metadata": {},
   "outputs": [],
   "source": [
    "dic = {\n",
    "    'a':60,\n",
    "    'b':10,\n",
    "    'c':80,\n",
    "    'd':25\n",
    "}\n",
    "\n",
    "def echo(data):\n",
    "    if data[1] > 50:\n",
    "        return data\n",
    "    else:\n",
    "        return (data[0], '탈락')"
   ]
  },
  {
   "cell_type": "code",
   "execution_count": 43,
   "id": "e17ab9ba",
   "metadata": {},
   "outputs": [
    {
     "data": {
      "text/plain": [
       "{'a': 60, 'b': '탈락', 'c': 80, 'd': '탈락'}"
      ]
     },
     "execution_count": 43,
     "metadata": {},
     "output_type": "execute_result"
    }
   ],
   "source": [
    "dict(map(echo, dic.items()))"
   ]
  },
  {
   "cell_type": "markdown",
   "id": "5bef2f7c",
   "metadata": {},
   "source": [
    "### filter() 함수"
   ]
  },
  {
   "cell_type": "code",
   "execution_count": 47,
   "id": "fcfad2c7",
   "metadata": {},
   "outputs": [
    {
     "data": {
      "text/plain": [
       "'\\nInit signature: filter(self, /, *args, **kwargs)\\nDocstring:     \\nfilter(function or None, iterable) --> filter object\\n'"
      ]
     },
     "execution_count": 47,
     "metadata": {},
     "output_type": "execute_result"
    }
   ],
   "source": [
    "# filter() 함수\n",
    "\n",
    "'''\n",
    "Init signature: filter(self, /, *args, **kwargs)\n",
    "Docstring:     \n",
    "filter(function or None, iterable) --> filter object\n",
    "'''"
   ]
  },
  {
   "cell_type": "code",
   "execution_count": 49,
   "id": "27a354ba",
   "metadata": {},
   "outputs": [
    {
     "data": {
      "text/plain": [
       "[1, 2, 3, 4]"
      ]
     },
     "execution_count": 49,
     "metadata": {},
     "output_type": "execute_result"
    }
   ],
   "source": [
    "list(filter(None, [1,2,3,4]))"
   ]
  },
  {
   "cell_type": "code",
   "execution_count": 57,
   "id": "a0ba3acf",
   "metadata": {},
   "outputs": [
    {
     "data": {
      "text/plain": [
       "[200, 300]"
      ]
     },
     "execution_count": 57,
     "metadata": {},
     "output_type": "execute_result"
    }
   ],
   "source": [
    "list(filter(lambda a: True if a > 100 else False, [100, 200, 300]))"
   ]
  },
  {
   "cell_type": "markdown",
   "id": "bac9fcba",
   "metadata": {},
   "source": [
    "### reduce 함수\n",
    "- 리스트 데이터를 처음부터 순서대로 특정 함수를 실행하여 결과를 누적시켜 주는 함수"
   ]
  },
  {
   "cell_type": "code",
   "execution_count": null,
   "id": "777cee11",
   "metadata": {},
   "outputs": [],
   "source": [
    "'''\n",
    "Docstring:\n",
    "reduce(function, sequence[, initial]) -> value\n",
    "\n",
    "Apply a function of two arguments cumulatively to the items of a sequence,\n",
    "from left to right, so as to reduce the sequence to a single value.\n",
    "For example, reduce(lambda x, y: x+y, [1, 2, 3, 4, 5]) calculates\n",
    "((((1+2)+3)+4)+5).  If initial is present, it is placed before the items\n",
    "of the sequence in the calculation, and serves as a default when the\n",
    "sequence is empty.\n",
    "Type:      builtin_function_or_method\n",
    "'''"
   ]
  },
  {
   "cell_type": "code",
   "execution_count": 66,
   "id": "882c8d22",
   "metadata": {},
   "outputs": [],
   "source": [
    "from functools import reduce"
   ]
  },
  {
   "cell_type": "code",
   "execution_count": 67,
   "id": "b200ff8a",
   "metadata": {},
   "outputs": [
    {
     "data": {
      "text/plain": [
       "720"
      ]
     },
     "execution_count": 67,
     "metadata": {},
     "output_type": "execute_result"
    }
   ],
   "source": [
    "reduce(lambda a,b: a*b, [1,2,3,4,5,6])"
   ]
  },
  {
   "cell_type": "code",
   "execution_count": null,
   "id": "c9200eeb",
   "metadata": {},
   "outputs": [],
   "source": []
  }
 ],
 "metadata": {
  "kernelspec": {
   "display_name": "Python 3",
   "language": "python",
   "name": "python3"
  },
  "language_info": {
   "codemirror_mode": {
    "name": "ipython",
    "version": 3
   },
   "file_extension": ".py",
   "mimetype": "text/x-python",
   "name": "python",
   "nbconvert_exporter": "python",
   "pygments_lexer": "ipython3",
   "version": "3.8.8"
  }
 },
 "nbformat": 4,
 "nbformat_minor": 5
}
