{
 "cells": [
  {
   "cell_type": "markdown",
   "id": "d53ea3ca",
   "metadata": {},
   "source": [
    "### 함수나 클래스 패키지 등의 기능 등을 설명하는 문자열 문장"
   ]
  },
  {
   "cell_type": "code",
   "execution_count": 6,
   "id": "f3c374fb",
   "metadata": {},
   "outputs": [],
   "source": [
    "def echo(arg1, arg2):\n",
    "    '''\n",
    "    # functions : this function return sum numeric\n",
    "    # params : arg1(int), arg2(int)\n",
    "    # return : int\n",
    "    '''\n",
    "    res = arg1 + arg2\n",
    "    return res"
   ]
  },
  {
   "cell_type": "code",
   "execution_count": 7,
   "id": "e033dafb",
   "metadata": {},
   "outputs": [
    {
     "data": {
      "text/plain": [
       "3"
      ]
     },
     "execution_count": 7,
     "metadata": {},
     "output_type": "execute_result"
    }
   ],
   "source": [
    "echo(1,2)"
   ]
  },
  {
   "cell_type": "code",
   "execution_count": 10,
   "id": "4537bb8f",
   "metadata": {},
   "outputs": [],
   "source": [
    "echo?"
   ]
  },
  {
   "cell_type": "code",
   "execution_count": 11,
   "id": "a3c5511b",
   "metadata": {},
   "outputs": [],
   "source": [
    "echo??"
   ]
  },
  {
   "cell_type": "code",
   "execution_count": 15,
   "id": "e9faf3c6",
   "metadata": {},
   "outputs": [
    {
     "name": "stdout",
     "output_type": "stream",
     "text": [
      "This functions docstring : \n",
      "\n",
      "    # functions : this function return sum numeric\n",
      "    # params : arg1(int), arg2(int)\n",
      "    # return : int\n",
      "    \n"
     ]
    }
   ],
   "source": [
    "print('This functions docstring : ',echo.__doc__, sep='\\n')"
   ]
  },
  {
   "cell_type": "code",
   "execution_count": 16,
   "id": "58fe2819",
   "metadata": {},
   "outputs": [
    {
     "name": "stdout",
     "output_type": "stream",
     "text": [
      "Help on function echo in module __main__:\n",
      "\n",
      "echo(arg1, arg2)\n",
      "    # functions : this function return sum numeric\n",
      "    # params : arg1(int), arg2(int)\n",
      "    # return : int\n",
      "\n"
     ]
    }
   ],
   "source": [
    "help(echo)"
   ]
  },
  {
   "cell_type": "code",
   "execution_count": null,
   "id": "17f0120b",
   "metadata": {},
   "outputs": [],
   "source": []
  }
 ],
 "metadata": {
  "kernelspec": {
   "display_name": "Python 3",
   "language": "python",
   "name": "python3"
  },
  "language_info": {
   "codemirror_mode": {
    "name": "ipython",
    "version": 3
   },
   "file_extension": ".py",
   "mimetype": "text/x-python",
   "name": "python",
   "nbconvert_exporter": "python",
   "pygments_lexer": "ipython3",
   "version": "3.8.8"
  }
 },
 "nbformat": 4,
 "nbformat_minor": 5
}
