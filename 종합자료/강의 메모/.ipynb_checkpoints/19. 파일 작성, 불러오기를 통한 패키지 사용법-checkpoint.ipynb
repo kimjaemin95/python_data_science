{
 "cells": [
  {
   "cell_type": "code",
   "execution_count": 4,
   "id": "46cabd11",
   "metadata": {},
   "outputs": [
    {
     "name": "stdout",
     "output_type": "stream",
     "text": [
      "1. zip �븿�닔 �궗�슜踰�.ipynb\n",
      "10. inner �븿�닔 �궗�슜�븯�뒗 諛⑸쾿.ipynb\n",
      "11. global, local scope �쁺�뿭.ipynb\n",
      "12. 肄쒕갚 �븿�닔(callback function) �궗�슜�븯�뒗 諛⑸쾿.ipynb\n",
      "13. Lambda �븿�닔 �궗�슜�븯�뒗 諛⑸쾿.ipynb\n",
      "14. map, filter, reduce �븿�닔 �궗�슜�븯�뒗 諛⑸쾿.ipynb\n",
      "15. Decorlator �궗�슜�븯�뒗 諛⑸쾿.ipynb\n",
      "16. class �궗�슜�븯�뒗 諛⑸쾿.ipynb\n",
      "17. class super(), getter, setter(), mangling() �궗�슜踰�.ipynb\n",
      "18. is a & has a �궗�슜踰�.ipynb\n",
      "19. �뙆�씪 �옉�꽦, 遺덈윭�삤湲곕�� �넻�븳 �뙣�궎吏� �궗�슜踰�.ipynb\n",
      "2. input �븿�닔 �궗�슜踰�.ipynb\n",
      "3. map �븿�닔 �궗�슜踰�.ipynb\n",
      "4. �궪�빆�뿰�궗�옄 �궗�슜踰�.ipynb\n",
      "5. list comprehension �궗�슜�븯�뒗 諛⑸쾿 & �씪諛� for臾멸낵 �냽�룄 鍮꾧탳.ipynb\n",
      "6. 二쇳뵾�꽣 �끂�듃遺곸뿉�꽌 %whos 紐낅졊�뼱 �궗�슜�븯�뒗 諛⑸쾿.ipynb\n",
      "7. �뙆�씪誘명꽣��� �븘洹쒕㉫�듃�쓽 李⑥씠�젏.ipynb\n",
      "8. �븿�닔�뿉�꽌 �븘�뒪�꽣由ъ뒪�겕(Asterisk)瑜� �궗�슜�븳 �븘洹쒕㉫�듃瑜� �꽆寃⑥＜�뒗 諛⑸쾿.ipynb\n",
      "9. Docstring �옉�꽦�븯�뒗 諛⑸쾿.ipynb\n"
     ]
    }
   ],
   "source": [
    "!ls"
   ]
  },
  {
   "cell_type": "code",
   "execution_count": 6,
   "id": "53c473ef",
   "metadata": {},
   "outputs": [],
   "source": [
    "! touch school/dss/__init__.py"
   ]
  },
  {
   "cell_type": "code",
   "execution_count": 8,
   "id": "fc4aa650",
   "metadata": {},
   "outputs": [],
   "source": [
    "! touch school/web/__init__.py"
   ]
  },
  {
   "cell_type": "code",
   "execution_count": 22,
   "id": "eefb9dc3",
   "metadata": {},
   "outputs": [
    {
     "name": "stdout",
     "output_type": "stream",
     "text": [
      "Folder PATH listing\n",
      "Volume serial number is 000000DF A479:D011\n",
      "D:\\CODE\\강의 메모\\SCHOOL\n",
      "├───dss\n",
      "└───web\n"
     ]
    }
   ],
   "source": [
    "! tree school"
   ]
  },
  {
   "cell_type": "code",
   "execution_count": 14,
   "id": "0ca12503",
   "metadata": {},
   "outputs": [
    {
     "name": "stdout",
     "output_type": "stream",
     "text": [
      "Writing school/dss/data1.py\n"
     ]
    }
   ],
   "source": [
    "%%writefile school/dss/data1.py\n",
    "\n",
    "def plus(*args):\n",
    "    print('data1')\n",
    "    print(type(args),args)\n",
    "    return sum(args)"
   ]
  },
  {
   "cell_type": "code",
   "execution_count": 15,
   "id": "74cff925",
   "metadata": {},
   "outputs": [
    {
     "name": "stdout",
     "output_type": "stream",
     "text": [
      "Writing school/dss/data2.py\n"
     ]
    }
   ],
   "source": [
    "%%writefile school/dss/data2.py\n",
    "\n",
    "def plus(*args):\n",
    "    print('data2')\n",
    "    print(type(args), args)\n",
    "    return sum(args)"
   ]
  },
  {
   "cell_type": "code",
   "execution_count": 40,
   "id": "3e21b9c9",
   "metadata": {},
   "outputs": [
    {
     "name": "stdout",
     "output_type": "stream",
     "text": [
      "Overwriting school/web/url.py\n"
     ]
    }
   ],
   "source": [
    "%%writefile school/web/url.py\n",
    "\n",
    "def make(url):\n",
    "    return url if url[:7] == 'http://' else 'http://'+url"
   ]
  },
  {
   "cell_type": "code",
   "execution_count": 26,
   "id": "3a869f04",
   "metadata": {},
   "outputs": [
    {
     "name": "stdout",
     "output_type": "stream",
     "text": [
      "Too many parameters - school/\n"
     ]
    }
   ],
   "source": [
    "!tree school/"
   ]
  },
  {
   "cell_type": "code",
   "execution_count": 28,
   "id": "7fa54703",
   "metadata": {},
   "outputs": [
    {
     "name": "stdout",
     "output_type": "stream",
     "text": [
      "Once deleted, variables cannot be recovered. Proceed (y/[n])? y\n"
     ]
    }
   ],
   "source": [
    "%reset"
   ]
  },
  {
   "cell_type": "code",
   "execution_count": 37,
   "id": "02d7fe3a",
   "metadata": {},
   "outputs": [],
   "source": [
    "import school.dss.data1 as dss"
   ]
  },
  {
   "cell_type": "code",
   "execution_count": 38,
   "id": "e7bbcef6",
   "metadata": {},
   "outputs": [
    {
     "name": "stdout",
     "output_type": "stream",
     "text": [
      "data1\n",
      "<class 'tuple'> (1, 2, 3)\n"
     ]
    },
    {
     "data": {
      "text/plain": [
       "6"
      ]
     },
     "execution_count": 38,
     "metadata": {},
     "output_type": "execute_result"
    }
   ],
   "source": [
    "dss.plus(1,2,3)"
   ]
  },
  {
   "cell_type": "code",
   "execution_count": 41,
   "id": "3d669871",
   "metadata": {},
   "outputs": [],
   "source": [
    "from school.web import url"
   ]
  },
  {
   "cell_type": "code",
   "execution_count": 42,
   "id": "a2350a83",
   "metadata": {},
   "outputs": [
    {
     "data": {
      "text/plain": [
       "'http://google.com'"
      ]
     },
     "execution_count": 42,
     "metadata": {},
     "output_type": "execute_result"
    }
   ],
   "source": [
    "url.make(\"google.com\")"
   ]
  },
  {
   "cell_type": "code",
   "execution_count": 43,
   "id": "3879e493",
   "metadata": {},
   "outputs": [
    {
     "data": {
      "text/plain": [
       "'http://google.com'"
      ]
     },
     "execution_count": 43,
     "metadata": {},
     "output_type": "execute_result"
    }
   ],
   "source": [
    "url.make(\"http://google.com\")"
   ]
  },
  {
   "cell_type": "markdown",
   "id": "dd270164",
   "metadata": {},
   "source": [
    "### 패키지의 위치\n",
    "- 특정 디렉토리에 있는 패키지는 어디에서나 import 가능"
   ]
  },
  {
   "cell_type": "code",
   "execution_count": 45,
   "id": "4a502a74",
   "metadata": {},
   "outputs": [],
   "source": [
    "import random"
   ]
  },
  {
   "cell_type": "code",
   "execution_count": 48,
   "id": "352a4ce0",
   "metadata": {},
   "outputs": [
    {
     "name": "stdout",
     "output_type": "stream",
     "text": [
      "D:\\Code\\강의 메모\n",
      "C:\\Users\\jmkim\\anaconda3\\python38.zip\n",
      "C:\\Users\\jmkim\\anaconda3\\DLLs\n",
      "C:\\Users\\jmkim\\anaconda3\\lib\n",
      "C:\\Users\\jmkim\\anaconda3\n",
      "\n",
      "C:\\Users\\jmkim\\anaconda3\\lib\\site-packages\n",
      "C:\\Users\\jmkim\\anaconda3\\lib\\site-packages\\locket-0.2.1-py3.8.egg\n",
      "C:\\Users\\jmkim\\anaconda3\\lib\\site-packages\\win32\n",
      "C:\\Users\\jmkim\\anaconda3\\lib\\site-packages\\win32\\lib\n",
      "C:\\Users\\jmkim\\anaconda3\\lib\\site-packages\\Pythonwin\n",
      "C:\\Users\\jmkim\\anaconda3\\lib\\site-packages\\IPython\\extensions\n",
      "C:\\Users\\jmkim\\.ipython\n"
     ]
    }
   ],
   "source": [
    "import sys\n",
    "\n",
    "for path in sys.path:\n",
    "    print(path)"
   ]
  },
  {
   "cell_type": "code",
   "execution_count": 51,
   "id": "962acf85",
   "metadata": {},
   "outputs": [
    {
     "name": "stdout",
     "output_type": "stream",
     "text": [
      "__future__.py\n",
      "__phello__.foo.py\n",
      "__pycache__\n",
      "_bootlocale.py\n",
      "_collections_abc.py\n",
      "_compat_pickle.py\n",
      "_compression.py\n",
      "_dummy_thread.py\n",
      "_markupbase.py\n",
      "_nsis.py\n",
      "_osx_support.py\n",
      "_py_abc.py\n",
      "_pydecimal.py\n",
      "_pyio.py\n",
      "_sitebuiltins.py\n",
      "_strptime.py\n",
      "_system_path.py\n",
      "_threading_local.py\n",
      "_weakrefset.py\n",
      "abc.py\n",
      "address_sorting.lib\n",
      "aifc.py\n",
      "antigravity.py\n",
      "argparse.py\n",
      "ast.py\n",
      "asynchat.py\n",
      "asyncio\n",
      "asyncore.py\n",
      "base64.py\n",
      "bdb.py\n",
      "binhex.py\n",
      "bisect.py\n",
      "bz2.py\n",
      "cProfile.py\n",
      "calendar.py\n",
      "cgi.py\n",
      "cgitb.py\n",
      "chunk.py\n",
      "cmake\n",
      "cmd.py\n",
      "code.py\n",
      "codecs.py\n",
      "codeop.py\n",
      "collections\n",
      "colorsys.py\n",
      "compileall.py\n",
      "concurrent\n",
      "configparser.py\n",
      "contextlib.py\n",
      "contextvars.py\n",
      "copy.py\n",
      "copyreg.py\n",
      "crypt.py\n",
      "csv.py\n",
      "ctypes\n",
      "curses\n",
      "dataclasses.py\n",
      "datetime.py\n",
      "dbm\n",
      "decimal.py\n",
      "difflib.py\n",
      "dis.py\n",
      "distutils\n",
      "doctest.py\n",
      "dummy_threading.py\n",
      "email\n",
      "encodings\n",
      "ensurepip\n",
      "enum.py\n",
      "filecmp.py\n",
      "fileinput.py\n",
      "fnmatch.py\n",
      "formatter.py\n",
      "fractions.py\n",
      "ftplib.py\n",
      "functools.py\n",
      "genericpath.py\n",
      "getopt.py\n",
      "getpass.py\n",
      "gettext.py\n",
      "glob.py\n",
      "gpr.lib\n",
      "grpc++.lib\n",
      "grpc++_error_details.lib\n",
      "grpc++_reflection.lib\n",
      "grpc++_unsecure.lib\n",
      "grpc.lib\n",
      "grpc_cronet.lib\n",
      "grpc_csharp_ext.lib\n",
      "grpc_plugin_support.lib\n",
      "grpc_unsecure.lib\n",
      "grpcpp_channelz.lib\n",
      "gzip.py\n",
      "hashlib.py\n",
      "heapq.py\n",
      "hmac.py\n",
      "html\n",
      "http\n",
      "idlelib\n",
      "imaplib.py\n",
      "imghdr.py\n",
      "imp.py\n",
      "importlib\n",
      "inspect.py\n",
      "io.py\n",
      "ipaddress.py\n",
      "json\n",
      "keyword.py\n",
      "lib2to3\n",
      "libLIEF.dll\n",
      "libLIEF.lib\n",
      "linecache.py\n",
      "locale.py\n",
      "logging\n",
      "lzma.py\n",
      "mailbox.py\n",
      "mailcap.py\n",
      "mimetypes.py\n",
      "modulefinder.py\n",
      "msilib\n",
      "multiprocessing\n",
      "netrc.py\n",
      "nntplib.py\n",
      "ntpath.py\n",
      "nturl2path.py\n",
      "numbers.py\n",
      "opcode.py\n",
      "operator.py\n",
      "optparse.py\n",
      "os.py\n",
      "pathlib.py\n",
      "pdb.py\n",
      "pickle.py\n",
      "pickletools.py\n",
      "pipes.py\n",
      "pkgconfig\n",
      "pkgutil.py\n",
      "platform.py\n",
      "plistlib.py\n",
      "poplib.py\n",
      "posixpath.py\n",
      "pprint.py\n",
      "profile.py\n",
      "pstats.py\n",
      "pty.py\n",
      "py_compile.py\n",
      "pyclbr.py\n",
      "pydoc.py\n",
      "pydoc_data\n",
      "queue.py\n",
      "quopri.py\n",
      "random.py\n",
      "re.py\n",
      "reprlib.py\n",
      "rlcompleter.py\n",
      "runpy.py\n",
      "sched.py\n",
      "secrets.py\n",
      "selectors.py\n",
      "shelve.py\n",
      "shlex.py\n",
      "shutil.py\n",
      "signal.py\n",
      "site-packages\n",
      "site.py\n",
      "smtpd.py\n",
      "smtplib.py\n",
      "sndhdr.py\n",
      "socket.py\n",
      "socketserver.py\n",
      "sqlite3\n",
      "sre_compile.py\n",
      "sre_constants.py\n",
      "sre_parse.py\n",
      "ssl.py\n",
      "stat.py\n",
      "statistics.py\n",
      "string.py\n",
      "stringprep.py\n",
      "struct.py\n",
      "subprocess.py\n",
      "sunau.py\n",
      "symbol.py\n",
      "symtable.py\n",
      "sysconfig.py\n",
      "tabnanny.py\n",
      "tarfile.py\n",
      "telnetlib.py\n",
      "tempfile.py\n",
      "test\n",
      "textwrap.py\n",
      "this.py\n",
      "threading.py\n",
      "timeit.py\n",
      "tkinter\n",
      "token.py\n",
      "tokenize.py\n",
      "trace.py\n",
      "traceback.py\n",
      "tracemalloc.py\n",
      "tty.py\n",
      "turtle.py\n",
      "turtledemo\n",
      "types.py\n",
      "typing.py\n",
      "unittest\n",
      "upb.lib\n",
      "urllib\n",
      "uu.py\n",
      "uuid.py\n",
      "venv\n",
      "warnings.py\n",
      "wave.py\n",
      "weakref.py\n",
      "webbrowser.py\n",
      "wsgiref\n",
      "xdrlib.py\n",
      "xml\n",
      "xmlrpc\n",
      "zipapp.py\n",
      "zipfile.py\n",
      "zipimport.py\n"
     ]
    }
   ],
   "source": [
    "!ls C:\\Users\\jmkim\\anaconda3\\lib"
   ]
  },
  {
   "cell_type": "markdown",
   "id": "39bbaee5",
   "metadata": {},
   "source": [
    "### setup.pu 를 작성해서 패키지를 설치해서 사용\n",
    "### setuptools를 이용"
   ]
  },
  {
   "cell_type": "code",
   "execution_count": 56,
   "id": "8b02c90b",
   "metadata": {},
   "outputs": [
    {
     "name": "stdout",
     "output_type": "stream",
     "text": [
      "Once deleted, variables cannot be recovered. Proceed (y/[n])? y\n"
     ]
    }
   ],
   "source": [
    "%reset"
   ]
  },
  {
   "cell_type": "code",
   "execution_count": 61,
   "id": "7757ee60",
   "metadata": {},
   "outputs": [
    {
     "name": "stdout",
     "output_type": "stream",
     "text": [
      "Overwriting school/setup.py\n"
     ]
    }
   ],
   "source": [
    "%%writefile school/setup.py\n",
    "\n",
    "from setuptools import setup, find_packages\n",
    "\n",
    "setup(\n",
    "    name = 'dss',\n",
    "    packages=find_packages(),\n",
    "    include_package_data=True, # 패키지 데이터를 모두 포함시킨다.\n",
    "    version='0.0.1',\n",
    "    author_email='todaybow@naver.com',\n",
    "    zip_safe=False,    \n",
    ")"
   ]
  },
  {
   "cell_type": "code",
   "execution_count": 59,
   "id": "da3b67d9",
   "metadata": {},
   "outputs": [
    {
     "name": "stdout",
     "output_type": "stream",
     "text": [
      "pip        18.1   \n"
     ]
    },
    {
     "name": "stderr",
     "output_type": "stream",
     "text": [
      "You are using pip version 18.1, however version 21.2.4 is available.\n",
      "You should consider upgrading via the 'python -m pip install --upgrade pip' command.\n"
     ]
    }
   ],
   "source": [
    "# 패키지 설치 확인\n",
    "!pip list | grep 'pip'"
   ]
  },
  {
   "cell_type": "code",
   "execution_count": 60,
   "id": "90aa3ec0",
   "metadata": {},
   "outputs": [
    {
     "name": "stdout",
     "output_type": "stream",
     "text": [
      "pandas                    1.2.4            py38hd77b12b_0  \n"
     ]
    }
   ],
   "source": [
    "# 패키지 설치 확인\n",
    "!conda list | grep 'pandas'"
   ]
  },
  {
   "cell_type": "code",
   "execution_count": null,
   "id": "a063fec9",
   "metadata": {},
   "outputs": [],
   "source": [
    "# 패키지 설치하기\n",
    "# 주피터가 아닌 터미널(git bash)에서 진행하기\n",
    "\n"
   ]
  }
 ],
 "metadata": {
  "kernelspec": {
   "display_name": "Python 3",
   "language": "python",
   "name": "python3"
  },
  "language_info": {
   "codemirror_mode": {
    "name": "ipython",
    "version": 3
   },
   "file_extension": ".py",
   "mimetype": "text/x-python",
   "name": "python",
   "nbconvert_exporter": "python",
   "pygments_lexer": "ipython3",
   "version": "3.8.8"
  }
 },
 "nbformat": 4,
 "nbformat_minor": 5
}
