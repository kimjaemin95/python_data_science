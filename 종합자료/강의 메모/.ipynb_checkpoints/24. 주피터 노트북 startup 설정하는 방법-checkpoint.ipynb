{
 "cells": [
  {
   "cell_type": "markdown",
   "id": "2c3ff08e",
   "metadata": {},
   "source": [
    "### ipython 설정\n",
    "- startup 파일 설정\n",
    "    - 주피터 노트북 실행시 미리 실행되는 코드 설정\n",
    "    - 설정 방법\n",
    "        - 프로필 파일 생성 : \n",
    "            -`$ ipython profile create`\n",
    "        - startup 파일 수정 : \n",
    "            -`$ vi /c/Users/jmkim/.ipython/profile_default/startup/00-first.py`\n",
    "        - inline backend config\n",
    "            `$ vi /c/Users/jmkim/.ipython/profile_default/ipython_kernel_config.py`"
   ]
  },
  {
   "cell_type": "code",
   "execution_count": 3,
   "id": "31b4c54f",
   "metadata": {},
   "outputs": [
    {
     "data": {
      "text/plain": [
       "'\\n# base\\nimport time\\nimport random\\n\\n# data analytics\\nimport numpy as np\\nimport pandas as pd\\n\\n# web crawling\\nimport request\\nfrom bs4 import BeautifulSoup\\n\\n# visulazation\\nimport matplotlib as mpl\\nimport matplotlib.pyplot as plt\\nimport seaborn as sns\\n\\nsns.set()\\n'"
      ]
     },
     "execution_count": 3,
     "metadata": {},
     "output_type": "execute_result"
    }
   ],
   "source": [
    "# 00-first.py\n",
    "'''\n",
    "# base\n",
    "import time\n",
    "import random\n",
    "\n",
    "# data analytics\n",
    "import numpy as np\n",
    "import pandas as pd\n",
    "\n",
    "# web crawling\n",
    "import request\n",
    "from bs4 import BeautifulSoup\n",
    "\n",
    "# visulazation\n",
    "import matplotlib as mpl\n",
    "import matplotlib.pyplot as plt\n",
    "import seaborn as sns\n",
    "\n",
    "sns.set()\n",
    "'''"
   ]
  },
  {
   "cell_type": "code",
   "execution_count": null,
   "id": "3882d289",
   "metadata": {},
   "outputs": [],
   "source": [
    "# ipython_kernel_config.py`\n",
    "'''\n",
    "c.IPKernelApp.matplotlib='inline'\n",
    "c.InlineBackend.figure_format='retina'\n",
    "'''"
   ]
  }
 ],
 "metadata": {
  "kernelspec": {
   "display_name": "Python 3",
   "language": "python",
   "name": "python3"
  },
  "language_info": {
   "codemirror_mode": {
    "name": "ipython",
    "version": 3
   },
   "file_extension": ".py",
   "mimetype": "text/x-python",
   "name": "python",
   "nbconvert_exporter": "python",
   "pygments_lexer": "ipython3",
   "version": "3.8.8"
  }
 },
 "nbformat": 4,
 "nbformat_minor": 5
}
