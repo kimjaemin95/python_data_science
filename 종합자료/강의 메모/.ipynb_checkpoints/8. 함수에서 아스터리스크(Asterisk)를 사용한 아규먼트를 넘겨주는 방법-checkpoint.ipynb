{
 "cells": [
  {
   "cell_type": "markdown",
   "id": "dcd48b31",
   "metadata": {},
   "source": [
    "### 함수에서 아스터리스크를 사용하여 아규먼트 넘겨주는 방법\n",
    "- `*`\n",
    "- `*`변수이름 형태로 아규먼트로 넘겨준다"
   ]
  },
  {
   "cell_type": "code",
   "execution_count": 2,
   "id": "a26fece5",
   "metadata": {},
   "outputs": [],
   "source": [
    "def func1(num1, num2, num3):\n",
    "    return num1 + num2 + num3"
   ]
  },
  {
   "cell_type": "code",
   "execution_count": 3,
   "id": "a7121f6c",
   "metadata": {},
   "outputs": [
    {
     "data": {
      "text/plain": [
       "6"
      ]
     },
     "execution_count": 3,
     "metadata": {},
     "output_type": "execute_result"
    }
   ],
   "source": [
    "data = [1,2,3]\n",
    "func1(*data)"
   ]
  },
  {
   "cell_type": "code",
   "execution_count": 4,
   "id": "4bb4971f",
   "metadata": {},
   "outputs": [],
   "source": [
    "def func2(num1, num2, num3):\n",
    "    return num1 * num2 * num3"
   ]
  },
  {
   "cell_type": "code",
   "execution_count": 6,
   "id": "41a6d8d3",
   "metadata": {},
   "outputs": [
    {
     "data": {
      "text/plain": [
       "6"
      ]
     },
     "execution_count": 6,
     "metadata": {},
     "output_type": "execute_result"
    }
   ],
   "source": [
    "data = {'num1':1,'num2':2,'num3':3}\n",
    "func2(**data)"
   ]
  },
  {
   "cell_type": "code",
   "execution_count": 7,
   "id": "beae5d58",
   "metadata": {},
   "outputs": [
    {
     "name": "stdout",
     "output_type": "stream",
     "text": [
      "Once deleted, variables cannot be recovered. Proceed (y/[n])? y\n"
     ]
    }
   ],
   "source": [
    "%reset"
   ]
  },
  {
   "cell_type": "code",
   "execution_count": 8,
   "id": "87f18d24",
   "metadata": {},
   "outputs": [
    {
     "name": "stdout",
     "output_type": "stream",
     "text": [
      "Interactive namespace is empty.\n"
     ]
    }
   ],
   "source": [
    "%whos"
   ]
  },
  {
   "cell_type": "code",
   "execution_count": null,
   "id": "89c9e659",
   "metadata": {},
   "outputs": [],
   "source": []
  }
 ],
 "metadata": {
  "kernelspec": {
   "display_name": "Python 3",
   "language": "python",
   "name": "python3"
  },
  "language_info": {
   "codemirror_mode": {
    "name": "ipython",
    "version": 3
   },
   "file_extension": ".py",
   "mimetype": "text/x-python",
   "name": "python",
   "nbconvert_exporter": "python",
   "pygments_lexer": "ipython3",
   "version": "3.8.8"
  }
 },
 "nbformat": 4,
 "nbformat_minor": 5
}
