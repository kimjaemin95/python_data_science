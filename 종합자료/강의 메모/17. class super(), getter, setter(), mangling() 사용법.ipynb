{
 "cells": [
  {
   "cell_type": "markdown",
   "id": "e3a9c907",
   "metadata": {},
   "source": [
    "### 클래스 super() 사용법"
   ]
  },
  {
   "cell_type": "code",
   "execution_count": 27,
   "id": "a0812cc5",
   "metadata": {},
   "outputs": [],
   "source": [
    "class Master:\n",
    "    def __init__(self, a, b):\n",
    "        self.a = a\n",
    "        self.b = b\n",
    "        \n",
    "    def echo(self):\n",
    "        print(\"This is echo function in Master class\")"
   ]
  },
  {
   "cell_type": "code",
   "execution_count": 28,
   "id": "bc738473",
   "metadata": {},
   "outputs": [],
   "source": [
    "master = Master(1, 2)"
   ]
  },
  {
   "cell_type": "code",
   "execution_count": 29,
   "id": "d89de501",
   "metadata": {},
   "outputs": [
    {
     "name": "stdout",
     "output_type": "stream",
     "text": [
      "This is echo function in Master class\n"
     ]
    }
   ],
   "source": [
    "master.echo()"
   ]
  },
  {
   "cell_type": "code",
   "execution_count": 30,
   "id": "0ec491fe",
   "metadata": {},
   "outputs": [],
   "source": [
    "class Subber(Master):\n",
    "    def super_printing(self):\n",
    "        super().echo()\n",
    "        print('-'*50)"
   ]
  },
  {
   "cell_type": "code",
   "execution_count": 31,
   "id": "98507e42",
   "metadata": {},
   "outputs": [],
   "source": [
    "subber = Subber(1, 2)"
   ]
  },
  {
   "cell_type": "code",
   "execution_count": 32,
   "id": "44643db6",
   "metadata": {},
   "outputs": [
    {
     "name": "stdout",
     "output_type": "stream",
     "text": [
      "This is echo function in Master class\n",
      "--------------------------------------------------\n"
     ]
    }
   ],
   "source": [
    "subber.super_printing()"
   ]
  },
  {
   "cell_type": "markdown",
   "id": "b30c38c0",
   "metadata": {},
   "source": [
    "### 클래스 getter(), setter(), mangling() 상용법"
   ]
  },
  {
   "cell_type": "code",
   "execution_count": 97,
   "id": "2737719c",
   "metadata": {},
   "outputs": [],
   "source": [
    "class Master:\n",
    "    def __init__(self, a):\n",
    "        self.__a = a\n",
    "        \n",
    "    def getter(self):\n",
    "        return self.__a\n",
    "    \n",
    "    def setter(self, set_a):\n",
    "        print(\"Setter 함수가 호출 되었습니다.\")\n",
    "        self.__a = set_a\n",
    "        \n",
    "    def __function_magling(self):\n",
    "        return 'test'\n",
    "    \n",
    "    def test(self):\n",
    "        pp\n",
    "        return 'test2'\n",
    "    \n",
    "    val_a = property(getter, setter)"
   ]
  },
  {
   "cell_type": "code",
   "execution_count": 98,
   "id": "df53a5a5",
   "metadata": {},
   "outputs": [],
   "source": [
    "master = Master(10)"
   ]
  },
  {
   "cell_type": "code",
   "execution_count": 99,
   "id": "8335d81a",
   "metadata": {},
   "outputs": [
    {
     "name": "stdout",
     "output_type": "stream",
     "text": [
      "Setter 함수가 호출 되었습니다.\n"
     ]
    }
   ],
   "source": [
    "master.val_a = 1100"
   ]
  },
  {
   "cell_type": "code",
   "execution_count": 100,
   "id": "0b44522f",
   "metadata": {},
   "outputs": [],
   "source": [
    "master._Master__a = 10"
   ]
  },
  {
   "cell_type": "code",
   "execution_count": 101,
   "id": "7bd2637f",
   "metadata": {},
   "outputs": [
    {
     "data": {
      "text/plain": [
       "10"
      ]
     },
     "execution_count": 101,
     "metadata": {},
     "output_type": "execute_result"
    }
   ],
   "source": [
    "master.val_a"
   ]
  },
  {
   "cell_type": "code",
   "execution_count": 102,
   "id": "fea4e1a3",
   "metadata": {},
   "outputs": [
    {
     "data": {
      "text/plain": [
       "{'_Master__a': 10}"
      ]
     },
     "execution_count": 102,
     "metadata": {},
     "output_type": "execute_result"
    }
   ],
   "source": [
    "master.__dict__"
   ]
  },
  {
   "cell_type": "code",
   "execution_count": 104,
   "id": "d1dc4feb",
   "metadata": {},
   "outputs": [
    {
     "ename": "AttributeError",
     "evalue": "'Master' object has no attribute '__function_magling'",
     "output_type": "error",
     "traceback": [
      "\u001b[1;31m---------------------------------------------------------------------------\u001b[0m",
      "\u001b[1;31mAttributeError\u001b[0m                            Traceback (most recent call last)",
      "\u001b[1;32m<ipython-input-104-9fac6d798aef>\u001b[0m in \u001b[0;36m<module>\u001b[1;34m\u001b[0m\n\u001b[1;32m----> 1\u001b[1;33m \u001b[0mmaster\u001b[0m\u001b[1;33m.\u001b[0m\u001b[0m__function_magling\u001b[0m\u001b[1;33m(\u001b[0m\u001b[1;33m)\u001b[0m\u001b[1;33m\u001b[0m\u001b[1;33m\u001b[0m\u001b[0m\n\u001b[0m",
      "\u001b[1;31mAttributeError\u001b[0m: 'Master' object has no attribute '__function_magling'"
     ]
    }
   ],
   "source": [
    "master.__function_magling()"
   ]
  },
  {
   "cell_type": "code",
   "execution_count": null,
   "id": "71ffa9e6",
   "metadata": {},
   "outputs": [],
   "source": []
  }
 ],
 "metadata": {
  "kernelspec": {
   "display_name": "Python 3",
   "language": "python",
   "name": "python3"
  },
  "language_info": {
   "codemirror_mode": {
    "name": "ipython",
    "version": 3
   },
   "file_extension": ".py",
   "mimetype": "text/x-python",
   "name": "python",
   "nbconvert_exporter": "python",
   "pygments_lexer": "ipython3",
   "version": "3.8.8"
  }
 },
 "nbformat": 4,
 "nbformat_minor": 5
}
