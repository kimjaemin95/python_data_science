{
 "cells": [
  {
   "cell_type": "code",
   "execution_count": 9,
   "id": "cdbe64e4",
   "metadata": {},
   "outputs": [],
   "source": [
    "gv = 100"
   ]
  },
  {
   "cell_type": "code",
   "execution_count": 10,
   "id": "9f07d76d",
   "metadata": {},
   "outputs": [],
   "source": [
    "def echo():\n",
    "    gv = 10\n",
    "    print(gv)\n",
    "    return gv"
   ]
  },
  {
   "cell_type": "code",
   "execution_count": 11,
   "id": "4b609919",
   "metadata": {},
   "outputs": [
    {
     "data": {
      "text/plain": [
       "100"
      ]
     },
     "execution_count": 11,
     "metadata": {},
     "output_type": "execute_result"
    }
   ],
   "source": [
    "gv"
   ]
  },
  {
   "cell_type": "code",
   "execution_count": 12,
   "id": "e5f52716",
   "metadata": {},
   "outputs": [
    {
     "name": "stdout",
     "output_type": "stream",
     "text": [
      "10\n"
     ]
    },
    {
     "data": {
      "text/plain": [
       "10"
      ]
     },
     "execution_count": 12,
     "metadata": {},
     "output_type": "execute_result"
    }
   ],
   "source": [
    "echo()"
   ]
  },
  {
   "cell_type": "code",
   "execution_count": 13,
   "id": "95e06d91",
   "metadata": {},
   "outputs": [],
   "source": [
    "def echo():\n",
    "    global gv\n",
    "    print(gv)\n",
    "    return gv"
   ]
  },
  {
   "cell_type": "code",
   "execution_count": 14,
   "id": "e9bf6f0a",
   "metadata": {},
   "outputs": [
    {
     "name": "stdout",
     "output_type": "stream",
     "text": [
      "100\n"
     ]
    },
    {
     "data": {
      "text/plain": [
       "100"
      ]
     },
     "execution_count": 14,
     "metadata": {},
     "output_type": "execute_result"
    }
   ],
   "source": [
    "echo()"
   ]
  },
  {
   "cell_type": "code",
   "execution_count": null,
   "id": "51aa4c90",
   "metadata": {},
   "outputs": [],
   "source": []
  }
 ],
 "metadata": {
  "kernelspec": {
   "display_name": "Python 3",
   "language": "python",
   "name": "python3"
  },
  "language_info": {
   "codemirror_mode": {
    "name": "ipython",
    "version": 3
   },
   "file_extension": ".py",
   "mimetype": "text/x-python",
   "name": "python",
   "nbconvert_exporter": "python",
   "pygments_lexer": "ipython3",
   "version": "3.8.8"
  }
 },
 "nbformat": 4,
 "nbformat_minor": 5
}
