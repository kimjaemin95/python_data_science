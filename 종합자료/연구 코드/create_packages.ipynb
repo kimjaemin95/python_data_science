{
 "cells": [
  {
   "cell_type": "code",
   "execution_count": null,
   "id": "ff83d30c",
   "metadata": {},
   "outputs": [],
   "source": [
    "! pwd"
   ]
  },
  {
   "cell_type": "code",
   "execution_count": 34,
   "id": "c34947af",
   "metadata": {},
   "outputs": [
    {
     "name": "stdout",
     "output_type": "stream",
     "text": [
      "Folder PATH listing\n",
      "Volume serial number is A479-D011\n",
      "D:.\n",
      "├───.ipynb_checkpoints\n",
      "└───school\n",
      "    ├───dss\n",
      "    └───web\n"
     ]
    }
   ],
   "source": [
    "!tree"
   ]
  },
  {
   "cell_type": "code",
   "execution_count": null,
   "id": "45fb8b14",
   "metadata": {},
   "outputs": [],
   "source": [
    "# make directories \n",
    "%mkdir -p school/dss/\n",
    "%mkdir -p school/web/"
   ]
  },
  {
   "cell_type": "code",
   "execution_count": null,
   "id": "daca13b4",
   "metadata": {},
   "outputs": [],
   "source": [
    "!mkdir school"
   ]
  },
  {
   "cell_type": "code",
   "execution_count": null,
   "id": "e708cc02",
   "metadata": {},
   "outputs": [],
   "source": [
    "!cd school/ && mkdir dss"
   ]
  },
  {
   "cell_type": "code",
   "execution_count": 23,
   "id": "cf748f51",
   "metadata": {},
   "outputs": [],
   "source": [
    "!cd school/ && mkdir web"
   ]
  },
  {
   "cell_type": "code",
   "execution_count": 27,
   "id": "b1b981cd",
   "metadata": {},
   "outputs": [],
   "source": [
    "!touch school/dss/__init__.py\n",
    "!touch school/web/__init__.py"
   ]
  },
  {
   "cell_type": "code",
   "execution_count": 35,
   "id": "3fcd29d6",
   "metadata": {},
   "outputs": [
    {
     "name": "stdout",
     "output_type": "stream",
     "text": [
      "Writing school/dss/data1.py\n"
     ]
    }
   ],
   "source": [
    "%%writefile school/dss/data1.py\n",
    "\n",
    "def plus(*args):\n",
    "    print('data1')\n",
    "    print(type(args),args)\n",
    "    return sum(args)"
   ]
  },
  {
   "cell_type": "code",
   "execution_count": 36,
   "id": "e58f8743",
   "metadata": {},
   "outputs": [
    {
     "name": "stdout",
     "output_type": "stream",
     "text": [
      "Writing school/dss/data2.py\n"
     ]
    }
   ],
   "source": [
    "%%writefile school/dss/data2.py\n",
    "\n",
    "def plus(*args):\n",
    "    print('data2')\n",
    "    print(type(args), args)\n",
    "    return sum(args)"
   ]
  },
  {
   "cell_type": "code",
   "execution_count": 37,
   "id": "1b4fae78",
   "metadata": {},
   "outputs": [
    {
     "name": "stdout",
     "output_type": "stream",
     "text": [
      "Writing school/web/url.py\n"
     ]
    }
   ],
   "source": [
    "%%writefile school/web/url.py\n",
    "\n",
    "def make(url):\n",
    "    return url if url[:7] == 'http://' else 'http://'+url"
   ]
  },
  {
   "cell_type": "code",
   "execution_count": 42,
   "id": "a4ef9d85",
   "metadata": {},
   "outputs": [
    {
     "name": "stdout",
     "output_type": "stream",
     "text": [
      "Folder PATH listing\n",
      "Volume serial number is 00000035 A479:D011\n",
      "D:\\CODE\\RESEARCH\n",
      "├───.ipynb_checkpoints\n",
      "└───school\n",
      "    ├───dss\n",
      "    └───web\n"
     ]
    }
   ],
   "source": [
    "!tree ./"
   ]
  },
  {
   "cell_type": "code",
   "execution_count": 43,
   "id": "844f46d4",
   "metadata": {},
   "outputs": [],
   "source": [
    "import school.dss.data1 as dss"
   ]
  },
  {
   "cell_type": "code",
   "execution_count": 44,
   "id": "207e0d2c",
   "metadata": {},
   "outputs": [
    {
     "name": "stdout",
     "output_type": "stream",
     "text": [
      "data1\n",
      "<class 'tuple'> (1, 2, 3, 4, 5)\n"
     ]
    },
    {
     "data": {
      "text/plain": [
       "15"
      ]
     },
     "execution_count": 44,
     "metadata": {},
     "output_type": "execute_result"
    }
   ],
   "source": [
    "dss.plus(1,2,3,4,5)"
   ]
  },
  {
   "cell_type": "markdown",
   "id": "0fab6aa7",
   "metadata": {},
   "source": [
    "### 패키지의 위치\n",
    "- 특정 디렉토리에 있는 패키지는 어디에서나 import 가능"
   ]
  },
  {
   "cell_type": "code",
   "execution_count": 45,
   "id": "ffbae215",
   "metadata": {},
   "outputs": [
    {
     "name": "stdout",
     "output_type": "stream",
     "text": [
      "D:\\Code\\research\n",
      "C:\\Users\\jmkim\\anaconda3\\python38.zip\n",
      "C:\\Users\\jmkim\\anaconda3\\DLLs\n",
      "C:\\Users\\jmkim\\anaconda3\\lib\n",
      "C:\\Users\\jmkim\\anaconda3\n",
      "\n",
      "C:\\Users\\jmkim\\anaconda3\\lib\\site-packages\n",
      "C:\\Users\\jmkim\\anaconda3\\lib\\site-packages\\locket-0.2.1-py3.8.egg\n",
      "C:\\Users\\jmkim\\anaconda3\\lib\\site-packages\\win32\n",
      "C:\\Users\\jmkim\\anaconda3\\lib\\site-packages\\win32\\lib\n",
      "C:\\Users\\jmkim\\anaconda3\\lib\\site-packages\\Pythonwin\n",
      "C:\\Users\\jmkim\\anaconda3\\lib\\site-packages\\IPython\\extensions\n",
      "C:\\Users\\jmkim\\.ipython\n"
     ]
    }
   ],
   "source": [
    "import sys\n",
    "\n",
    "for path in sys.path:\n",
    "    print(path)"
   ]
  },
  {
   "cell_type": "code",
   "execution_count": 46,
   "id": "0abaa156",
   "metadata": {},
   "outputs": [
    {
     "name": "stdout",
     "output_type": "stream",
     "text": [
      "__future__.py\n",
      "__phello__.foo.py\n",
      "__pycache__\n",
      "_bootlocale.py\n",
      "_collections_abc.py\n",
      "_compat_pickle.py\n",
      "_compression.py\n",
      "_dummy_thread.py\n",
      "_markupbase.py\n",
      "_nsis.py\n",
      "_osx_support.py\n",
      "_py_abc.py\n",
      "_pydecimal.py\n",
      "_pyio.py\n",
      "_sitebuiltins.py\n",
      "_strptime.py\n",
      "_system_path.py\n",
      "_threading_local.py\n",
      "_weakrefset.py\n",
      "abc.py\n",
      "address_sorting.lib\n",
      "aifc.py\n",
      "antigravity.py\n",
      "argparse.py\n",
      "ast.py\n",
      "asynchat.py\n",
      "asyncio\n",
      "asyncore.py\n",
      "base64.py\n",
      "bdb.py\n",
      "binhex.py\n",
      "bisect.py\n",
      "bz2.py\n",
      "cProfile.py\n",
      "calendar.py\n",
      "cgi.py\n",
      "cgitb.py\n",
      "chunk.py\n",
      "cmake\n",
      "cmd.py\n",
      "code.py\n",
      "codecs.py\n",
      "codeop.py\n",
      "collections\n",
      "colorsys.py\n",
      "compileall.py\n",
      "concurrent\n",
      "configparser.py\n",
      "contextlib.py\n",
      "contextvars.py\n",
      "copy.py\n",
      "copyreg.py\n",
      "crypt.py\n",
      "csv.py\n",
      "ctypes\n",
      "curses\n",
      "dataclasses.py\n",
      "datetime.py\n",
      "dbm\n",
      "decimal.py\n",
      "difflib.py\n",
      "dis.py\n",
      "distutils\n",
      "doctest.py\n",
      "dummy_threading.py\n",
      "email\n",
      "encodings\n",
      "ensurepip\n",
      "enum.py\n",
      "filecmp.py\n",
      "fileinput.py\n",
      "fnmatch.py\n",
      "formatter.py\n",
      "fractions.py\n",
      "ftplib.py\n",
      "functools.py\n",
      "genericpath.py\n",
      "getopt.py\n",
      "getpass.py\n",
      "gettext.py\n",
      "glob.py\n",
      "gpr.lib\n",
      "grpc++.lib\n",
      "grpc++_error_details.lib\n",
      "grpc++_reflection.lib\n",
      "grpc++_unsecure.lib\n",
      "grpc.lib\n",
      "grpc_cronet.lib\n",
      "grpc_csharp_ext.lib\n",
      "grpc_plugin_support.lib\n",
      "grpc_unsecure.lib\n",
      "grpcpp_channelz.lib\n",
      "gzip.py\n",
      "hashlib.py\n",
      "heapq.py\n",
      "hmac.py\n",
      "html\n",
      "http\n",
      "idlelib\n",
      "imaplib.py\n",
      "imghdr.py\n",
      "imp.py\n",
      "importlib\n",
      "inspect.py\n",
      "io.py\n",
      "ipaddress.py\n",
      "json\n",
      "keyword.py\n",
      "lib2to3\n",
      "libLIEF.dll\n",
      "libLIEF.lib\n",
      "linecache.py\n",
      "locale.py\n",
      "logging\n",
      "lzma.py\n",
      "mailbox.py\n",
      "mailcap.py\n",
      "mimetypes.py\n",
      "modulefinder.py\n",
      "msilib\n",
      "multiprocessing\n",
      "netrc.py\n",
      "nntplib.py\n",
      "ntpath.py\n",
      "nturl2path.py\n",
      "numbers.py\n",
      "opcode.py\n",
      "operator.py\n",
      "optparse.py\n",
      "os.py\n",
      "pathlib.py\n",
      "pdb.py\n",
      "pickle.py\n",
      "pickletools.py\n",
      "pipes.py\n",
      "pkgconfig\n",
      "pkgutil.py\n",
      "platform.py\n",
      "plistlib.py\n",
      "poplib.py\n",
      "posixpath.py\n",
      "pprint.py\n",
      "profile.py\n",
      "pstats.py\n",
      "pty.py\n",
      "py_compile.py\n",
      "pyclbr.py\n",
      "pydoc.py\n",
      "pydoc_data\n",
      "queue.py\n",
      "quopri.py\n",
      "random.py\n",
      "re.py\n",
      "reprlib.py\n",
      "rlcompleter.py\n",
      "runpy.py\n",
      "sched.py\n",
      "secrets.py\n",
      "selectors.py\n",
      "shelve.py\n",
      "shlex.py\n",
      "shutil.py\n",
      "signal.py\n",
      "site-packages\n",
      "site.py\n",
      "smtpd.py\n",
      "smtplib.py\n",
      "sndhdr.py\n",
      "socket.py\n",
      "socketserver.py\n",
      "sqlite3\n",
      "sre_compile.py\n",
      "sre_constants.py\n",
      "sre_parse.py\n",
      "ssl.py\n",
      "stat.py\n",
      "statistics.py\n",
      "string.py\n",
      "stringprep.py\n",
      "struct.py\n",
      "subprocess.py\n",
      "sunau.py\n",
      "symbol.py\n",
      "symtable.py\n",
      "sysconfig.py\n",
      "tabnanny.py\n",
      "tarfile.py\n",
      "telnetlib.py\n",
      "tempfile.py\n",
      "test\n",
      "textwrap.py\n",
      "this.py\n",
      "threading.py\n",
      "timeit.py\n",
      "tkinter\n",
      "token.py\n",
      "tokenize.py\n",
      "trace.py\n",
      "traceback.py\n",
      "tracemalloc.py\n",
      "tty.py\n",
      "turtle.py\n",
      "turtledemo\n",
      "types.py\n",
      "typing.py\n",
      "unittest\n",
      "upb.lib\n",
      "urllib\n",
      "uu.py\n",
      "uuid.py\n",
      "venv\n",
      "warnings.py\n",
      "wave.py\n",
      "weakref.py\n",
      "webbrowser.py\n",
      "wsgiref\n",
      "xdrlib.py\n",
      "xml\n",
      "xmlrpc\n",
      "zipapp.py\n",
      "zipfile.py\n",
      "zipimport.py\n"
     ]
    }
   ],
   "source": [
    "!ls C:\\Users\\jmkim\\anaconda3\\lib"
   ]
  },
  {
   "cell_type": "code",
   "execution_count": 47,
   "id": "9da37d78",
   "metadata": {},
   "outputs": [],
   "source": [
    "### setup.py 를 작성해서 패키지를 설치해서 사용\n",
    "### setuptools를 이용"
   ]
  },
  {
   "cell_type": "code",
   "execution_count": 48,
   "id": "4235cb73",
   "metadata": {},
   "outputs": [
    {
     "name": "stdout",
     "output_type": "stream",
     "text": [
      "Once deleted, variables cannot be recovered. Proceed (y/[n])? y\n"
     ]
    }
   ],
   "source": [
    "%reset"
   ]
  },
  {
   "cell_type": "code",
   "execution_count": 49,
   "id": "015b42f8",
   "metadata": {},
   "outputs": [
    {
     "name": "stdout",
     "output_type": "stream",
     "text": [
      "Writing school/setup.py\n"
     ]
    }
   ],
   "source": [
    "%%writefile school/setup.py\n",
    "\n",
    "from setuptools import setup, find_packages\n",
    "\n",
    "setup(\n",
    "    name = 'dss',\n",
    "    packages=find_packages(),\n",
    "    include_package_data=True, # 패키지 데이터를 모두 포함시킨다.\n",
    "    version='0.0.1',\n",
    "    author_email='todaybow@naver.com',\n",
    "    zip_safe=False,    \n",
    ")"
   ]
  },
  {
   "cell_type": "code",
   "execution_count": 51,
   "id": "83bd1d6f",
   "metadata": {},
   "outputs": [
    {
     "name": "stderr",
     "output_type": "stream",
     "text": [
      "WARNING: pip is being invoked by an old script wrapper. This will fail in a future version of pip.\n",
      "Please see https://github.com/pypa/pip/issues/5599 for advice on fixing the underlying issue.\n",
      "To avoid this problem you can invoke Python with '-m pip' instead of running pip directly.\n"
     ]
    }
   ],
   "source": [
    "# /d/Code/research/school 경로로 이동\n",
    "# >> python setup.py develop --user 명령어 사용\n",
    "\n",
    "'''\n",
    "$ python setup.py develop --user\n",
    "running develop\n",
    "running egg_info\n",
    "creating dss.egg-info\n",
    "writing dss.egg-info\\PKG-INFO\n",
    "writing dependency_links to dss.egg-info\\dependency_links.txt\n",
    "writing top-level names to dss.egg-info\\top_level.txt\n",
    "writing manifest file 'dss.egg-info\\SOURCES.txt'\n",
    "reading manifest file 'dss.egg-info\\SOURCES.txt'\n",
    "writing manifest file 'dss.egg-info\\SOURCES.txt'\n",
    "running build_ext\n",
    "Creating c:\\users\\jmkim\\appdata\\roaming\\python\\python37\\site-packages\\dss.egg-link (link to .)\n",
    "Adding dss 0.0.1 to easy-install.pth file\n",
    "\n",
    "Installed d:\\code\\research\\school\n",
    "Processing dependencies for dss==0.0.1\n",
    "Finished processing dependencies for dss==0.0.1\n",
    "'''\n",
    "# 설치 성공"
   ]
  },
  {
   "cell_type": "code",
   "execution_count": 2,
   "id": "e9a1ec0a",
   "metadata": {},
   "outputs": [
    {
     "name": "stdout",
     "output_type": "stream",
     "text": [
      "Package    Version Location\n",
      "---------- ------- -----------------------\n",
      "dss        0.0.1   d:\\code\\research\\school\n",
      "pip        21.2.4\n",
      "setuptools 40.6.2\n"
     ]
    },
    {
     "name": "stderr",
     "output_type": "stream",
     "text": [
      "WARNING: pip is being invoked by an old script wrapper. This will fail in a future version of pip.\n",
      "Please see https://github.com/pypa/pip/issues/5599 for advice on fixing the underlying issue.\n",
      "To avoid this problem you can invoke Python with '-m pip' instead of running pip directly.\n"
     ]
    }
   ],
   "source": [
    "!pip list"
   ]
  },
  {
   "cell_type": "code",
   "execution_count": 10,
   "id": "870405ad",
   "metadata": {},
   "outputs": [
    {
     "ename": "ModuleNotFoundError",
     "evalue": "No module named 'dss'",
     "output_type": "error",
     "traceback": [
      "\u001b[1;31m---------------------------------------------------------------------------\u001b[0m",
      "\u001b[1;31mModuleNotFoundError\u001b[0m                       Traceback (most recent call last)",
      "\u001b[1;32m<ipython-input-10-46f47404f1da>\u001b[0m in \u001b[0;36m<module>\u001b[1;34m\u001b[0m\n\u001b[1;32m----> 1\u001b[1;33m \u001b[1;32mimport\u001b[0m \u001b[0mdss\u001b[0m\u001b[1;33m\u001b[0m\u001b[1;33m\u001b[0m\u001b[0m\n\u001b[0m",
      "\u001b[1;31mModuleNotFoundError\u001b[0m: No module named 'dss'"
     ]
    }
   ],
   "source": [
    "import dss"
   ]
  },
  {
   "cell_type": "code",
   "execution_count": 3,
   "id": "49ab6668",
   "metadata": {},
   "outputs": [],
   "source": [
    "import pandas as pd\n",
    "from glob import glob"
   ]
  },
  {
   "cell_type": "code",
   "execution_count": 8,
   "id": "4c11eada",
   "metadata": {},
   "outputs": [
    {
     "data": {
      "text/plain": [
       "['create_packages.ipynb']"
      ]
     },
     "execution_count": 8,
     "metadata": {},
     "output_type": "execute_result"
    }
   ],
   "source": [
    "glob(\"*.ipynb\")"
   ]
  },
  {
   "cell_type": "code",
   "execution_count": null,
   "id": "ca154fe2",
   "metadata": {},
   "outputs": [],
   "source": []
  }
 ],
 "metadata": {
  "kernelspec": {
   "display_name": "Python 3",
   "language": "python",
   "name": "python3"
  },
  "language_info": {
   "codemirror_mode": {
    "name": "ipython",
    "version": 3
   },
   "file_extension": ".py",
   "mimetype": "text/x-python",
   "name": "python",
   "nbconvert_exporter": "python",
   "pygments_lexer": "ipython3",
   "version": "3.8.8"
  }
 },
 "nbformat": 4,
 "nbformat_minor": 5
}
