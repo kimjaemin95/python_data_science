{
 "cells": [
  {
   "cell_type": "markdown",
   "id": "3c7f8390",
   "metadata": {},
   "source": [
    "### 문장을 입력 받아서 문법에 맞도록 결과를 출력하는 코드를 작성\n",
    "- 입력 : python IS the Best\n",
    "- 출력 : Python is the best."
   ]
  },
  {
   "cell_type": "code",
   "execution_count": 10,
   "id": "68363030",
   "metadata": {},
   "outputs": [],
   "source": [
    "# 1 : 양쪽 공백 제거\n",
    "# 2 : 첫 글자 대문자\n",
    "# 3 : 나머지 글자 소문자\n",
    "# 4 : 마지막에 마침표 여부 검사 \n",
    "## True : pass\n",
    "## False : 문자열 '.' 붙이기\n",
    "def right_gramer(text:str):\n",
    "    text = text.strip()\n",
    "    first_str = text[0].upper()\n",
    "    last_str = text[1:].lower()\n",
    "    res = first_str + last_str\n",
    "    if res[-1] != '.':\n",
    "        res = res + '.'\n",
    "    return res"
   ]
  },
  {
   "cell_type": "code",
   "execution_count": 11,
   "id": "b827e97b",
   "metadata": {},
   "outputs": [
    {
     "name": "stdout",
     "output_type": "stream",
     "text": [
      "영문장을 입력하세요. :  python IS the Best.\n"
     ]
    },
    {
     "data": {
      "text/plain": [
       "'Python is the best.'"
      ]
     },
     "execution_count": 11,
     "metadata": {},
     "output_type": "execute_result"
    }
   ],
   "source": [
    "data = input(\"영문장을 입력하세요. :\")\n",
    "right_gramer(data)"
   ]
  },
  {
   "cell_type": "markdown",
   "id": "df17ef53",
   "metadata": {},
   "source": [
    "### 6자리의 로또번호를 생성하는 코드 작성\n",
    "- 6자리 숫자는 중복 X"
   ]
  },
  {
   "cell_type": "code",
   "execution_count": 13,
   "id": "5e8d91c3",
   "metadata": {},
   "outputs": [],
   "source": [
    "import random"
   ]
  },
  {
   "cell_type": "code",
   "execution_count": 14,
   "id": "4fc8fd6a",
   "metadata": {},
   "outputs": [],
   "source": [
    "random_num = random.randint(1, 45)"
   ]
  },
  {
   "cell_type": "code",
   "execution_count": 21,
   "id": "defe11bf",
   "metadata": {},
   "outputs": [
    {
     "data": {
      "text/plain": [
       "[27, 17, 19, 5, 4, 40]"
      ]
     },
     "execution_count": 21,
     "metadata": {},
     "output_type": "execute_result"
    }
   ],
   "source": [
    "rotto = []\n",
    "while True:\n",
    "    num = random.randint(1, 45)\n",
    "    if num not in rotto:\n",
    "        rotto.append(num)\n",
    "    if len(rotto) >= 6:\n",
    "        break\n",
    "        \n",
    "rotto"
   ]
  }
 ],
 "metadata": {
  "kernelspec": {
   "display_name": "Python 3",
   "language": "python",
   "name": "python3"
  },
  "language_info": {
   "codemirror_mode": {
    "name": "ipython",
    "version": 3
   },
   "file_extension": ".py",
   "mimetype": "text/x-python",
   "name": "python",
   "nbconvert_exporter": "python",
   "pygments_lexer": "ipython3",
   "version": "3.8.8"
  }
 },
 "nbformat": 4,
 "nbformat_minor": 5
}
