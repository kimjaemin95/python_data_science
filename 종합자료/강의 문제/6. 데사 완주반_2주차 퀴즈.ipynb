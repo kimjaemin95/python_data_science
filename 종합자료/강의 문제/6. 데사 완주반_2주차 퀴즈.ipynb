{
 "cells": [
  {
   "cell_type": "code",
   "execution_count": null,
   "id": "b644c238",
   "metadata": {},
   "outputs": [],
   "source": []
  },
  {
   "cell_type": "code",
   "execution_count": 2,
   "id": "0cb1a11d",
   "metadata": {},
   "outputs": [],
   "source": [
    "ls1 = [1,2,3]\n",
    "ls2 = [3,5,7]\n",
    "ls3 = [6,5,4]"
   ]
  },
  {
   "cell_type": "code",
   "execution_count": 5,
   "id": "191aed42",
   "metadata": {},
   "outputs": [
    {
     "data": {
      "text/plain": [
       "[10, 12, 14]"
      ]
     },
     "execution_count": 5,
     "metadata": {},
     "output_type": "execute_result"
    }
   ],
   "source": [
    "list(map(lambda x, y, z : x + y + z, ls1, ls2, ls3))"
   ]
  },
  {
   "cell_type": "code",
   "execution_count": 7,
   "id": "645c887b",
   "metadata": {},
   "outputs": [
    {
     "data": {
      "text/plain": [
       "[(1, 3, 6), (2, 5, 5), (3, 7, 4)]"
      ]
     },
     "execution_count": 7,
     "metadata": {},
     "output_type": "execute_result"
    }
   ],
   "source": [
    "list(zip(ls1, ls2, ls3))"
   ]
  },
  {
   "cell_type": "code",
   "execution_count": 11,
   "id": "fd250b58",
   "metadata": {},
   "outputs": [],
   "source": [
    "def map_func(func,  *args):\n",
    "    return [func(*datas) for datas in zip(*args) ]"
   ]
  },
  {
   "cell_type": "code",
   "execution_count": 13,
   "id": "46919318",
   "metadata": {},
   "outputs": [
    {
     "data": {
      "text/plain": [
       "[10, 12, 14]"
      ]
     },
     "execution_count": 13,
     "metadata": {},
     "output_type": "execute_result"
    }
   ],
   "source": [
    "map_func(lambda x, y, z : x + y + z, ls1, ls2, ls3)"
   ]
  },
  {
   "cell_type": "code",
   "execution_count": 15,
   "id": "ce805aed",
   "metadata": {},
   "outputs": [],
   "source": [
    "import numpy as np\n"
   ]
  },
  {
   "cell_type": "code",
   "execution_count": 51,
   "id": "a05cf2f5",
   "metadata": {},
   "outputs": [
    {
     "data": {
      "text/plain": [
       "array([0.5488135 , 0.71518937, 0.60276338])"
      ]
     },
     "execution_count": 51,
     "metadata": {},
     "output_type": "execute_result"
    }
   ],
   "source": [
    "np.random.seed(0) ; np.random.rand(3)"
   ]
  },
  {
   "cell_type": "code",
   "execution_count": 60,
   "id": "d3d766ff",
   "metadata": {},
   "outputs": [],
   "source": [
    "import numpy as np\n",
    "import pandas as pd"
   ]
  },
  {
   "cell_type": "code",
   "execution_count": 61,
   "id": "55868d39",
   "metadata": {},
   "outputs": [],
   "source": [
    "np.random.seed(0)\n",
    "data = pd.Series(np.random.randint(1, 10, size=5), index = list('ABCDE'))"
   ]
  },
  {
   "cell_type": "code",
   "execution_count": 62,
   "id": "e54308b4",
   "metadata": {},
   "outputs": [
    {
     "data": {
      "text/plain": [
       "A    6\n",
       "B    1\n",
       "C    4\n",
       "D    4\n",
       "E    8\n",
       "dtype: int32"
      ]
     },
     "execution_count": 62,
     "metadata": {},
     "output_type": "execute_result"
    }
   ],
   "source": [
    "data"
   ]
  },
  {
   "cell_type": "code",
   "execution_count": 63,
   "id": "2b7103de",
   "metadata": {},
   "outputs": [],
   "source": [
    "result = data + 2"
   ]
  },
  {
   "cell_type": "code",
   "execution_count": 64,
   "id": "bc461983",
   "metadata": {},
   "outputs": [],
   "source": [
    "result['B'] = 10"
   ]
  },
  {
   "cell_type": "code",
   "execution_count": 65,
   "id": "21eb1328",
   "metadata": {},
   "outputs": [],
   "source": [
    "result = result +3"
   ]
  },
  {
   "cell_type": "code",
   "execution_count": 66,
   "id": "6d25217f",
   "metadata": {},
   "outputs": [
    {
     "data": {
      "text/plain": [
       "13"
      ]
     },
     "execution_count": 66,
     "metadata": {},
     "output_type": "execute_result"
    }
   ],
   "source": [
    "result['B']"
   ]
  },
  {
   "cell_type": "code",
   "execution_count": 69,
   "id": "d8a7e7ed",
   "metadata": {},
   "outputs": [],
   "source": [
    "from pandas import Series, DataFrame\n",
    "\n",
    "raw_data = {'Sex': ['female', 'male', 'female', 'male'],\n",
    "            'Pclass': [1, 2, 3, 1],\n",
    "            'counts': [94, 52, 144, 122]}\n",
    "\n",
    "data = DataFrame(raw_data)"
   ]
  },
  {
   "cell_type": "code",
   "execution_count": 70,
   "id": "2ad45db0",
   "metadata": {},
   "outputs": [
    {
     "data": {
      "text/html": [
       "<div>\n",
       "<style scoped>\n",
       "    .dataframe tbody tr th:only-of-type {\n",
       "        vertical-align: middle;\n",
       "    }\n",
       "\n",
       "    .dataframe tbody tr th {\n",
       "        vertical-align: top;\n",
       "    }\n",
       "\n",
       "    .dataframe thead th {\n",
       "        text-align: right;\n",
       "    }\n",
       "</style>\n",
       "<table border=\"1\" class=\"dataframe\">\n",
       "  <thead>\n",
       "    <tr style=\"text-align: right;\">\n",
       "      <th></th>\n",
       "      <th>Sex</th>\n",
       "      <th>Pclass</th>\n",
       "      <th>counts</th>\n",
       "    </tr>\n",
       "  </thead>\n",
       "  <tbody>\n",
       "    <tr>\n",
       "      <th>0</th>\n",
       "      <td>female</td>\n",
       "      <td>1</td>\n",
       "      <td>94</td>\n",
       "    </tr>\n",
       "    <tr>\n",
       "      <th>1</th>\n",
       "      <td>male</td>\n",
       "      <td>2</td>\n",
       "      <td>52</td>\n",
       "    </tr>\n",
       "    <tr>\n",
       "      <th>2</th>\n",
       "      <td>female</td>\n",
       "      <td>3</td>\n",
       "      <td>144</td>\n",
       "    </tr>\n",
       "    <tr>\n",
       "      <th>3</th>\n",
       "      <td>male</td>\n",
       "      <td>1</td>\n",
       "      <td>122</td>\n",
       "    </tr>\n",
       "  </tbody>\n",
       "</table>\n",
       "</div>"
      ],
      "text/plain": [
       "      Sex  Pclass  counts\n",
       "0  female       1      94\n",
       "1    male       2      52\n",
       "2  female       3     144\n",
       "3    male       1     122"
      ]
     },
     "execution_count": 70,
     "metadata": {},
     "output_type": "execute_result"
    }
   ],
   "source": [
    "data"
   ]
  },
  {
   "cell_type": "code",
   "execution_count": 73,
   "id": "23ab7cfa",
   "metadata": {},
   "outputs": [
    {
     "data": {
      "text/plain": [
       "\"\\nSignature: data.pivot(index=None, columns=None, values=None) -> 'DataFrame'\\nDocstring:\\n\""
      ]
     },
     "execution_count": 73,
     "metadata": {},
     "output_type": "execute_result"
    }
   ],
   "source": [
    "df = data.pivot('Pclass', 'Sex', 'counts')\n",
    "\n",
    "'''\n",
    "Signature: data.pivot(index=None, columns=None, values=None) -> 'DataFrame'\n",
    "Docstring:\n",
    "'''"
   ]
  },
  {
   "cell_type": "code",
   "execution_count": 74,
   "id": "4a06dfa9",
   "metadata": {},
   "outputs": [
    {
     "data": {
      "text/html": [
       "<div>\n",
       "<style scoped>\n",
       "    .dataframe tbody tr th:only-of-type {\n",
       "        vertical-align: middle;\n",
       "    }\n",
       "\n",
       "    .dataframe tbody tr th {\n",
       "        vertical-align: top;\n",
       "    }\n",
       "\n",
       "    .dataframe thead th {\n",
       "        text-align: right;\n",
       "    }\n",
       "</style>\n",
       "<table border=\"1\" class=\"dataframe\">\n",
       "  <thead>\n",
       "    <tr style=\"text-align: right;\">\n",
       "      <th>Sex</th>\n",
       "      <th>female</th>\n",
       "      <th>male</th>\n",
       "    </tr>\n",
       "    <tr>\n",
       "      <th>Pclass</th>\n",
       "      <th></th>\n",
       "      <th></th>\n",
       "    </tr>\n",
       "  </thead>\n",
       "  <tbody>\n",
       "    <tr>\n",
       "      <th>1</th>\n",
       "      <td>94.0</td>\n",
       "      <td>122.0</td>\n",
       "    </tr>\n",
       "    <tr>\n",
       "      <th>2</th>\n",
       "      <td>NaN</td>\n",
       "      <td>52.0</td>\n",
       "    </tr>\n",
       "    <tr>\n",
       "      <th>3</th>\n",
       "      <td>144.0</td>\n",
       "      <td>NaN</td>\n",
       "    </tr>\n",
       "  </tbody>\n",
       "</table>\n",
       "</div>"
      ],
      "text/plain": [
       "Sex     female   male\n",
       "Pclass               \n",
       "1         94.0  122.0\n",
       "2          NaN   52.0\n",
       "3        144.0    NaN"
      ]
     },
     "execution_count": 74,
     "metadata": {},
     "output_type": "execute_result"
    }
   ],
   "source": [
    "df"
   ]
  },
  {
   "cell_type": "code",
   "execution_count": 98,
   "id": "b67fac5b",
   "metadata": {},
   "outputs": [],
   "source": [
    "class Myclass:\n",
    "    def __init__(self, a):\n",
    "        self.a = a"
   ]
  },
  {
   "cell_type": "code",
   "execution_count": 99,
   "id": "da038bb3",
   "metadata": {},
   "outputs": [
    {
     "name": "stdout",
     "output_type": "stream",
     "text": [
      "test\n"
     ]
    }
   ],
   "source": [
    "c1 = Myclass(\"test\")\n",
    "print(c1.a)"
   ]
  },
  {
   "cell_type": "code",
   "execution_count": 100,
   "id": "a5262942",
   "metadata": {},
   "outputs": [
    {
     "data": {
      "text/html": [
       "<div>\n",
       "<style scoped>\n",
       "    .dataframe tbody tr th:only-of-type {\n",
       "        vertical-align: middle;\n",
       "    }\n",
       "\n",
       "    .dataframe tbody tr th {\n",
       "        vertical-align: top;\n",
       "    }\n",
       "\n",
       "    .dataframe thead th {\n",
       "        text-align: right;\n",
       "    }\n",
       "</style>\n",
       "<table border=\"1\" class=\"dataframe\">\n",
       "  <thead>\n",
       "    <tr style=\"text-align: right;\">\n",
       "      <th></th>\n",
       "      <th>name</th>\n",
       "      <th>gf</th>\n",
       "      <th>ga</th>\n",
       "      <th>points</th>\n",
       "    </tr>\n",
       "  </thead>\n",
       "  <tbody>\n",
       "    <tr>\n",
       "      <th>0</th>\n",
       "      <td>Manchester City</td>\n",
       "      <td>106</td>\n",
       "      <td>27</td>\n",
       "      <td>100</td>\n",
       "    </tr>\n",
       "    <tr>\n",
       "      <th>1</th>\n",
       "      <td>Manchester United</td>\n",
       "      <td>68</td>\n",
       "      <td>28</td>\n",
       "      <td>81</td>\n",
       "    </tr>\n",
       "    <tr>\n",
       "      <th>2</th>\n",
       "      <td>Tottenham Hotspur</td>\n",
       "      <td>74</td>\n",
       "      <td>36</td>\n",
       "      <td>77</td>\n",
       "    </tr>\n",
       "    <tr>\n",
       "      <th>3</th>\n",
       "      <td>Liverpool</td>\n",
       "      <td>84</td>\n",
       "      <td>38</td>\n",
       "      <td>75</td>\n",
       "    </tr>\n",
       "    <tr>\n",
       "      <th>4</th>\n",
       "      <td>Chelsea</td>\n",
       "      <td>62</td>\n",
       "      <td>38</td>\n",
       "      <td>70</td>\n",
       "    </tr>\n",
       "    <tr>\n",
       "      <th>5</th>\n",
       "      <td>Arsenal</td>\n",
       "      <td>74</td>\n",
       "      <td>51</td>\n",
       "      <td>63</td>\n",
       "    </tr>\n",
       "    <tr>\n",
       "      <th>6</th>\n",
       "      <td>Burnley</td>\n",
       "      <td>36</td>\n",
       "      <td>39</td>\n",
       "      <td>54</td>\n",
       "    </tr>\n",
       "    <tr>\n",
       "      <th>7</th>\n",
       "      <td>Everton</td>\n",
       "      <td>44</td>\n",
       "      <td>58</td>\n",
       "      <td>49</td>\n",
       "    </tr>\n",
       "    <tr>\n",
       "      <th>8</th>\n",
       "      <td>Leicester City</td>\n",
       "      <td>56</td>\n",
       "      <td>60</td>\n",
       "      <td>47</td>\n",
       "    </tr>\n",
       "    <tr>\n",
       "      <th>9</th>\n",
       "      <td>Newcastle United</td>\n",
       "      <td>39</td>\n",
       "      <td>47</td>\n",
       "      <td>44</td>\n",
       "    </tr>\n",
       "    <tr>\n",
       "      <th>10</th>\n",
       "      <td>Crystal Palace</td>\n",
       "      <td>45</td>\n",
       "      <td>55</td>\n",
       "      <td>44</td>\n",
       "    </tr>\n",
       "    <tr>\n",
       "      <th>11</th>\n",
       "      <td>Bournemouth</td>\n",
       "      <td>45</td>\n",
       "      <td>61</td>\n",
       "      <td>44</td>\n",
       "    </tr>\n",
       "    <tr>\n",
       "      <th>12</th>\n",
       "      <td>West Ham United</td>\n",
       "      <td>48</td>\n",
       "      <td>68</td>\n",
       "      <td>42</td>\n",
       "    </tr>\n",
       "    <tr>\n",
       "      <th>13</th>\n",
       "      <td>Watford</td>\n",
       "      <td>44</td>\n",
       "      <td>64</td>\n",
       "      <td>41</td>\n",
       "    </tr>\n",
       "    <tr>\n",
       "      <th>14</th>\n",
       "      <td>Brighton and Hove Albion</td>\n",
       "      <td>34</td>\n",
       "      <td>54</td>\n",
       "      <td>40</td>\n",
       "    </tr>\n",
       "    <tr>\n",
       "      <th>15</th>\n",
       "      <td>Huddersfield Town</td>\n",
       "      <td>28</td>\n",
       "      <td>58</td>\n",
       "      <td>37</td>\n",
       "    </tr>\n",
       "    <tr>\n",
       "      <th>16</th>\n",
       "      <td>Southampton</td>\n",
       "      <td>37</td>\n",
       "      <td>56</td>\n",
       "      <td>36</td>\n",
       "    </tr>\n",
       "    <tr>\n",
       "      <th>17</th>\n",
       "      <td>Swansea City</td>\n",
       "      <td>28</td>\n",
       "      <td>56</td>\n",
       "      <td>33</td>\n",
       "    </tr>\n",
       "    <tr>\n",
       "      <th>18</th>\n",
       "      <td>Stoke City</td>\n",
       "      <td>35</td>\n",
       "      <td>68</td>\n",
       "      <td>33</td>\n",
       "    </tr>\n",
       "    <tr>\n",
       "      <th>19</th>\n",
       "      <td>West Bromwich Albion</td>\n",
       "      <td>31</td>\n",
       "      <td>56</td>\n",
       "      <td>31</td>\n",
       "    </tr>\n",
       "  </tbody>\n",
       "</table>\n",
       "</div>"
      ],
      "text/plain": [
       "                        name   gf  ga  points\n",
       "0            Manchester City  106  27     100\n",
       "1          Manchester United   68  28      81\n",
       "2          Tottenham Hotspur   74  36      77\n",
       "3                  Liverpool   84  38      75\n",
       "4                    Chelsea   62  38      70\n",
       "5                    Arsenal   74  51      63\n",
       "6                    Burnley   36  39      54\n",
       "7                    Everton   44  58      49\n",
       "8             Leicester City   56  60      47\n",
       "9           Newcastle United   39  47      44\n",
       "10            Crystal Palace   45  55      44\n",
       "11               Bournemouth   45  61      44\n",
       "12           West Ham United   48  68      42\n",
       "13                   Watford   44  64      41\n",
       "14  Brighton and Hove Albion   34  54      40\n",
       "15         Huddersfield Town   28  58      37\n",
       "16               Southampton   37  56      36\n",
       "17              Swansea City   28  56      33\n",
       "18                Stoke City   35  68      33\n",
       "19      West Bromwich Albion   31  56      31"
      ]
     },
     "execution_count": 100,
     "metadata": {},
     "output_type": "execute_result"
    }
   ],
   "source": [
    "import numpy as np\n",
    "import pandas as pd\n",
    "\n",
    "df = pd.DataFrame({'name': ['Manchester City', 'Manchester United', 'Tottenham Hotspur',\n",
    "       'Liverpool', 'Chelsea', 'Arsenal', 'Burnley', 'Everton',\n",
    "       'Leicester City', 'Newcastle United', 'Crystal Palace',\n",
    "       'Bournemouth', 'West Ham United', 'Watford',\n",
    "       'Brighton and Hove Albion', 'Huddersfield Town', 'Southampton',\n",
    "       'Swansea City', 'Stoke City', 'West Bromwich Albion'],\n",
    "    'gf': [106,  68,  74,  84,  62,  74,  36,  44,  56,  39,  45,  45,  48,\n",
    "        44,  34,  28,  37,  28,  35,  31],\n",
    "    'ga': [27, 28, 36, 38, 38, 51, 39, 58, 60, 47, 55, 61, 68, 64, 54, 58, 56,\n",
    "       56, 68, 56],\n",
    "    'points': [100,  81,  77,  75,  70,  63,  54,  49,  47,  44,  44,  44,  42,\n",
    "        41,  40,  37,  36,  33,  33,  31]\n",
    "                                                                   \n",
    "})\n",
    "df"
   ]
  },
  {
   "cell_type": "code",
   "execution_count": null,
   "id": "157a37a1",
   "metadata": {},
   "outputs": [],
   "source": [
    "import numpy as np\n",
    "import pandas as pd\n",
    "\n",
    "df = pd.DataFrame({'name': ['Manchester City', 'Manchester United', 'Tottenham Hotspur',\n",
    "       'Liverpool', 'Chelsea', 'Arsenal', 'Burnley', 'Everton',\n",
    "       'Leicester City', 'Newcastle United', 'Crystal Palace',\n",
    "       'Bournemouth', 'West Ham United', 'Watford',\n",
    "       'Brighton and Hove Albion', 'Huddersfield Town', 'Southampton',\n",
    "       'Swansea City', 'Stoke City', 'West Bromwich Albion'],\n",
    "    'gf': [106,  68,  74,  84,  62,  74,  36,  44,  56,  39,  45,  45,  48,\n",
    "        44,  34,  28,  37,  28,  35,  31],\n",
    "    'ga': [27, 28, 36, 38, 38, 51, 39, 58, 60, 47, 55, 61, 68, 64, 54, 58, 56,\n",
    "       56, 68, 56],\n",
    "    'points': [100,  81,  77,  75,  70,  63,  54,  49,  47,  44,  44,  44,  42,\n",
    "        41,  40,  37,  36,  33,  33,  31]\n",
    "                                                                   \n",
    "})\n",
    "df"
   ]
  }
 ],
 "metadata": {
  "kernelspec": {
   "display_name": "Python 3",
   "language": "python",
   "name": "python3"
  },
  "language_info": {
   "codemirror_mode": {
    "name": "ipython",
    "version": 3
   },
   "file_extension": ".py",
   "mimetype": "text/x-python",
   "name": "python",
   "nbconvert_exporter": "python",
   "pygments_lexer": "ipython3",
   "version": "3.8.8"
  }
 },
 "nbformat": 4,
 "nbformat_minor": 5
}
