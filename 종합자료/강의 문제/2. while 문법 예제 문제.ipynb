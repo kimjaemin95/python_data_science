{
 "cells": [
  {
   "cell_type": "markdown",
   "id": "61747dad",
   "metadata": {},
   "source": [
    "### 학생이 국어 : 80점, 영어 : 90점, 수학 : 100점 -> while 문을 이용해서 총점과 평균을 출력\n",
    "### 학생의 점수는 list 또는 dict 표현\n",
    "### len(), dict.values(), list.pop()"
   ]
  },
  {
   "cell_type": "code",
   "execution_count": 4,
   "id": "f760b96b",
   "metadata": {},
   "outputs": [],
   "source": [
    "points_dict = {\n",
    "    \"Korean\":80,\n",
    "    \"English\":90,\n",
    "    \"Math\":100\n",
    "}"
   ]
  },
  {
   "cell_type": "code",
   "execution_count": 6,
   "id": "08665b3c",
   "metadata": {},
   "outputs": [
    {
     "data": {
      "text/plain": [
       "[80, 90, 100]"
      ]
     },
     "execution_count": 6,
     "metadata": {},
     "output_type": "execute_result"
    }
   ],
   "source": [
    "poinst_list = list(points_dict.values())\n",
    "poinst_list"
   ]
  },
  {
   "cell_type": "code",
   "execution_count": 10,
   "id": "8f134799",
   "metadata": {},
   "outputs": [
    {
     "data": {
      "text/plain": [
       "(270, 90.0)"
      ]
     },
     "execution_count": 10,
     "metadata": {},
     "output_type": "execute_result"
    }
   ],
   "source": [
    "datas = poinst_list.copy()\n",
    "total = 0\n",
    "avg = 0\n",
    "while datas:\n",
    "    total += datas.pop()\n",
    "    \n",
    "avg = total/len(poinst_list)\n",
    "total, avg"
   ]
  },
  {
   "cell_type": "code",
   "execution_count": null,
   "id": "66143a21",
   "metadata": {},
   "outputs": [],
   "source": []
  }
 ],
 "metadata": {
  "kernelspec": {
   "display_name": "Python 3",
   "language": "python",
   "name": "python3"
  },
  "language_info": {
   "codemirror_mode": {
    "name": "ipython",
    "version": 3
   },
   "file_extension": ".py",
   "mimetype": "text/x-python",
   "name": "python",
   "nbconvert_exporter": "python",
   "pygments_lexer": "ipython3",
   "version": "3.8.8"
  }
 },
 "nbformat": 4,
 "nbformat_minor": 5
}
