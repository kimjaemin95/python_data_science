{
 "cells": [
  {
   "cell_type": "code",
   "execution_count": 15,
   "id": "639feb4e",
   "metadata": {},
   "outputs": [],
   "source": [
    "user_datas = [\n",
    "    {\"id\":\"test\", \"pw\":\"1234\", \"count\":0},\n",
    "    {\"id\":\"python\", \"pw\":\"5678\", \"count\":0},\n",
    "]"
   ]
  },
  {
   "cell_type": "markdown",
   "id": "cea88dc1",
   "metadata": {},
   "source": [
    "### user data를 입력 받아서 아이디와 패스워드를 체크하는 데코레이터 함수를 코드로 작성하시오"
   ]
  },
  {
   "cell_type": "code",
   "execution_count": 23,
   "id": "5cdc301a",
   "metadata": {},
   "outputs": [],
   "source": [
    "def sessions(func):\n",
    "    \n",
    "    def wrapper(*args, **kargs):\n",
    "        user_id = input(\"ID :\")\n",
    "        user_pw = input(\"PW :\")\n",
    "        for user_data in user_datas:\n",
    "            if (user_data['id'] == user_id) and (user_data['pw'] == user_pw):\n",
    "                user_data['count'] += 1\n",
    "                return 'Result : {0}'.format(func(*args, **kargs)), 'Login count : {0}'.format(user_data['count'])\n",
    "        result = \"Please, Check your account\"\n",
    "        return result\n",
    "    \n",
    "    return wrapper\n"
   ]
  },
  {
   "cell_type": "code",
   "execution_count": 24,
   "id": "9a202504",
   "metadata": {},
   "outputs": [],
   "source": [
    "@sessions\n",
    "def plus(num1, num2):\n",
    "    return num1 + num2"
   ]
  },
  {
   "cell_type": "code",
   "execution_count": 25,
   "id": "508bda1b",
   "metadata": {},
   "outputs": [
    {
     "name": "stdout",
     "output_type": "stream",
     "text": [
      "ID :test\n",
      "PW :1234\n"
     ]
    },
    {
     "data": {
      "text/plain": [
       "('Result : 3', 'Login count : 4')"
      ]
     },
     "execution_count": 25,
     "metadata": {},
     "output_type": "execute_result"
    }
   ],
   "source": [
    "plus(1,2)"
   ]
  },
  {
   "cell_type": "markdown",
   "id": "d58b7d43",
   "metadata": {},
   "source": [
    "### class 문제\n",
    "- 스타크래프트 마린을 클래스로 설계\n",
    "    - 체력(health), 공격력(attack_pow), 공격(attack())\n",
    "    - 마린 클래스로 마린 객체 두 개를 생성해서 마린 1이 마린 2를 공격하는 코드 작성\n",
    "    \n",
    "- 메딕 : heal_pow, heal(unit)"
   ]
  },
  {
   "cell_type": "code",
   "execution_count": 124,
   "id": "e3c53b24",
   "metadata": {},
   "outputs": [],
   "source": [
    "class Marin:\n",
    "    def __init__(self, health=40, attack_pow= 5):\n",
    "        self.health = health\n",
    "        self.attack_pow = attack_pow\n",
    "    \n",
    "    def attack(self, unit):\n",
    "        if unit.health <= 0:\n",
    "            print(\"사망\")\n",
    "        else:\n",
    "            unit.health -= self.attack_pow\n",
    "            print(\"공격 성공 {}\".format(unit.health))\n",
    "        return unit\n",
    "    \n",
    "class Medic:\n",
    "    def __init__(self, health=25, heal_pow=5):\n",
    "        self.health = health\n",
    "        self.heal_pow = heal_pow\n",
    "        \n",
    "    def heal(self, unit):\n",
    "        if unit.health > 0:\n",
    "            unit.health += self.heal_pow\n",
    "            print('힐 성공 +{}'.format(self.heal_pow))\n",
    "            if unit.health >= 40:\n",
    "                unit.health = 40\n",
    "        else:\n",
    "            print('이미 사망')\n",
    "        return unit"
   ]
  },
  {
   "cell_type": "code",
   "execution_count": 125,
   "id": "801a5141",
   "metadata": {},
   "outputs": [],
   "source": [
    "marin1 = Marin()\n",
    "medic1 = Medic()\n",
    "\n",
    "marin2 = Marin()"
   ]
  },
  {
   "cell_type": "code",
   "execution_count": 126,
   "id": "16959da9",
   "metadata": {},
   "outputs": [
    {
     "data": {
      "text/plain": [
       "(40, 25, 40)"
      ]
     },
     "execution_count": 126,
     "metadata": {},
     "output_type": "execute_result"
    }
   ],
   "source": [
    "marin1.health, medic1.health, marin2.health"
   ]
  },
  {
   "cell_type": "code",
   "execution_count": 133,
   "id": "dc136798",
   "metadata": {},
   "outputs": [
    {
     "name": "stdout",
     "output_type": "stream",
     "text": [
      "사망\n",
      "공격 성공 10\n",
      "사망\n"
     ]
    },
    {
     "data": {
      "text/plain": [
       "<__main__.Marin at 0x254ae385d90>"
      ]
     },
     "execution_count": 133,
     "metadata": {},
     "output_type": "execute_result"
    }
   ],
   "source": [
    "marin1.attack(marin2)\n",
    "marin2.attack(marin1)\n",
    "marin1.attack(marin2)\n",
    "\n"
   ]
  },
  {
   "cell_type": "code",
   "execution_count": 128,
   "id": "263f6db7",
   "metadata": {},
   "outputs": [
    {
     "data": {
      "text/plain": [
       "(35, 25, 30)"
      ]
     },
     "execution_count": 128,
     "metadata": {},
     "output_type": "execute_result"
    }
   ],
   "source": [
    "marin1.health, medic1.health, marin2.health"
   ]
  },
  {
   "cell_type": "code",
   "execution_count": 134,
   "id": "83af24c7",
   "metadata": {},
   "outputs": [
    {
     "name": "stdout",
     "output_type": "stream",
     "text": [
      "힐 성공 +5\n"
     ]
    },
    {
     "data": {
      "text/plain": [
       "<__main__.Marin at 0x254ae385400>"
      ]
     },
     "execution_count": 134,
     "metadata": {},
     "output_type": "execute_result"
    }
   ],
   "source": [
    "medic1.heal(marin1)"
   ]
  },
  {
   "cell_type": "code",
   "execution_count": 137,
   "id": "4b7467b4",
   "metadata": {},
   "outputs": [
    {
     "name": "stdout",
     "output_type": "stream",
     "text": [
      "test\n"
     ]
    }
   ],
   "source": [
    "class Myclass:\n",
    "    def __init__(self, a):\n",
    "        self.a = a\n",
    "        \n",
    "c1 = Myclass(\"test\")\n",
    "print(c1.a)"
   ]
  },
  {
   "cell_type": "code",
   "execution_count": null,
   "id": "0038957d",
   "metadata": {},
   "outputs": [],
   "source": []
  }
 ],
 "metadata": {
  "kernelspec": {
   "display_name": "Python 3",
   "language": "python",
   "name": "python3"
  },
  "language_info": {
   "codemirror_mode": {
    "name": "ipython",
    "version": 3
   },
   "file_extension": ".py",
   "mimetype": "text/x-python",
   "name": "python",
   "nbconvert_exporter": "python",
   "pygments_lexer": "ipython3",
   "version": "3.8.8"
  }
 },
 "nbformat": 4,
 "nbformat_minor": 5
}
