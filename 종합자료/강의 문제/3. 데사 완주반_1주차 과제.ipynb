{
 "cells": [
  {
   "cell_type": "code",
   "execution_count": 1,
   "id": "cfd35c8d",
   "metadata": {},
   "outputs": [
    {
     "name": "stdout",
     "output_type": "stream",
     "text": [
      "홀수\n"
     ]
    },
    {
     "data": {
      "text/plain": [
       "(1, 25, 26)"
      ]
     },
     "execution_count": 1,
     "metadata": {},
     "output_type": "execute_result"
    }
   ],
   "source": [
    "# 여기에 코드를 작성해주세요.\n",
    "def odd_even(a:int, b:int):\n",
    "  _a = a**2\n",
    "  _b = b**2\n",
    "  if (_a + _b)%2:\n",
    "    print(\"짝수\")\n",
    "  else:\n",
    "    print(\"홀수\")\n",
    "  return _a, _b, _a+_b\n",
    "\n",
    "odd_even(1, 5)\n"
   ]
  },
  {
   "cell_type": "code",
   "execution_count": 69,
   "id": "d5103557",
   "metadata": {},
   "outputs": [],
   "source": [
    "class Person:\n",
    "  def __init__(self, name, age):\n",
    "    self.name = name\n",
    "    self.age = age"
   ]
  },
  {
   "cell_type": "code",
   "execution_count": 70,
   "id": "cfa1d213",
   "metadata": {},
   "outputs": [],
   "source": [
    "person = Person('Kim', 27)"
   ]
  },
  {
   "cell_type": "code",
   "execution_count": 71,
   "id": "4bf0dac1",
   "metadata": {},
   "outputs": [
    {
     "data": {
      "text/plain": [
       "('Kim', 27)"
      ]
     },
     "execution_count": 71,
     "metadata": {},
     "output_type": "execute_result"
    }
   ],
   "source": [
    "person.name, person.age"
   ]
  },
  {
   "cell_type": "code",
   "execution_count": 84,
   "id": "37419d1c",
   "metadata": {},
   "outputs": [],
   "source": [
    " class Child(Person):\n",
    "   def play(self):\n",
    "     print('{} is playing.'.format(self.name))"
   ]
  },
  {
   "cell_type": "code",
   "execution_count": 85,
   "id": "317b78e4",
   "metadata": {},
   "outputs": [],
   "source": [
    "child = Child('Olivia', '8')"
   ]
  },
  {
   "cell_type": "code",
   "execution_count": 86,
   "id": "15780df7",
   "metadata": {},
   "outputs": [
    {
     "data": {
      "text/plain": [
       "('Olivia', '8')"
      ]
     },
     "execution_count": 86,
     "metadata": {},
     "output_type": "execute_result"
    }
   ],
   "source": [
    "child.name, child.age"
   ]
  },
  {
   "cell_type": "code",
   "execution_count": 87,
   "id": "cec75c94",
   "metadata": {},
   "outputs": [
    {
     "name": "stdout",
     "output_type": "stream",
     "text": [
      "Olivia is playing.\n"
     ]
    }
   ],
   "source": [
    "child.play()"
   ]
  },
  {
   "cell_type": "code",
   "execution_count": null,
   "id": "9b9db554",
   "metadata": {},
   "outputs": [],
   "source": []
  },
  {
   "cell_type": "code",
   "execution_count": null,
   "id": "9b285f1d",
   "metadata": {},
   "outputs": [],
   "source": []
  }
 ],
 "metadata": {
  "kernelspec": {
   "display_name": "Python 3",
   "language": "python",
   "name": "python3"
  },
  "language_info": {
   "codemirror_mode": {
    "name": "ipython",
    "version": 3
   },
   "file_extension": ".py",
   "mimetype": "text/x-python",
   "name": "python",
   "nbconvert_exporter": "python",
   "pygments_lexer": "ipython3",
   "version": "3.8.8"
  }
 },
 "nbformat": 4,
 "nbformat_minor": 5
}
