{
 "cells": [
  {
   "cell_type": "markdown",
   "id": "fe289f08",
   "metadata": {},
   "source": [
    " $\\alpha$와 $\\beta$의 값이 같다"
   ]
  },
  {
   "cell_type": "markdown",
   "id": "0a759c79",
   "metadata": {},
   "source": [
    "$$ \\alpha = \\beta $$"
   ]
  },
  {
   "cell_type": "markdown",
   "id": "01ec40ef",
   "metadata": {},
   "source": [
    "### 인라인 수식 그리스 문자 사용"
   ]
  },
  {
   "cell_type": "markdown",
   "id": "87984101",
   "metadata": {},
   "source": [
    "$\\alpha$ 는 alpha(알파)"
   ]
  },
  {
   "cell_type": "markdown",
   "id": "f4fd2839",
   "metadata": {},
   "source": [
    "$\\beta$는 beta(베타)"
   ]
  },
  {
   "cell_type": "markdown",
   "id": "b1933be3",
   "metadata": {},
   "source": [
    "$\\gamma$는 gamma(감마)"
   ]
  },
  {
   "cell_type": "markdown",
   "id": "9c3cba56",
   "metadata": {},
   "source": [
    "$\\delta$는 delta(델타)"
   ]
  },
  {
   "cell_type": "markdown",
   "id": "0f1205d8",
   "metadata": {},
   "source": [
    "$\\epsilon$은 epsilon(엡실론)"
   ]
  },
  {
   "cell_type": "markdown",
   "id": "6c5a5d7d",
   "metadata": {},
   "source": [
    "$\\zeta$는 zeta(제타)"
   ]
  },
  {
   "cell_type": "markdown",
   "id": "0d66b2b2",
   "metadata": {},
   "source": [
    "$\\eta$는 eta(에타)"
   ]
  },
  {
   "cell_type": "markdown",
   "id": "889e298b",
   "metadata": {},
   "source": [
    "$\\theta$는 theta(쎄타)"
   ]
  },
  {
   "cell_type": "markdown",
   "id": "de8e36ff",
   "metadata": {},
   "source": [
    "$\\kappa$는 kappa(카파)"
   ]
  },
  {
   "cell_type": "markdown",
   "id": "ca9b6821",
   "metadata": {},
   "source": [
    "$\\lambda$는 lambda(람다)"
   ]
  },
  {
   "cell_type": "markdown",
   "id": "2221672b",
   "metadata": {},
   "source": [
    "$\\mu$는 mu(뮤)"
   ]
  },
  {
   "cell_type": "markdown",
   "id": "cba4b414",
   "metadata": {},
   "source": [
    "$\\nu$는 nu(누)"
   ]
  },
  {
   "cell_type": "markdown",
   "id": "5598f5ee",
   "metadata": {},
   "source": [
    "$\\xi$는 xi(크싸이)"
   ]
  },
  {
   "cell_type": "markdown",
   "id": "d7bb271c",
   "metadata": {},
   "source": [
    "$\\pi$는 pi(파이)"
   ]
  },
  {
   "cell_type": "markdown",
   "id": "fa72dd98",
   "metadata": {},
   "source": [
    "$\\rho$는 rho(로)"
   ]
  },
  {
   "cell_type": "markdown",
   "id": "1a30979c",
   "metadata": {},
   "source": [
    "$\\sigma$는 sigma(시그마)"
   ]
  },
  {
   "cell_type": "markdown",
   "id": "681afda9",
   "metadata": {},
   "source": [
    "$\\tau$는 tau(타우)"
   ]
  },
  {
   "cell_type": "markdown",
   "id": "c4831aa8",
   "metadata": {},
   "source": [
    "$\\phi$는 phi(파이)"
   ]
  },
  {
   "cell_type": "markdown",
   "id": "d61e54b7",
   "metadata": {},
   "source": [
    "$\\chi$는 chi(카이)"
   ]
  },
  {
   "cell_type": "markdown",
   "id": "12c0fd4d",
   "metadata": {},
   "source": [
    "$\\psi$는 psi(프사이)"
   ]
  },
  {
   "cell_type": "markdown",
   "id": "c5c7bddc",
   "metadata": {},
   "source": [
    "$\\omega$는 omega(오메가)"
   ]
  },
  {
   "cell_type": "markdown",
   "id": "8b6eb604",
   "metadata": {},
   "source": [
    "### 디스플레이 수식 그리스 문자 연습"
   ]
  },
  {
   "cell_type": "markdown",
   "id": "09769749",
   "metadata": {},
   "source": [
    "$$ \\alpha는 alpha(알파) $$"
   ]
  },
  {
   "cell_type": "markdown",
   "id": "082507db",
   "metadata": {},
   "source": [
    "$$ \\beta는 beta(베타) $$"
   ]
  },
  {
   "cell_type": "markdown",
   "id": "e7bb1501",
   "metadata": {},
   "source": [
    "$$ \\gamma는 gamma(감마) $$"
   ]
  },
  {
   "cell_type": "markdown",
   "id": "86cd8437",
   "metadata": {},
   "source": [
    "$$ \\delta는 delta(델타) $$"
   ]
  },
  {
   "cell_type": "markdown",
   "id": "42674b74",
   "metadata": {},
   "source": [
    "$$ \\epsilon은 epsilon(엡실론) $$"
   ]
  },
  {
   "cell_type": "code",
   "execution_count": null,
   "id": "bf48f4a6",
   "metadata": {},
   "outputs": [],
   "source": []
  }
 ],
 "metadata": {
  "kernelspec": {
   "display_name": "Python 3",
   "language": "python",
   "name": "python3"
  },
  "language_info": {
   "codemirror_mode": {
    "name": "ipython",
    "version": 3
   },
   "file_extension": ".py",
   "mimetype": "text/x-python",
   "name": "python",
   "nbconvert_exporter": "python",
   "pygments_lexer": "ipython3",
   "version": "3.8.8"
  }
 },
 "nbformat": 4,
 "nbformat_minor": 5
}
