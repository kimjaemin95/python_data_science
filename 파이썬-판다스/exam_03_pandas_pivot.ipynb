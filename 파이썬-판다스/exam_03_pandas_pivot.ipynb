{
 "cells": [
  {
   "cell_type": "markdown",
   "id": "faa9ef34",
   "metadata": {},
   "source": [
    "### Pandas Pivot\n",
    "- 데이터 프레임에서 컬럼 데이터에서 index, column, value 를 선택해서 데이터 프레임을 만든는 방법\n",
    "- `df.pivot(index, columns, values)` : groupby 후 pivot을 실행\n",
    "- `df.pivot_table(values, index, columns, aggfunc)` : groupby 없이 pivot_table 실행"
   ]
  },
  {
   "cell_type": "code",
   "execution_count": null,
   "id": "df44cdbf",
   "metadata": {},
   "outputs": [],
   "source": []
  }
 ],
 "metadata": {
  "kernelspec": {
   "display_name": "Python 3",
   "language": "python",
   "name": "python3"
  },
  "language_info": {
   "codemirror_mode": {
    "name": "ipython",
    "version": 3
   },
   "file_extension": ".py",
   "mimetype": "text/x-python",
   "name": "python",
   "nbconvert_exporter": "python",
   "pygments_lexer": "ipython3",
   "version": "3.8.8"
  }
 },
 "nbformat": 4,
 "nbformat_minor": 5
}
