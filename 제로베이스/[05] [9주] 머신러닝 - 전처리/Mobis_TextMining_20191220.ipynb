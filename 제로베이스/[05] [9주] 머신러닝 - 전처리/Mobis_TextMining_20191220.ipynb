{
 "cells": [
  {
   "cell_type": "markdown",
   "metadata": {
    "slideshow": {
     "slide_type": "slide"
    }
   },
   "source": [
    "# 텍스트 마이닝 2"
   ]
  },
  {
   "cell_type": "markdown",
   "metadata": {},
   "source": [
    "## 2019-12-20\n",
    "\n",
    "## 김도형"
   ]
  },
  {
   "cell_type": "markdown",
   "metadata": {
    "slideshow": {
     "slide_type": "slide"
    }
   },
   "source": [
    "## 목차"
   ]
  },
  {
   "cell_type": "markdown",
   "metadata": {},
   "source": [
    "* 감성 분석\n",
    "* 분류 문제\n",
    "* 클러스터링\n",
    "* 토픽 모델링\n",
    "* 워드 임베딩"
   ]
  },
  {
   "cell_type": "markdown",
   "metadata": {
    "slideshow": {
     "slide_type": "slide"
    }
   },
   "source": [
    "## 필수 임포트 "
   ]
  },
  {
   "cell_type": "code",
   "execution_count": 1,
   "metadata": {},
   "outputs": [],
   "source": [
    "import numpy as np\n",
    "import pandas as pd\n",
    "import matplotlib.pylab as plt"
   ]
  },
  {
   "cell_type": "markdown",
   "metadata": {
    "slideshow": {
     "slide_type": "slide"
    }
   },
   "source": [
    "## 필요 패키지"
   ]
  },
  {
   "cell_type": "markdown",
   "metadata": {},
   "source": [
    "* KoNLPy\n",
    "* Scikit-Learn\n",
    "* Gensim\n",
    "* pyLDAvis\n"
   ]
  },
  {
   "cell_type": "markdown",
   "metadata": {
    "slideshow": {
     "slide_type": "slide"
    }
   },
   "source": [
    "## 감성 분석"
   ]
  },
  {
   "cell_type": "markdown",
   "metadata": {},
   "source": [
    "* 감성 분석 (Sentiment Analysis)\n",
    "\n",
    "    * 어떤 문서에 대해 좋다(positive) 혹은 나쁘다(negative)는 평가를 내리는 것\n",
    "    * 영화 감상평\n",
    "    * 상품 평가\n",
    "    * 뉴스와 주가의 상관관계 평가"
   ]
  },
  {
   "cell_type": "markdown",
   "metadata": {
    "slideshow": {
     "slide_type": "slide"
    }
   },
   "source": [
    "## 분류 문제"
   ]
  },
  {
   "cell_type": "markdown",
   "metadata": {},
   "source": [
    "* 분류 (Classification) 문제\n",
    "\n",
    "  * 입력변수(독립변수) $X$의 데이터 값을 받아서\n",
    "  * 출력변수(종속변수) $Y$의 범주를 예측\n",
    "  \n",
    "  \n",
    "* 감성 분석은\n",
    "\n",
    "  * 좋다 ($Y=1$)\n",
    "  * 나쁘다 ($Y=0$)\n",
    "  * 의 두가지 범주를 예측하는 이진 분류 "
   ]
  },
  {
   "cell_type": "markdown",
   "metadata": {
    "slideshow": {
     "slide_type": "slide"
    }
   },
   "source": [
    "## 분류 성능 평가"
   ]
  },
  {
   "cell_type": "markdown",
   "metadata": {},
   "source": [
    "* 분류 결과표\n",
    "* 정확도\n",
    "* 정밀도\n",
    "* 재현율\n",
    "* 위양성율\n",
    "* F-점수"
   ]
  },
  {
   "cell_type": "markdown",
   "metadata": {
    "slideshow": {
     "slide_type": "slide"
    }
   },
   "source": [
    "## 이진 분류결과표 "
   ]
  },
  {
   "cell_type": "markdown",
   "metadata": {},
   "source": [
    "클래스가 0과 1 두 종류 밖에 없는 이진 분류의 경우에는 일반적으로 클래스 이름을 양성(Positive)와 음성(Negative)로 표시한다. 이 때의 결과를 나타내는 이진 분류결과표(Binary Confusion Matrix)결과표는 다음과 같다.\n",
    "\n",
    "| <span/> | 양성이라고 예측  | 음성이라고 예측 | \n",
    "|-|-|-|\n",
    "| 실제 양성 | 양성 예측이 맞음 (True Positive)   |  음성 예측이 틀림 (False Negative) |             \n",
    "| 실제 음성 | 양성 예측이 틀림 (False Positive)  |  음성 예측이 맞음 (True Negative)   |   \n",
    "\n",
    "분류 모형의 예측 결과가 맞은 경우, 즉 양성을 양성이라고 예측하거나 음성을 음성이라고 예측한 경우에는 참(True)라고 하고 예측 결과가 틀린 경우, 즉 양성을 음성이라고 예측하거나 음성을 양성이라고 예측한 경우에는 거짓(False)이라고 한다.\n"
   ]
  },
  {
   "cell_type": "markdown",
   "metadata": {
    "slideshow": {
     "slide_type": "slide"
    }
   },
   "source": [
    "## 이진 분류의 예 1: 제품 검사"
   ]
  },
  {
   "cell_type": "markdown",
   "metadata": {},
   "source": [
    "제품을 생산하는 제조공장에서는 완성된 제품에 대해 품질 테스트를 실시하여 불량품을 찾아내고 찾아낸 불량품은 공장으로 되돌린다(리콜, recall). 이 때 품질 테스트 결과가 양성이면 불량품이라고 예측한 것이고 음성이고 정상제품이라고 예측한 것이다.\n",
    "\n",
    "* True Positive: 불량품을 불량품이라고 정확하게 예측\n",
    "* True Negative: 정상제품을 정상제품이라고 정확하게 예측\n",
    "* False Positive: 불량품을 정상제품이라고 잘못 예측\n",
    "* False Negative: 정상제품을 불량품이라고 잘못 예측\n",
    "\n",
    "|    <span />                | 불량품이라고 예측                | 정상제품이라고 예측                         | \n",
    "|--------------------|------------------------|---------------------------------|\n",
    "| 실제로 불량품    | True Positive            |  False Negative                   |             \n",
    "| 실제로 정상제품  | False Positive            |  True Negative                    |   "
   ]
  },
  {
   "cell_type": "markdown",
   "metadata": {
    "slideshow": {
     "slide_type": "slide"
    }
   },
   "source": [
    "## 이진 분류의 예 2: 암 검진"
   ]
  },
  {
   "cell_type": "markdown",
   "metadata": {},
   "source": [
    "암(cancer, 악성종양)을 검진할 때도 암에 걸린 것을 양성(陽性, positive)이라하고 걸리지 않은 것을 음성이라고 한다. 종양(tumar)의 양성(良性, benign), 악성(惡性, malignant) 용어와 다르다는 점에 주의하라.\n",
    "\n",
    "* True Positive: 암을 암이라고 정확하게 예측\n",
    "* True Negative: 암이 아닌것을 암이 아니라고 정확하게 예측\n",
    "* False Positive: 암을 암이 아니라고 잘못 예측\n",
    "* False Negative: 암이 아닌것을 암이라고 잘못 예측\n",
    "\n",
    "|   <span/>                  | 암이라고 예측                | 암이 아니라고 예측                         | \n",
    "|--------------------|------------------------|---------------------------------|\n",
    "| 실제로 암   | True Positive            |  False Negative                   |             \n",
    "| 실제로 암이 아님  | False Positive            |  True Negative                    |   "
   ]
  },
  {
   "cell_type": "markdown",
   "metadata": {
    "slideshow": {
     "slide_type": "slide"
    }
   },
   "source": [
    "## 이진 분류의 예 3: FDS"
   ]
  },
  {
   "cell_type": "markdown",
   "metadata": {},
   "source": [
    "FDS(Fraud Detection System)는 금융 거래, 회계 장부 등에서 잘못된 거래, 사기거래를 찾아내는 시스템을 말한다. FDS의 예측 결과가 양성이면  사기거래라고 예측한 것이고 음성이면 정상거래라고 예측한 것이다. \n",
    "\n",
    "* True Positive: 사기를 사기라고 정확하게 예측\n",
    "* True Negative: 정상을 정상이라고 정확하게 예측\n",
    "* False Positive: 정상을 사기라고 잘못 예측\n",
    "* False Negative: 사기를 정상이라고 잘못 예측\n",
    "\n",
    "|    <span />   | 사기라고 예측                | 정상이라고 예측                         | \n",
    "|---------------|------------------------|---------------------------------|\n",
    "| 실제로 사기  | True Positive            |  False Negative                   |             \n",
    "| 실제로 정상  | False Positive            |  True Negative                    |   "
   ]
  },
  {
   "cell_type": "markdown",
   "metadata": {
    "slideshow": {
     "slide_type": "slide"
    }
   },
   "source": [
    "## 정확도 (Accuracy)"
   ]
  },
  {
   "cell_type": "markdown",
   "metadata": {},
   "source": [
    "정확도(accuracy)는 전체 샘플 중 맞게 예측한 샘플 수의 비율을 뜻한다. 높을수록 좋은 모형이다. 일반적으로 학습에서 최적화 목적함수로 사용된다.\n",
    " \n",
    "$$ \\text{accuracy} = \\dfrac{TP + TN}{TP + TN + FP + FN} $$"
   ]
  },
  {
   "cell_type": "markdown",
   "metadata": {
    "slideshow": {
     "slide_type": "slide"
    }
   },
   "source": [
    "## 정밀도 (Precision)"
   ]
  },
  {
   "cell_type": "markdown",
   "metadata": {},
   "source": [
    "정밀도(precision)은 양성 클래스에 속한다고 출력한 샘플 중 실제로 양성 클래스에 속하는 샘플 수의 비율을 말한다. 높을수록 좋은 모형이다. FDS의 경우, 사기 거래라고 판단한 거래 중 실제 사기 거래의 비율이 된다.\n",
    " \n",
    "$$\\text{precision} = \\dfrac{TP}{TP + FP}$$"
   ]
  },
  {
   "cell_type": "markdown",
   "metadata": {
    "slideshow": {
     "slide_type": "slide"
    }
   },
   "source": [
    "## 재현율 (Recall)"
   ]
  },
  {
   "cell_type": "markdown",
   "metadata": {},
   "source": [
    "재현율(recall)은 실제 양성 클래스에 속한 표본 중에 양성 클래스에 속한다고 출력한 표본의 수의 비율을 뜻한다. 높을수록 좋은 모형이다. FDS의 경우 실제 사기 거래 중에서 실제 사기 거래라고 예측한 거래의 비율이 된다. TPR(true positive rate) 또는 민감도(sensitivity)라고도 한다.\n",
    " \n",
    "$$\\text{recall} = \\dfrac{TP}{TP + FN}$$"
   ]
  },
  {
   "cell_type": "markdown",
   "metadata": {
    "slideshow": {
     "slide_type": "slide"
    }
   },
   "source": [
    "## 위양성율 (Fall-out)"
   ]
  },
  {
   "cell_type": "markdown",
   "metadata": {},
   "source": [
    "위양성율(fall-out)은 실제 양성 클래스에 속하지 않는 표본 중에 양성 클래스에 속한다고 출력한 표본의 비율을 말한다. 다른 평가점수와 달리 낮을수록 좋은 모형이다. FDS의 경우에는 실제로는 정상 거래인데 FDS가 사기 거래라고 예측한 거래의 비율이 된다. FPR(false positive rate)또는 1에서 위양성률의 값을 뺀 값을 특이도(specificity)라고도 한다. \n",
    "\n",
    "$$\\text{fallout} = \\dfrac{FP}{FP + TN}$$"
   ]
  },
  {
   "cell_type": "markdown",
   "metadata": {
    "slideshow": {
     "slide_type": "slide"
    }
   },
   "source": [
    "## F-점수 (F Score)"
   ]
  },
  {
   "cell_type": "markdown",
   "metadata": {},
   "source": [
    "정밀도와 재현율의 가중조화평균(weight harmonic average)을 F점수(F-score)라고 한다. 정밀도에 주어지는 가중치를 베타(beta)라고 한다.\n",
    " \n",
    "$$\n",
    "F_\\beta = (1 + \\beta^2) \\, ({\\text{precision} \\times \\text{recall}}) \\, / \\, ({\\beta^2 \\, \\text{precision} + \\text{recall}})\n",
    "$$\n",
    "\n",
    "베타가 1인 경우를 특별히 F1점수라고 한다.\n",
    "\n",
    "$$\n",
    "F_1 = 2 \\cdot \\text{precision} \\cdot \\text{recall} \\, / \\, (\\text{precision} + \\text{recall})\n",
    "$$"
   ]
  },
  {
   "cell_type": "markdown",
   "metadata": {
    "slideshow": {
     "slide_type": "slide"
    }
   },
   "source": [
    "## 분류 모형의 종류"
   ]
  },
  {
   "cell_type": "markdown",
   "metadata": {},
   "source": [
    "* 분류 모형\n",
    "\n",
    " * 분류 문제를 풀기위한 방법론\n",
    "\n",
    "\n",
    "* 확률적 (probabilistic) 분류 모형\n",
    "\n",
    " * 주어진 데이터에 대해(conditionally) 각 카테고리 혹은 클래스가 정답일 조건부확률(conditional probability)를 계산\n",
    " \n",
    " \n",
    "* 판별적 (discriminative) 분류 모형\n",
    "\n",
    " * 주어진 데이터를 카테고리에 따라 서로 다른 영역으로 나누는 경계면(decision boundary)을 찾아낸 다음 이 경계면으로부터 주어진 데이터가 어느 위치에 있는지를 계산"
   ]
  },
  {
   "cell_type": "markdown",
   "metadata": {
    "slideshow": {
     "slide_type": "slide"
    }
   },
   "source": [
    "| 모형 | 방법론 | \n",
    "|-|-|\n",
    "| LDA/QDA  | 확률적 생성모형 |\n",
    "| 나이브 베이지안 | 확률적 생성모형 |\n",
    "| 로지스틱 회귀 | 확률적 판별모형 |\n",
    "| 의사결정나무 | 확률적 판별모형 |\n",
    "| 퍼셉트론 | 판별함수 모형 |\n",
    "| 서포트벡터머신 | 판별함수 모형 |\n",
    "| 인공신경망 | 판별함수 모형 |"
   ]
  },
  {
   "cell_type": "markdown",
   "metadata": {
    "slideshow": {
     "slide_type": "slide"
    }
   },
   "source": [
    "## 확률적 분류 모형"
   ]
  },
  {
   "cell_type": "markdown",
   "metadata": {},
   "source": [
    "* 출력변수 $y$가 $K$개의 클래스 $1, \\cdots, K$ 중의 하나의 값을 가진다고 가정.\n",
    "\n",
    "* 확률적 모형은 다음과 같은 순서로 $x$에 대한 클래스를 예측\n",
    "\n",
    "(1) 입력 $x$가 주어졌을 때 $y$가 클래스 $k$가 될 확률 $P(y=k \\mid x )$을 모두 계산\n",
    "\n",
    "$$\n",
    "\\begin{eqnarray}\n",
    "P_1 &=& P(y=1 \\mid x ) \\\\\n",
    "\\vdots & & \\vdots \\\\\n",
    "P_K &=& P(y=K \\mid x )\\\\\n",
    "\\end{eqnarray}\n",
    "$$\n",
    "\n",
    "(2) 이 중에서 가장 확률이 큰 클래스를 선택\n",
    "\n",
    "$$ \\hat{y} = \\arg\\max_{k} P(y=k \\mid x ) $$\n"
   ]
  },
  {
   "cell_type": "markdown",
   "metadata": {
    "slideshow": {
     "slide_type": "slide"
    }
   },
   "source": [
    "<img src=\"https://datascienceschool.net/upfiles/9fa17cb593a04f86b1ecd8a27c4764d8.png\" />"
   ]
  },
  {
   "cell_type": "markdown",
   "metadata": {
    "slideshow": {
     "slide_type": "slide"
    }
   },
   "source": [
    "<img src=\"https://datascienceschool.net/upfiles/713ca4d856e24ede9a4a701527784207.png\" />"
   ]
  },
  {
   "cell_type": "markdown",
   "metadata": {
    "slideshow": {
     "slide_type": "slide"
    }
   },
   "source": [
    "<img src=\"https://datascienceschool.net/upfiles/5e272f625de947fa8ed7286b98486d27.png\" />"
   ]
  },
  {
   "cell_type": "markdown",
   "metadata": {
    "slideshow": {
     "slide_type": "slide"
    }
   },
   "source": [
    "## 나이브 베이즈 분류 모형"
   ]
  },
  {
   "cell_type": "markdown",
   "metadata": {},
   "source": [
    "* 나이즈베이즈 분류모형(Naive Bayes classification model)\n",
    "\n",
    "  * 모든 개별 독립변수가 서로 조건부독립(conditional independent)이라는 가정\n",
    "  * 나이브 가정(naive assumption)\n",
    "  * $x$의 결합확률분포함수는 개별 스칼라 원소 $x_d$의 확률분포함수의 곱이 된다.\n",
    "\n",
    "$$\n",
    "P(x_1, \\ldots, x_D \\mid y = k) = \\prod_{d=1}^D P(x_d \\mid y = k)\n",
    "$$\n",
    "\n",
    "스칼라 원소 $x_d$의 확률분포함수는 결합확률분포함수보다 추정하기 훨씬 쉽다"
   ]
  },
  {
   "cell_type": "markdown",
   "metadata": {
    "slideshow": {
     "slide_type": "slide"
    }
   },
   "source": [
    "가능도함수를 추정한 후에는 베이즈정리를 사용하여 조건부확률을 계산할 수 있다.\n",
    "\n",
    "$$\n",
    "\\begin{align}\n",
    "P(y = k \\mid x) \n",
    "&= \\dfrac{ P(x_1, \\ldots, x_D \\mid y = k) P(y = k) }{P(x)} \\\\\n",
    "&= \\dfrac{ \\left( \\prod_{d=1}^D P(x_{d} \\mid y = k) \\right) P(y = k) }{P(x)}\n",
    "\\end{align}\n",
    "$$\n"
   ]
  },
  {
   "cell_type": "markdown",
   "metadata": {
    "slideshow": {
     "slide_type": "slide"
    }
   },
   "source": [
    "## 다항분포 나이브 베이즈 분류 모형"
   ]
  },
  {
   "cell_type": "markdown",
   "metadata": {},
   "source": [
    "* $x$ 벡터가 다항분포의 표본이라고 가정\n",
    "* 즉, $D$개의 면을 가지는 주사위를 $\\sum_{d=1}^D x_d$번 던져서 나온 결과로 본다.\n",
    "\n",
    "예를 들어 $x$가 다음과 같다면,\n",
    "\n",
    "$$ x = (1, 4, 0, 5) $$\n",
    "\n",
    "4면체 주사위를 10번 던져서 1인 면이 1번, 2인 면이 4번, 4인 면이 5번 나온 결과로 해석한다."
   ]
  },
  {
   "cell_type": "markdown",
   "metadata": {
    "slideshow": {
     "slide_type": "slide"
    }
   },
   "source": [
    "각 클래스마다 주사위가 다르다고 가정하므로 $K$개의 클래스를 구분하는 문제에서는 $D$개의 면을 가진 주사위가$K$개 있다고 본다. \n",
    "\n",
    "$$ \n",
    "P(x_1, \\ldots, x_D \\mid y = k) \n",
    "\\;\\; \\propto \\;\\; \\prod_{d=1}^D \\mu_{d,k}^{x_{d,k}} \n",
    "$$\n",
    "\n",
    "$$ \\sum_{d=1}^{D} \\mu_{d,k} = 1 $$\n",
    "\n",
    "따라서 다항분포 가능도 모형을 기반으로 하는 나이브베이즈 모형은 주사위를 던진 결과로부터  $1,\\ldots,K$ 중 어느 주사위를 던졌는지를 찾아내는 모형이라고 할 수 있다."
   ]
  },
  {
   "cell_type": "markdown",
   "metadata": {
    "slideshow": {
     "slide_type": "slide"
    }
   },
   "source": [
    "* 다항분포 나이브 베이즈 분류 모형은 BOW 인코딩 된 문서의 분류에 적합\n",
    "\n",
    " * 문서 => BOW 인코딩 => X 벡터의 분포 => 주사위를 던진 결과\n",
    " * 문서의 종류 => 주사위의 종류"
   ]
  },
  {
   "cell_type": "markdown",
   "metadata": {
    "slideshow": {
     "slide_type": "slide"
    }
   },
   "source": [
    "### Scikit-Learn을 사용한 분류"
   ]
  },
  {
   "cell_type": "markdown",
   "metadata": {},
   "source": [
    "* `MultinomialNB` 다항분포 나이브베이즈 클래스 사용\n",
    "* BOW 인코더를 파이프라인(pipeline)으로 연결하여 사용"
   ]
  },
  {
   "cell_type": "markdown",
   "metadata": {
    "slideshow": {
     "slide_type": "slide"
    }
   },
   "source": [
    "## 실습 1: 네이버 영화평 감성 분석"
   ]
  },
  {
   "cell_type": "markdown",
   "metadata": {
    "slideshow": {
     "slide_type": "slide"
    }
   },
   "source": [
    "### step 1: 텍스트 데이터 다운로드"
   ]
  },
  {
   "cell_type": "code",
   "execution_count": 2,
   "metadata": {},
   "outputs": [
    {
     "name": "stdout",
     "output_type": "stream",
     "text": [
      "--2019-12-20 11:05:47--  https://raw.githubusercontent.com/e9t/nsmc/master/ratings_train.txt\n",
      "Resolving raw.githubusercontent.com (raw.githubusercontent.com)... 151.101.228.133\n",
      "Connecting to raw.githubusercontent.com (raw.githubusercontent.com)|151.101.228.133|:443... connected.\n",
      "HTTP request sent, awaiting response... 200 OK\n",
      "Length: 14628807 (14M) [text/plain]\n",
      "Saving to: ‘ratings_train.txt’\n",
      "\n",
      "ratings_train.txt   100%[===================>]  13.95M  2.86MB/s    in 4.5s    \n",
      "\n",
      "2019-12-20 11:05:53 (3.11 MB/s) - ‘ratings_train.txt’ saved [14628807/14628807]\n",
      "\n",
      "--2019-12-20 11:05:53--  https://raw.githubusercontent.com/e9t/nsmc/master/ratings_test.txt\n",
      "Resolving raw.githubusercontent.com (raw.githubusercontent.com)... 151.101.228.133\n",
      "Connecting to raw.githubusercontent.com (raw.githubusercontent.com)|151.101.228.133|:443... connected.\n",
      "HTTP request sent, awaiting response... 200 OK\n",
      "Length: 4893335 (4.7M) [text/plain]\n",
      "Saving to: ‘ratings_test.txt’\n",
      "\n",
      "ratings_test.txt    100%[===================>]   4.67M  3.84MB/s    in 1.2s    \n",
      "\n",
      "2019-12-20 11:05:55 (3.84 MB/s) - ‘ratings_test.txt’ saved [4893335/4893335]\n",
      "\n"
     ]
    }
   ],
   "source": [
    "!rm -f ratings_train.txt ratings_test.txt\n",
    "!wget -nc https://raw.githubusercontent.com/e9t/nsmc/master/ratings_train.txt\n",
    "!wget -nc https://raw.githubusercontent.com/e9t/nsmc/master/ratings_test.txt"
   ]
  },
  {
   "cell_type": "markdown",
   "metadata": {
    "slideshow": {
     "slide_type": "slide"
    }
   },
   "source": [
    "### step 2: 텍스트 데이터 로드"
   ]
  },
  {
   "cell_type": "code",
   "execution_count": 3,
   "metadata": {},
   "outputs": [],
   "source": [
    "import codecs\n",
    "\n",
    "with codecs.open(\"ratings_train.txt\", encoding='utf-8') as f:\n",
    "    data = [line.split('\\t') for line in f.read().splitlines()]\n",
    "    data = data[1:]   # header 제외"
   ]
  },
  {
   "cell_type": "code",
   "execution_count": 4,
   "metadata": {},
   "outputs": [
    {
     "name": "stdout",
     "output_type": "stream",
     "text": [
      "['9976970', '아 더빙.. 진짜 짜증나네요 목소리', '0']\n"
     ]
    }
   ],
   "source": [
    "print(data[0])"
   ]
  },
  {
   "cell_type": "markdown",
   "metadata": {
    "slideshow": {
     "slide_type": "slide"
    }
   },
   "source": [
    "### step 3: 입출력 데이터 생성"
   ]
  },
  {
   "cell_type": "code",
   "execution_count": 5,
   "metadata": {},
   "outputs": [],
   "source": [
    "X = list(zip(*data))[1]\n",
    "y = np.array(list(zip(*data))[2], dtype=int)"
   ]
  },
  {
   "cell_type": "markdown",
   "metadata": {
    "slideshow": {
     "slide_type": "slide"
    }
   },
   "source": [
    "### step 4: 분류 모형 객체 생성"
   ]
  },
  {
   "cell_type": "code",
   "execution_count": 6,
   "metadata": {},
   "outputs": [],
   "source": [
    "from sklearn.feature_extraction.text import CountVectorizer\n",
    "from sklearn.naive_bayes import MultinomialNB\n",
    "from sklearn.pipeline import Pipeline\n",
    "\n",
    "model1 = Pipeline([\n",
    "    ('vect', CountVectorizer()),\n",
    "    ('mb', MultinomialNB()),\n",
    "])"
   ]
  },
  {
   "cell_type": "markdown",
   "metadata": {
    "slideshow": {
     "slide_type": "slide"
    }
   },
   "source": [
    "### step 5: 학습"
   ]
  },
  {
   "cell_type": "code",
   "execution_count": 7,
   "metadata": {},
   "outputs": [
    {
     "name": "stdout",
     "output_type": "stream",
     "text": [
      "CPU times: user 3.01 s, sys: 140 ms, total: 3.15 s\n",
      "Wall time: 3.18 s\n"
     ]
    },
    {
     "data": {
      "text/plain": [
       "Pipeline(memory=None,\n",
       "         steps=[('vect',\n",
       "                 CountVectorizer(analyzer='word', binary=False,\n",
       "                                 decode_error='strict',\n",
       "                                 dtype=<class 'numpy.int64'>, encoding='utf-8',\n",
       "                                 input='content', lowercase=True, max_df=1.0,\n",
       "                                 max_features=None, min_df=1,\n",
       "                                 ngram_range=(1, 1), preprocessor=None,\n",
       "                                 stop_words=None, strip_accents=None,\n",
       "                                 token_pattern='(?u)\\\\b\\\\w\\\\w+\\\\b',\n",
       "                                 tokenizer=None, vocabulary=None)),\n",
       "                ('mb',\n",
       "                 MultinomialNB(alpha=1.0, class_prior=None, fit_prior=True))],\n",
       "         verbose=False)"
      ]
     },
     "execution_count": 7,
     "metadata": {},
     "output_type": "execute_result"
    }
   ],
   "source": [
    "%%time\n",
    "model1.fit(X, y)"
   ]
  },
  {
   "cell_type": "markdown",
   "metadata": {
    "slideshow": {
     "slide_type": "slide"
    }
   },
   "source": [
    "### step 6: 성능 평가"
   ]
  },
  {
   "cell_type": "code",
   "execution_count": 8,
   "metadata": {},
   "outputs": [],
   "source": [
    "with codecs.open(\"ratings_test.txt\", encoding='utf-8') as f:\n",
    "    data_test = [line.split('\\t') for line in f.read().splitlines()]\n",
    "    data_test = data_test[1:]   # header 제외\n",
    "\n",
    "X_test = list(zip(*data_test))[1]\n",
    "y_test = np.array(list(zip(*data_test))[2], dtype=int)"
   ]
  },
  {
   "cell_type": "code",
   "execution_count": 9,
   "metadata": {
    "slideshow": {
     "slide_type": "slide"
    }
   },
   "outputs": [
    {
     "name": "stdout",
     "output_type": "stream",
     "text": [
      "              precision    recall  f1-score   support\n",
      "\n",
      "           0       0.81      0.84      0.83     24827\n",
      "           1       0.84      0.81      0.82     25173\n",
      "\n",
      "    accuracy                           0.83     50000\n",
      "   macro avg       0.83      0.83      0.83     50000\n",
      "weighted avg       0.83      0.83      0.83     50000\n",
      "\n"
     ]
    }
   ],
   "source": [
    "from sklearn.metrics import classification_report\n",
    "\n",
    "print(classification_report(y_test, model1.predict(X_test)))"
   ]
  },
  {
   "cell_type": "code",
   "execution_count": 30,
   "metadata": {},
   "outputs": [
    {
     "data": {
      "text/plain": [
       "array([1])"
      ]
     },
     "execution_count": 30,
     "metadata": {},
     "output_type": "execute_result"
    }
   ],
   "source": [
    "model1.predict([\"안 좋아\"])"
   ]
  },
  {
   "cell_type": "markdown",
   "metadata": {
    "slideshow": {
     "slide_type": "slide"
    }
   },
   "source": [
    "### step 7: 성능 개선"
   ]
  },
  {
   "cell_type": "markdown",
   "metadata": {},
   "source": [
    "* 한글 형태소 분석기\n",
    "* (1-2) N-그램 사용\n",
    "* TF-IDF 사용"
   ]
  },
  {
   "cell_type": "code",
   "execution_count": 31,
   "metadata": {},
   "outputs": [],
   "source": [
    "from konlpy.tag import Okt\n",
    "\n",
    "pos_tagger = Okt()\n",
    "\n",
    "def tokenize_pos(doc):\n",
    "    return ['/'.join(t) for t in pos_tagger.pos(doc)]"
   ]
  },
  {
   "cell_type": "code",
   "execution_count": 32,
   "metadata": {
    "slideshow": {
     "slide_type": "slide"
    }
   },
   "outputs": [
    {
     "name": "stdout",
     "output_type": "stream",
     "text": [
      "CPU times: user 3min 57s, sys: 8.46 s, total: 4min 6s\n",
      "Wall time: 3min 53s\n"
     ]
    },
    {
     "data": {
      "text/plain": [
       "Pipeline(memory=None,\n",
       "         steps=[('vect',\n",
       "                 TfidfVectorizer(analyzer='word', binary=False,\n",
       "                                 decode_error='strict',\n",
       "                                 dtype=<class 'numpy.float64'>,\n",
       "                                 encoding='utf-8', input='content',\n",
       "                                 lowercase=True, max_df=1.0, max_features=None,\n",
       "                                 min_df=1, ngram_range=(1, 2), norm='l2',\n",
       "                                 preprocessor=None, smooth_idf=True,\n",
       "                                 stop_words=None, strip_accents=None,\n",
       "                                 sublinear_tf=False,\n",
       "                                 token_pattern='(?u)\\\\b\\\\w\\\\w+\\\\b',\n",
       "                                 tokenizer=<function tokenize_pos at 0x7fcae4b21950>,\n",
       "                                 use_idf=True, vocabulary=None)),\n",
       "                ('mb',\n",
       "                 MultinomialNB(alpha=1.0, class_prior=None, fit_prior=True))],\n",
       "         verbose=False)"
      ]
     },
     "execution_count": 32,
     "metadata": {},
     "output_type": "execute_result"
    }
   ],
   "source": [
    "%%time\n",
    "from sklearn.feature_extraction.text import TfidfVectorizer\n",
    "\n",
    "model2 = Pipeline([\n",
    "    ('vect', TfidfVectorizer(tokenizer=tokenize_pos, ngram_range=(1, 2))),\n",
    "    ('mb', MultinomialNB()),\n",
    "])\n",
    "\n",
    "model2.fit(X, y)"
   ]
  },
  {
   "cell_type": "code",
   "execution_count": 33,
   "metadata": {
    "slideshow": {
     "slide_type": "slide"
    }
   },
   "outputs": [
    {
     "name": "stdout",
     "output_type": "stream",
     "text": [
      "              precision    recall  f1-score   support\n",
      "\n",
      "           0       0.86      0.87      0.87     24827\n",
      "           1       0.87      0.86      0.87     25173\n",
      "\n",
      "    accuracy                           0.87     50000\n",
      "   macro avg       0.87      0.87      0.87     50000\n",
      "weighted avg       0.87      0.87      0.87     50000\n",
      "\n",
      "CPU times: user 1min 16s, sys: 1.78 s, total: 1min 17s\n",
      "Wall time: 1min 16s\n"
     ]
    }
   ],
   "source": [
    "%%time\n",
    "print(classification_report(y_test, model2.predict(X_test)))"
   ]
  },
  {
   "cell_type": "code",
   "execution_count": 61,
   "metadata": {},
   "outputs": [
    {
     "data": {
      "text/plain": [
       "array([0])"
      ]
     },
     "execution_count": 61,
     "metadata": {},
     "output_type": "execute_result"
    }
   ],
   "source": [
    "model1.predict([\"python\"])"
   ]
  },
  {
   "cell_type": "code",
   "execution_count": 62,
   "metadata": {},
   "outputs": [
    {
     "data": {
      "text/plain": [
       "array([0])"
      ]
     },
     "execution_count": 62,
     "metadata": {},
     "output_type": "execute_result"
    }
   ],
   "source": [
    "model2.predict([\"python\"])"
   ]
  },
  {
   "cell_type": "markdown",
   "metadata": {
    "slideshow": {
     "slide_type": "slide"
    }
   },
   "source": [
    "## 클러스터링"
   ]
  },
  {
   "cell_type": "markdown",
   "metadata": {},
   "source": [
    "* 클러스터링(clustering) \n",
    "\n",
    "  * 주어진 데이터 집합을 유사한 데이터들의 그룹으로 나누는 것.\n",
    "  * 나누어진 유사한 데이터의 그룹을 클러스터(cluster)라 한다.\n",
    "\n",
    "\n",
    "* 클러스터링은 예측(prediction) 문제와 달리 특정한 독립변수와 종속변수의 구분도 없고 학습을 위한 목푯값(target value)도 필요로 하지 않는 비지도학습(unsupervised learning)의 일종이다."
   ]
  },
  {
   "cell_type": "markdown",
   "metadata": {
    "slideshow": {
     "slide_type": "slide"
    }
   },
   "source": [
    "## 문서 클러스터링"
   ]
  },
  {
   "cell_type": "markdown",
   "metadata": {},
   "source": [
    "* 문서 집합을 비슷한 문서끼리 묶는 작업\n",
    "\n",
    "  * BOW 인코딩 결과를 사용\n",
    "  * 비슷한 단어를 사용한 문서끼리 묶음"
   ]
  },
  {
   "cell_type": "markdown",
   "metadata": {
    "slideshow": {
     "slide_type": "slide"
    }
   },
   "source": [
    "## 클러스터링 방법"
   ]
  },
  {
   "cell_type": "markdown",
   "metadata": {},
   "source": [
    "* 예측모형과 달리 다만 목표함수가 명확히 주어지지 않았기 때문에  다양한 클러스터링 방법이 존재한다. \n",
    "\n",
    "  * K-means\n",
    "  * DBSCAN\n",
    "  * Spectral Clustering\n",
    "  * Affinity Propagation\n",
    "  * 계층적 클러스터링(Hierarchical Clustering)"
   ]
  },
  {
   "cell_type": "markdown",
   "metadata": {
    "slideshow": {
     "slide_type": "slide"
    }
   },
   "source": [
    "<img src=\"https://datascienceschool.net/upfiles/80b35e0d0c284fdbbea8557d8a8ee77f.png\" />"
   ]
  },
  {
   "cell_type": "markdown",
   "metadata": {
    "slideshow": {
     "slide_type": "slide"
    }
   },
   "source": [
    "## K-Means 클러스터링"
   ]
  },
  {
   "cell_type": "markdown",
   "metadata": {},
   "source": [
    "* 가장 단순하고 빠른 클러스터링 알고리즘\n",
    "* 다음과 같은 목적함수 값이 최소화될 때까지 \n",
    "* 클러스터의 중심(centroid) 위치와 각 데이터가 소속될 클러스터를 반복해서 찾는다. \n",
    "\n",
    "\n",
    "$$ J = \\sum_{k=1}^K \\sum_{i \\in C_k} d(x_i, \\mu_k)  $$\n"
   ]
  },
  {
   "cell_type": "markdown",
   "metadata": {
    "slideshow": {
     "slide_type": "slide"
    }
   },
   "source": [
    "<img src=\"https://datascienceschool.net/upfiles/6548eaf48b2147d89c5f03e7acd7e82d.png\" />"
   ]
  },
  {
   "cell_type": "markdown",
   "metadata": {
    "slideshow": {
     "slide_type": "slide"
    }
   },
   "source": [
    "## Scikit-Learn K-Means 사용법\n",
    "\n",
    "scikit-learn의 cluster 서브패키지는 KMeans 클러스터링을 위한 `KMeans` 클래스를 제공한다. 다음과 같은 인수를 받을 수 있다.\n",
    "\n",
    "* `n_clusters`: 클러스터의 갯수\n",
    "* `init`: 초기화 방법. `\"random\"`이면 무작위, `\"k-means++\"`이면 K-Means++ 방법. 또는 각 데이터의 클러스터 라벨. \n",
    "* `n_init`: 초기 중심값 시도 횟수. 디폴트는 10이고 10개의 무작위 중심값 목록 중 가장 좋은 값을 선택한다.\n",
    "* `max_iter`: 최대 반복 횟수.\n",
    "* `random_state`: 시드값.\n"
   ]
  },
  {
   "cell_type": "markdown",
   "metadata": {
    "slideshow": {
     "slide_type": "slide"
    }
   },
   "source": [
    "## 클러스터링 성능기준"
   ]
  },
  {
   "cell_type": "markdown",
   "metadata": {},
   "source": [
    "* 정답을 알고있는 경우\n",
    "  * Adjusted Rand Index\n",
    "  * Adjusted Mutual Information\n",
    "\n",
    "\n",
    "\n",
    "* 정답을 모르는 경우\n",
    "  * Silhouette Coefficient"
   ]
  },
  {
   "cell_type": "markdown",
   "metadata": {
    "slideshow": {
     "slide_type": "slide"
    }
   },
   "source": [
    "## Adjusted Rand Index"
   ]
  },
  {
   "cell_type": "markdown",
   "metadata": {},
   "source": [
    "* contingency table\n",
    "\n",
    "  * 정답과 클러스터링 결과에서 각각 같은 클러스터에 속하는 데이터의 갯수를 나타낸 것이다.\n",
    "\n",
    "정답은 \n",
    "\n",
    "$$ T=\\{T_1, T_2,\\ldots, T_r\\} $$\n",
    "\n",
    "의 $r$개의 클러스터이고 클러스터링 결과는\n",
    "\n",
    "$$ C=\\{C_1, C_2,\\ldots, C_s\\} $$\n",
    "\n",
    "의 $s$개의 클러스터라고 가정한다.\n"
   ]
  },
  {
   "cell_type": "markdown",
   "metadata": {
    "slideshow": {
     "slide_type": "slide"
    }
   },
   "source": [
    "\n",
    "$$\n",
    "\\begin{array}{c|cccc|c}\n",
    "T \\; \\backslash \\; C &\n",
    "C_1&\n",
    "C_2&\n",
    "\\ldots&\n",
    "C_s&\n",
    "\\text{소계}\n",
    "\\\\\n",
    "\\hline\n",
    "T_1&\n",
    "n_{11}&\n",
    "n_{12}&\n",
    "\\ldots&\n",
    "n_{1s}&\n",
    "a_1\n",
    "\\\\\n",
    "T_2&\n",
    "n_{21}&\n",
    "n_{22}&\n",
    "\\ldots&\n",
    "n_{2s}&\n",
    "a_2\n",
    "\\\\\n",
    "\\vdots&\n",
    "\\vdots&\n",
    "\\vdots&\n",
    "\\ddots&\n",
    "\\vdots&\n",
    "\\vdots\n",
    "\\\\\n",
    "T_r&\n",
    "n_{r1}&\n",
    "n_{r2}&\n",
    "\\ldots&\n",
    "n_{rs}&\n",
    "a_r\n",
    "\\\\\n",
    "\\hline\n",
    "\\text{소계}&\n",
    "b_1&\n",
    "b_2&\n",
    "\\ldots&\n",
    "b_s&\n",
    "\\end{array}\n",
    "$$\n",
    "\n",
    "\n",
    "* $n_{ij}$: 정답에서는 클러스터 $T_i$에 속하고 클러스터링 결과에서는 클러스터 $C_j$에 속하는 데이터의 수\n",
    "* $a_i = \\sum_{j=1}^s n_{ij}$\n",
    "* $b_j = \\sum_{i=1}^r n_{ij}$"
   ]
  },
  {
   "cell_type": "markdown",
   "metadata": {
    "slideshow": {
     "slide_type": "slide"
    }
   },
   "source": [
    "\n",
    "$$\n",
    "\\text{ARI} = \\frac{ \\overbrace{\\sum_{ij} \\binom{n_{ij}}{2}}^\\text{Index} - \\overbrace{[\\sum_i \\binom{a_i}{2} \\sum_j \\binom{b_j}{2}] / \\binom{n}{2}}^\\text{기댓값} }{ \\underbrace{\\frac{1}{2} [\\sum_i \\binom{a_i}{2} + \\sum_j \\binom{b_j}{2}]}_\\text{최댓값} - \\underbrace{[\\sum_i \\binom{a_i}{2} \\sum_j \\binom{b_j}{2}] / \\binom{n}{2}}_\\text{기댓값} }\n",
    "$$"
   ]
  },
  {
   "cell_type": "markdown",
   "metadata": {
    "slideshow": {
     "slide_type": "slide"
    }
   },
   "source": [
    "## Adjusted Mutual Information"
   ]
  },
  {
   "cell_type": "markdown",
   "metadata": {},
   "source": [
    "전체 데이터의 갯수를 $N$이라고 하면 이산확률변수 $T$의 분포는\n",
    "\n",
    "$$ P(i)=\\frac{|T_i|}{N} $$\n",
    "\n",
    "로 추정할 수 있다. 이 식에서 $|T_i|$는 클러스터 $T_i$에 속하는 데이터의 갯수를 나타낸다.\n",
    "\n",
    "비슷하게 이산확률변수 $C$의 분포는\n",
    "\n",
    "$$ P'(j)=\\frac{|C_i|}{N} $$\n",
    "\n",
    "라고 추정하고 $T$와 $C$의 결합확률분포는\n",
    "\n",
    "$$ P(i,j)=\\frac{|T_i \\cap C_j|}{N} $$\n",
    "\n",
    "라고 추정한다. 여기에서 $|T_i \\cap C_j|$는 클러스터 $T_i$에도 속하고 클러스터 $C_j$에도 속하는 데이터의 갯수를 나타낸다."
   ]
  },
  {
   "cell_type": "markdown",
   "metadata": {
    "slideshow": {
     "slide_type": "slide"
    }
   },
   "source": [
    "확률변수 $T, C$의 mutual information은 \n",
    "\n",
    "$$ MI(T,C)=\\sum_{i=1}^r \\sum_{j=1}^s P(i,j)\\log \\frac{P(i,j)}{P(i)P'(j)} $$\n",
    "\n",
    "로 정의한다.\n",
    "\n",
    "만약 두 확률변수가 서로 독립이면 mutual information의 값은 0이며 이 값이 mutual information이 가질 수 있는 최소값이다. 두 확률변수가 의존성이 강할수록 mutual information는 증가한다. 또한 클러스터의 갯수가 많아질수록 mutual information이 증가하므로 올바른 비교가 어렵다. 따라서 adjusted Rand index의 경우와 마찬가지로 각 경우에 따른 mutual information 기댓값을 빼서 재조정한 것이 adjusted mutual information이다."
   ]
  },
  {
   "cell_type": "markdown",
   "metadata": {
    "slideshow": {
     "slide_type": "slide"
    }
   },
   "source": [
    "## 실루엣 계수"
   ]
  },
  {
   "cell_type": "markdown",
   "metadata": {},
   "source": [
    "* 정답 정보가 없다면 어떻게 클러스터링이 잘되었는지 판단할 수 있을까? \n",
    "* 실루엣 계수(Silhouette coefficient)는 이러한 경우에 클러스터링의 성능을 판단하기 위한 기준의 하나이다.\n",
    "\n",
    "우선 모든 데이터 쌍 $(i, j)$에 대해 거리(distance) 혹은 비유사도(dissimilarity)을 구한다. 이 결과를 이용하여 모든 데이터 $i$에 대해 다음 값을 구한다.\n",
    "\n",
    "* $a_i$ : $i$와 같은 클러스터에 속한 원소들의 평균 거리\n",
    "* $b_i$ : $i$와 다른 클러스터 중 가장 가까운 클러스터까지의 평균 거리\n",
    "\n",
    "이 때 데이터  $i$에 대한 실루엣 계수는 \n",
    "\n",
    "$$ s_i = \\dfrac{b_i - a_i}{\\max{(a_i, b_i)}} $$\n",
    "\n",
    "로 정의한다. 전체 데이터의 실루엣 계수를 평균된 값을 평균 실루엣 계수라고 한다."
   ]
  },
  {
   "cell_type": "markdown",
   "metadata": {
    "slideshow": {
     "slide_type": "slide"
    }
   },
   "source": [
    "## 실습 2: 뉴스그룹 클러스터링"
   ]
  },
  {
   "cell_type": "markdown",
   "metadata": {
    "slideshow": {
     "slide_type": "slide"
    }
   },
   "source": [
    "### step 1: 텍스트 데이터 다운로드"
   ]
  },
  {
   "cell_type": "code",
   "execution_count": 2,
   "metadata": {},
   "outputs": [
    {
     "name": "stderr",
     "output_type": "stream",
     "text": [
      "Downloading 20news dataset. This may take a few minutes.\n",
      "Downloading dataset from https://ndownloader.figshare.com/files/5975967 (14 MB)\n"
     ]
    }
   ],
   "source": [
    "from sklearn.datasets import fetch_20newsgroups\n",
    "\n",
    "newsgroups = fetch_20newsgroups(subset=\"test\",\n",
    "    categories=[\"comp.graphics\", \"rec.sport.baseball\", \"sci.med\"])"
   ]
  },
  {
   "cell_type": "code",
   "execution_count": 3,
   "metadata": {
    "scrolled": false,
    "slideshow": {
     "slide_type": "slide"
    }
   },
   "outputs": [
    {
     "name": "stdout",
     "output_type": "stream",
     "text": [
      "From: justin@sydney.DIALix.oz.au (Justin Sullivan)\n",
      "Subject: Re: LCD VGA display\n",
      "Organization: DIALix Services, Sydney, New South Wales, Australia\n",
      "X-Newsreader: NN version 6.4.19 #1\n",
      "Lines: 30\n",
      "\n",
      "In <trevorC6Cz03.x2@netcom.com> trevor@netcom.com (Sandy Santra) writes:\n",
      "\n",
      ">Mike Mattone (mike@nx03.mik.uky.edu) wrote:\n",
      "\n",
      ">: I've only had the computer for about 21 months.\n",
      "\n",
      ">\"Only\"?!?  That's a long time!\n",
      "\n",
      ">: Is that a reasonable life\n",
      ">: cycle for a LCD display?\n",
      "\n",
      ">I think 21 months with nothing wrong until now is quite reasonable.  If\n",
      ">you had bought a Compaq or Toshiba, you might have reasonably expected the\n",
      ">machine to last longer before something went wrong; but that's a moot\n",
      ">point, perhaps.\n",
      "\n",
      "Maybe. I've had an Epson portable with backlit LCD since 1988 which is\n",
      "still used daily and the screen on that is fine. The only problem it\n",
      "has (and ever has had) is the \"arm\" of the screen is sorta lose and if\n",
      "you bend it fairly harshly the screen goes off until you wiggle it\n",
      "round a bit. But other than that, it's been perfect! So what's that,\n",
      "about um, 60 months???!\n",
      "\n",
      "*-----------------------------------------+-------------------------*\n",
      "| Justin Sullivan (System Administrator)  |  DIALix Services Sydney |\n",
      "+-----------------------------------------+  Modem    (02) 948 6918 |\n",
      "|       justin@sydney.dialix.oz.au        |  Ph Perth (09) 244 2433 |\n",
      "*-----------------------------------------+-------------------------*\n",
      "\n",
      "\n",
      "\n"
     ]
    }
   ],
   "source": [
    "print(newsgroups.data[0])"
   ]
  },
  {
   "cell_type": "code",
   "execution_count": 4,
   "metadata": {
    "slideshow": {
     "slide_type": "slide"
    }
   },
   "outputs": [
    {
     "name": "stdout",
     "output_type": "stream",
     "text": [
      "comp.graphics\n"
     ]
    }
   ],
   "source": [
    "print(newsgroups.target_names[newsgroups.target[0]])"
   ]
  },
  {
   "cell_type": "markdown",
   "metadata": {
    "slideshow": {
     "slide_type": "slide"
    }
   },
   "source": [
    "### step 2: BOW 인코딩"
   ]
  },
  {
   "cell_type": "code",
   "execution_count": 67,
   "metadata": {},
   "outputs": [],
   "source": [
    "from sklearn.feature_extraction.text import TfidfVectorizer\n",
    "\n",
    "vect = TfidfVectorizer(stop_words=\"english\")"
   ]
  },
  {
   "cell_type": "code",
   "execution_count": 68,
   "metadata": {
    "slideshow": {
     "slide_type": "slide"
    }
   },
   "outputs": [
    {
     "name": "stdout",
     "output_type": "stream",
     "text": [
      "CPU times: user 310 ms, sys: 0 ns, total: 310 ms\n",
      "Wall time: 296 ms\n"
     ]
    }
   ],
   "source": [
    "%%time\n",
    "X = vect.fit_transform(newsgroups.data)"
   ]
  },
  {
   "cell_type": "code",
   "execution_count": 69,
   "metadata": {},
   "outputs": [
    {
     "data": {
      "text/plain": [
       "(1182, 24621)"
      ]
     },
     "execution_count": 69,
     "metadata": {},
     "output_type": "execute_result"
    }
   ],
   "source": [
    "X.shape"
   ]
  },
  {
   "cell_type": "code",
   "execution_count": 79,
   "metadata": {
    "slideshow": {
     "slide_type": "slide"
    }
   },
   "outputs": [
    {
     "data": {
      "image/png": "[encoded data removed]",
      "text/plain": [
       "<Figure size 2400x1500 with 2 Axes>"
      ]
     },
     "metadata": {
      "needs_background": "light"
     },
     "output_type": "display_data"
    }
   ],
   "source": [
    "import seaborn as sns\n",
    "sns.heatmap(X.toarray()[:200, :200], linewidths=0.0001)\n",
    "plt.show()"
   ]
  },
  {
   "cell_type": "markdown",
   "metadata": {
    "slideshow": {
     "slide_type": "slide"
    }
   },
   "source": [
    "### step 3:  시각화"
   ]
  },
  {
   "cell_type": "code",
   "execution_count": 18,
   "metadata": {},
   "outputs": [],
   "source": [
    "from sklearn.decomposition import PCA\n",
    "\n",
    "pca = PCA(n_components=2)\n",
    "Y = pca.fit_transform(X.toarray())"
   ]
  },
  {
   "cell_type": "code",
   "execution_count": 19,
   "metadata": {
    "slideshow": {
     "slide_type": "slide"
    }
   },
   "outputs": [
    {
     "data": {
      "image/png": "[encoded data removed]",
      "text/plain": [
       "<Figure size 2400x1500 with 1 Axes>"
      ]
     },
     "metadata": {
      "needs_background": "light"
     },
     "output_type": "display_data"
    }
   ],
   "source": [
    "plt.scatter(Y[:, 0], Y[:, 1])\n",
    "plt.show()"
   ]
  },
  {
   "cell_type": "markdown",
   "metadata": {
    "slideshow": {
     "slide_type": "slide"
    }
   },
   "source": [
    "### step 4:  클러스터링"
   ]
  },
  {
   "cell_type": "code",
   "execution_count": 20,
   "metadata": {},
   "outputs": [],
   "source": [
    "from sklearn.cluster import KMeans\n",
    "\n",
    "model = KMeans(n_clusters=3)"
   ]
  },
  {
   "cell_type": "code",
   "execution_count": 21,
   "metadata": {},
   "outputs": [
    {
     "name": "stdout",
     "output_type": "stream",
     "text": [
      "CPU times: user 1min 58s, sys: 3.38 s, total: 2min 1s\n",
      "Wall time: 31.1 s\n"
     ]
    },
    {
     "data": {
      "text/plain": [
       "KMeans(algorithm='auto', copy_x=True, init='k-means++', max_iter=300,\n",
       "       n_clusters=3, n_init=10, n_jobs=None, precompute_distances='auto',\n",
       "       random_state=None, tol=0.0001, verbose=0)"
      ]
     },
     "execution_count": 21,
     "metadata": {},
     "output_type": "execute_result"
    }
   ],
   "source": [
    "%%time\n",
    "model.fit(X)"
   ]
  },
  {
   "cell_type": "code",
   "execution_count": 22,
   "metadata": {
    "slideshow": {
     "slide_type": "slide"
    }
   },
   "outputs": [],
   "source": [
    "y = model.predict(X)\n",
    "group1 = np.where(y == 0)[0]\n",
    "group2 = np.where(y == 1)[0]\n",
    "group3 = np.where(y == 2)[0]"
   ]
  },
  {
   "cell_type": "code",
   "execution_count": 23,
   "metadata": {
    "slideshow": {
     "slide_type": "slide"
    }
   },
   "outputs": [
    {
     "data": {
      "text/plain": [
       "array([0, 0, 0, 0, 0, 0, 0, 0, 0, 0, 0, 2, 0, 0, 0, 0, 0, 0, 2, 0, 0, 0,\n",
       "       0, 0, 0, 0, 0, 0, 0, 0, 0, 0, 0, 0, 0, 0, 0, 0, 0, 0, 0, 0, 0, 0,\n",
       "       0, 0, 0, 0, 0, 0, 0, 0, 0, 0, 0, 0, 0, 0, 0, 0, 0, 0, 0, 0, 0, 0,\n",
       "       0, 0, 0, 0, 0, 0, 0, 0, 0, 0, 0, 0, 0, 0, 0, 0, 0, 0, 0, 0, 0, 0,\n",
       "       0, 0, 0, 0, 0, 0, 0, 0, 0, 0, 0, 0, 0, 0, 0, 0, 0, 0, 0, 0, 0, 2,\n",
       "       0, 0, 0, 0, 0, 0, 0, 0, 0, 0, 0, 0, 0, 0, 0, 0, 0, 0, 0, 0, 0, 0,\n",
       "       0, 0, 0, 0, 0, 0, 0, 0, 0, 0, 0, 0, 0, 0, 0, 0, 0, 1, 0, 0, 0, 0,\n",
       "       0, 0, 0, 0, 0, 0, 0, 0, 0, 0, 0, 0, 0, 0, 0, 0, 0, 0, 0, 0, 0, 0,\n",
       "       0, 0, 0, 0, 0, 0, 0, 0, 0, 0, 0, 0, 0, 0, 0, 0, 0, 0, 0, 0, 0, 0,\n",
       "       0, 0, 2, 0, 0, 0, 0, 0, 0, 0, 0, 0, 0, 0, 0, 0, 0, 0, 0, 0, 0, 0,\n",
       "       0, 0, 0, 0, 0, 0, 0, 0, 0, 0, 0, 0, 0, 0, 0, 0, 0, 0, 0, 0, 0, 0,\n",
       "       0, 0, 0, 0, 0, 0, 0, 0, 0, 0, 0, 0, 0, 0, 0, 0, 0, 0, 0, 0, 0, 0,\n",
       "       0, 0])"
      ]
     },
     "execution_count": 23,
     "metadata": {},
     "output_type": "execute_result"
    }
   ],
   "source": [
    "newsgroups.target[group1]"
   ]
  },
  {
   "cell_type": "code",
   "execution_count": 24,
   "metadata": {
    "slideshow": {
     "slide_type": "slide"
    }
   },
   "outputs": [
    {
     "name": "stdout",
     "output_type": "stream",
     "text": [
      "ARI: 0.3082350769011828\n",
      "AMI: 0.41916014694674636\n"
     ]
    }
   ],
   "source": [
    "from sklearn.metrics.cluster import *\n",
    "\n",
    "print(\"ARI:\", adjusted_rand_score(newsgroups.target, y))\n",
    "print(\"AMI:\", adjusted_mutual_info_score(newsgroups.target, y))"
   ]
  },
  {
   "cell_type": "markdown",
   "metadata": {
    "slideshow": {
     "slide_type": "slide"
    }
   },
   "source": [
    "## 단어 임베딩"
   ]
  },
  {
   "cell_type": "markdown",
   "metadata": {},
   "source": [
    "* 단어 임베딩(Word Embedding)\n",
    "\n",
    "  * 텍스트를 구성하는 하나의 단어를 수치화하는 방법"
   ]
  },
  {
   "cell_type": "markdown",
   "metadata": {
    "slideshow": {
     "slide_type": "slide"
    }
   },
   "source": [
    "## BOW 단어 임베딩"
   ]
  },
  {
   "cell_type": "markdown",
   "metadata": {},
   "source": [
    "* BOW(Bag of Words)도 단어 임베딩의 일종\n",
    "\n",
    " * 단어 => 단어의 인덱스\n",
    " * 단어장이 \"I\", \"am\", \"a\", \"boy\", \"girl\" 다섯개의 단어로 이루어진 경우 각 단어에 다음과 같이 숫자를 할당한다.\n",
    "\n",
    "```\n",
    "\"I\": 0\n",
    "\"am\": 1\n",
    "\"a\": 2\n",
    "\"boy\": 3 \n",
    "\"girl\": 4\n",
    "```"
   ]
  },
  {
   "cell_type": "markdown",
   "metadata": {
    "slideshow": {
     "slide_type": "slide"
    }
   },
   "source": [
    "## Word2Vec"
   ]
  },
  {
   "cell_type": "markdown",
   "metadata": {},
   "source": [
    "* Word2Vec 단어 임베딩\n",
    "\n",
    " * 하나의 단어를 하나의 인덱스 정수가 아니라 실수 벡터로 나타낸다. \n",
    " * 예를 들어 2차원 임베딩을 하는 경우 다음과 같은 숫자 벡터가 될 수 있다.\n",
    "\n",
    "```\n",
    "\"I\": (0.3, 0.2)\n",
    "\"am\": (0.1, 0.8)\n",
    "\"a\": (0.5, 0.6)\n",
    "\"boy\": (0.2, 0.9) \n",
    "\"girl\": (0.4, 0.7)\n",
    "```"
   ]
  },
  {
   "cell_type": "markdown",
   "metadata": {
    "slideshow": {
     "slide_type": "slide"
    }
   },
   "source": [
    "## 신경망 언어 모형 "
   ]
  },
  {
   "cell_type": "markdown",
   "metadata": {},
   "source": [
    "* 이러한 단어 임베딩은 신경망을 이용하여 언어 모형을 만들려는 시도에서 나왔다. \n",
    "\n",
    "* V개의 단어를 가지는 단어장이 있을 때, 단어를 BOW 방식으로 크기 V인 벡터로 만든 다음 다음 그림과 같이 하나의 은닉층(Hidden Layer)을 가지는 신경망을 사용하여 특정 단어 열(word sequence)이 주어졌을 때 다음에 나올 단어를 예측하는 문제를 생각해 보자. 입력과 출력은 모두 BOW 방식으로 인코딩되어 있다.\n",
    "\n",
    "* 입력 $x$가 들어가면 입력 가중치 행렬 $W$이 곱해져서 은닉층 벡터 $h$가 되는데 $x$가 one-hot-encoding 된 값이므로 $h$ 벡터는 입력 가중치 행렬  $W$의 행 하나에 대응된다. \n",
    "<img src=\"https://datascienceschool.net/upfiles/d0cd427eb0444148853a4bbc3fa2ac8c.png\" style=\"width: 100%;\">"
   ]
  },
  {
   "cell_type": "markdown",
   "metadata": {
    "slideshow": {
     "slide_type": "slide"
    }
   },
   "source": [
    "## Word2Vec 구현 방법"
   ]
  },
  {
   "cell_type": "markdown",
   "metadata": {},
   "source": [
    "* CBOW (Continuous Bag of Words) Embedding\n",
    "* Skip-Gram Embedding"
   ]
  },
  {
   "cell_type": "markdown",
   "metadata": {
    "slideshow": {
     "slide_type": "slide"
    }
   },
   "source": [
    "## CBOW (Continuous Bag of Words)"
   ]
  },
  {
   "cell_type": "markdown",
   "metadata": {},
   "source": [
    "* CBOW (Continuous Bag of Words) 방식\n",
    "\n",
    "  * 복수 단어 문맥(multi-word context)에 대한 문제 즉, 여러개의 단어를 나열한 뒤 이와 관련된 단어를 추정하는 문제이다. \n",
    "  * 즉, 문자에서 나오는 $n$개의 단어 열로부터 다음 단어를 예측하는 문제가 된다.\n"
   ]
  },
  {
   "cell_type": "markdown",
   "metadata": {
    "slideshow": {
     "slide_type": "slide"
    }
   },
   "source": [
    "<img src=\"https://datascienceschool.net/upfiles/1b6796e90e824dfe82910f0bb3ce47d5.png\" style=\"width: 100%;\">"
   ]
  },
  {
   "cell_type": "markdown",
   "metadata": {
    "slideshow": {
     "slide_type": "slide"
    }
   },
   "source": [
    "<img src=\"https://datascienceschool.net/upfiles/e62aadf1e8324d16a66288f2c83c470a.png\" style=\"width: 100%;\">"
   ]
  },
  {
   "cell_type": "markdown",
   "metadata": {
    "slideshow": {
     "slide_type": "slide"
    }
   },
   "source": [
    "## Skip-Gram Embedding"
   ]
  },
  {
   "cell_type": "markdown",
   "metadata": {},
   "source": [
    "* Skip-Gram 방식은 CBOW 방식과 반대로 특정한 단어로부터 문맥이 될 수 있는 단어를 예측"
   ]
  },
  {
   "cell_type": "markdown",
   "metadata": {
    "slideshow": {
     "slide_type": "slide"
    }
   },
   "source": [
    "\n",
    "<img src=\"https://datascienceschool.net/upfiles/de649c0d600f410dacf09f71639209ed.png\" style=\"width: 100%;\">\n"
   ]
  },
  {
   "cell_type": "markdown",
   "metadata": {
    "slideshow": {
     "slide_type": "slide"
    }
   },
   "source": [
    "## Word2Vec 결과"
   ]
  },
  {
   "cell_type": "markdown",
   "metadata": {},
   "source": [
    "* 단어의 \n",
    "\n",
    "  * 사전적 의미\n",
    "  * 문법적 의미\n",
    "  * 사회적 의미\n",
    "  \n",
    "등을 벡터 값에 포함함"
   ]
  },
  {
   "cell_type": "markdown",
   "metadata": {
    "slideshow": {
     "slide_type": "slide"
    }
   },
   "source": [
    "<img src=\"https://datascienceschool.net/upfiles/df7c2172efdf436b97e9de5ddf47d0de.png\"/>"
   ]
  },
  {
   "cell_type": "markdown",
   "metadata": {
    "slideshow": {
     "slide_type": "slide"
    }
   },
   "source": [
    "## 벡터의 뺄셈"
   ]
  },
  {
   "cell_type": "markdown",
   "metadata": {},
   "source": [
    "$$ (a - b) + b = a $$"
   ]
  },
  {
   "cell_type": "markdown",
   "metadata": {},
   "source": [
    "<img src=\"https://datascienceschool.net/upfiles/f82a3877a9e546c1a37a303b52b3e7fc.png\" />"
   ]
  },
  {
   "cell_type": "markdown",
   "metadata": {},
   "source": [
    "* (한국 - 서울)\n",
    "\n",
    " * 서울에서 한국으로 가는 벡터\n",
    " * 수도에서 국가로 변환하는 연산\n",
    " \n",
    " \n",
    "* 도쿄 + (한국 - 서울)\n",
    "\n",
    " * 수도에서 국가로 변환하는 연산을 도쿄에 적용하면?\n",
    " * 일본이 된다"
   ]
  },
  {
   "cell_type": "markdown",
   "metadata": {
    "slideshow": {
     "slide_type": "slide"
    }
   },
   "source": [
    "<img src=\"https://datascienceschool.net/upfiles/b4d24a1123a34e109079a2d228047188.png\" />"
   ]
  },
  {
   "cell_type": "markdown",
   "metadata": {
    "slideshow": {
     "slide_type": "slide"
    }
   },
   "source": [
    "## 실습 3: Word2Vec 실습"
   ]
  },
  {
   "cell_type": "markdown",
   "metadata": {
    "slideshow": {
     "slide_type": "slide"
    }
   },
   "source": [
    "### gensim 패키지 설치"
   ]
  },
  {
   "cell_type": "markdown",
   "metadata": {},
   "source": [
    "```\n",
    "pip install gensim\n",
    "```"
   ]
  },
  {
   "cell_type": "markdown",
   "metadata": {
    "slideshow": {
     "slide_type": "slide"
    }
   },
   "source": [
    "### step 1: 학습용 영어 말뭉치 다운로드 "
   ]
  },
  {
   "cell_type": "code",
   "execution_count": 80,
   "metadata": {},
   "outputs": [],
   "source": [
    "from nltk.corpus import movie_reviews\n",
    "\n",
    "sentences = [list(s) for s in movie_reviews.sents()]"
   ]
  },
  {
   "cell_type": "markdown",
   "metadata": {
    "slideshow": {
     "slide_type": "slide"
    }
   },
   "source": [
    "### step 2: Word2Vec 클래스 객체 생성"
   ]
  },
  {
   "cell_type": "code",
   "execution_count": 81,
   "metadata": {},
   "outputs": [
    {
     "name": "stdout",
     "output_type": "stream",
     "text": [
      "CPU times: user 14.3 s, sys: 460 ms, total: 14.7 s\n",
      "Wall time: 7.78 s\n"
     ]
    }
   ],
   "source": [
    "%%time\n",
    "from gensim.models.word2vec import Word2Vec\n",
    "\n",
    "model = Word2Vec(sentences)"
   ]
  },
  {
   "cell_type": "markdown",
   "metadata": {
    "slideshow": {
     "slide_type": "slide"
    }
   },
   "source": [
    "### step 3: 유사도 계산"
   ]
  },
  {
   "cell_type": "code",
   "execution_count": 82,
   "metadata": {},
   "outputs": [
    {
     "data": {
      "text/plain": [
       "0.8892125"
      ]
     },
     "execution_count": 82,
     "metadata": {},
     "output_type": "execute_result"
    }
   ],
   "source": [
    "model.wv.similarity('actor', 'actress')"
   ]
  },
  {
   "cell_type": "code",
   "execution_count": 83,
   "metadata": {},
   "outputs": [
    {
     "data": {
      "text/plain": [
       "0.8584894"
      ]
     },
     "execution_count": 83,
     "metadata": {},
     "output_type": "execute_result"
    }
   ],
   "source": [
    "model.wv.similarity('he', 'she')"
   ]
  },
  {
   "cell_type": "code",
   "execution_count": 84,
   "metadata": {},
   "outputs": [
    {
     "data": {
      "text/plain": [
       "0.23523451"
      ]
     },
     "execution_count": 84,
     "metadata": {},
     "output_type": "execute_result"
    }
   ],
   "source": [
    "model.wv.similarity('actor', 'she')"
   ]
  },
  {
   "cell_type": "code",
   "execution_count": 85,
   "metadata": {
    "slideshow": {
     "slide_type": "slide"
    }
   },
   "outputs": [
    {
     "data": {
      "text/plain": [
       "[('plane', 0.8664605617523193),\n",
       " ('prison', 0.866441011428833),\n",
       " ('army', 0.8627486824989319),\n",
       " ('church', 0.8585507273674011),\n",
       " ('truck', 0.853996992111206),\n",
       " ('guard', 0.8471652865409851),\n",
       " ('victim', 0.8452089428901672),\n",
       " ('meeting', 0.8427709341049194),\n",
       " ('escapes', 0.8425905704498291),\n",
       " ('position', 0.8368675112724304)]"
      ]
     },
     "execution_count": 85,
     "metadata": {},
     "output_type": "execute_result"
    }
   ],
   "source": [
    "model.wv.most_similar(\"accident\")"
   ]
  },
  {
   "cell_type": "markdown",
   "metadata": {
    "slideshow": {
     "slide_type": "slide"
    }
   },
   "source": [
    "### step 4: 임베딩 벡터 연산"
   ]
  },
  {
   "cell_type": "markdown",
   "metadata": {},
   "source": [
    "> he + (actress - actor) = she\n",
    "\n",
    "* (actress - actor): 남성에서 여성으로 가는 벡터\n",
    "* he + (actress - actor): 남성에서 여성으로 가는 벡터를 he에 적용"
   ]
  },
  {
   "cell_type": "code",
   "execution_count": 86,
   "metadata": {
    "slideshow": {
     "slide_type": "-"
    }
   },
   "outputs": [
    {
     "data": {
      "text/plain": [
       "[('she', 0.39657968282699585)]"
      ]
     },
     "execution_count": 86,
     "metadata": {},
     "output_type": "execute_result"
    }
   ],
   "source": [
    "model.wv.most_similar(positive=['he', 'actress'], negative='actor', topn=1)"
   ]
  },
  {
   "cell_type": "code",
   "execution_count": 88,
   "metadata": {
    "slideshow": {
     "slide_type": "-"
    }
   },
   "outputs": [
    {
     "data": {
      "text/plain": [
       "[('she', 0.564258873462677)]"
      ]
     },
     "execution_count": 88,
     "metadata": {},
     "output_type": "execute_result"
    }
   ],
   "source": [
    "model.wv.most_similar(positive=['he', 'girl'], negative='boy', topn=1)"
   ]
  },
  {
   "cell_type": "code",
   "execution_count": 90,
   "metadata": {
    "slideshow": {
     "slide_type": "-"
    }
   },
   "outputs": [
    {
     "data": {
      "text/plain": [
       "[('she', 0.6337169408798218)]"
      ]
     },
     "execution_count": 90,
     "metadata": {},
     "output_type": "execute_result"
    }
   ],
   "source": [
    "model.wv.most_similar(positive=['he', 'miss'], negative='mr', topn=1)"
   ]
  },
  {
   "cell_type": "markdown",
   "metadata": {
    "slideshow": {
     "slide_type": "slide"
    }
   },
   "source": [
    "### step 5: 학습용 한글 말뭉치 다운로드"
   ]
  },
  {
   "cell_type": "code",
   "execution_count": 32,
   "metadata": {},
   "outputs": [
    {
     "name": "stdout",
     "output_type": "stream",
     "text": [
      "File ‘ratings_train.txt’ already there; not retrieving.\n",
      "\n",
      "CPU times: user 460 ms, sys: 30 ms, total: 490 ms\n",
      "Wall time: 494 ms\n"
     ]
    }
   ],
   "source": [
    "%%time\n",
    "!wget -nc https://raw.githubusercontent.com/e9t/nsmc/master/ratings_train.txt"
   ]
  },
  {
   "cell_type": "markdown",
   "metadata": {
    "slideshow": {
     "slide_type": "slide"
    }
   },
   "source": [
    "### step 6: 인코딩 전처리"
   ]
  },
  {
   "cell_type": "code",
   "execution_count": 92,
   "metadata": {},
   "outputs": [],
   "source": [
    "import codecs\n",
    "\n",
    "def read_data(filename):\n",
    "    with codecs.open(filename, encoding='utf-8', mode='r') as f:\n",
    "        data = [line.split('\\t') for line in f.read().splitlines()]\n",
    "        data = data[1:]   # header 제외\n",
    "    return data\n",
    "\n",
    "train_data = read_data('ratings_train.txt')"
   ]
  },
  {
   "cell_type": "markdown",
   "metadata": {
    "slideshow": {
     "slide_type": "slide"
    }
   },
   "source": [
    "### step 7: 형태소 분석"
   ]
  },
  {
   "cell_type": "code",
   "execution_count": 93,
   "metadata": {},
   "outputs": [],
   "source": [
    "from konlpy.tag import Okt\n",
    "tagger = Okt()\n",
    "\n",
    "def tokenize(doc):\n",
    "    return ['/'.join(t) for t in tagger.pos(doc, norm=True, stem=True)]\n",
    "\n",
    "train_docs = [row[1] for row in train_data]"
   ]
  },
  {
   "cell_type": "code",
   "execution_count": 94,
   "metadata": {},
   "outputs": [
    {
     "name": "stdout",
     "output_type": "stream",
     "text": [
      "CPU times: user 6min 12s, sys: 9.71 s, total: 6min 21s\n",
      "Wall time: 6min 14s\n"
     ]
    }
   ],
   "source": [
    "%%time\n",
    "sentences = [tokenize(d) for d in train_docs]"
   ]
  },
  {
   "cell_type": "markdown",
   "metadata": {
    "slideshow": {
     "slide_type": "slide"
    }
   },
   "source": [
    "### step 8: Word2Vec 생성 "
   ]
  },
  {
   "cell_type": "code",
   "execution_count": 95,
   "metadata": {},
   "outputs": [
    {
     "name": "stdout",
     "output_type": "stream",
     "text": [
      "CPU times: user 20.2 s, sys: 340 ms, total: 20.6 s\n",
      "Wall time: 10.1 s\n"
     ]
    }
   ],
   "source": [
    "%%time\n",
    "\n",
    "model = Word2Vec(sentences)"
   ]
  },
  {
   "cell_type": "markdown",
   "metadata": {
    "slideshow": {
     "slide_type": "slide"
    }
   },
   "source": [
    "### step 9: 유사도 계산"
   ]
  },
  {
   "cell_type": "code",
   "execution_count": 96,
   "metadata": {},
   "outputs": [
    {
     "data": {
      "text/plain": [
       "0.73392826"
      ]
     },
     "execution_count": 96,
     "metadata": {},
     "output_type": "execute_result"
    }
   ],
   "source": [
    "model.wv.similarity(*tokenize(u'배우 여배우'))"
   ]
  },
  {
   "cell_type": "code",
   "execution_count": 97,
   "metadata": {},
   "outputs": [
    {
     "data": {
      "text/plain": [
       "0.92035764"
      ]
     },
     "execution_count": 97,
     "metadata": {},
     "output_type": "execute_result"
    }
   ],
   "source": [
    "model.wv.similarity(*tokenize(u'남자 여자'))"
   ]
  },
  {
   "cell_type": "code",
   "execution_count": 98,
   "metadata": {},
   "outputs": [
    {
     "data": {
      "text/plain": [
       "0.31333023"
      ]
     },
     "execution_count": 98,
     "metadata": {},
     "output_type": "execute_result"
    }
   ],
   "source": [
    "model.wv.similarity(*tokenize(u'배우 여자'))"
   ]
  },
  {
   "cell_type": "markdown",
   "metadata": {
    "slideshow": {
     "slide_type": "slide"
    }
   },
   "source": [
    "### step 10: 임베딩 벡터 연산"
   ]
  },
  {
   "cell_type": "markdown",
   "metadata": {},
   "source": [
    "> 남자 + (여배우 - 배우) = 여자\n",
    "\n",
    "* (여배우 - 배우): 남성에서 여성으로 가는 벡터\n",
    "* 남자 + (여배우 - 배우): 남성에서 여성으로 가는 벡터 남자에 적용"
   ]
  },
  {
   "cell_type": "code",
   "execution_count": 100,
   "metadata": {},
   "outputs": [
    {
     "data": {
      "text/plain": [
       "[('여자/Noun', 0.8179981708526611)]"
      ]
     },
     "execution_count": 100,
     "metadata": {},
     "output_type": "execute_result"
    }
   ],
   "source": [
    "model.wv.most_similar(positive=tokenize('남자 여배우'), negative=tokenize('배우'), topn=1)"
   ]
  },
  {
   "cell_type": "code",
   "execution_count": 101,
   "metadata": {},
   "outputs": [
    {
     "data": {
      "text/plain": [
       "[('여자/Noun', 0.7065114378929138)]"
      ]
     },
     "execution_count": 101,
     "metadata": {},
     "output_type": "execute_result"
    }
   ],
   "source": [
    "model.wv.most_similar(positive=tokenize('남자 여왕'), negative=tokenize('왕'), topn=1)"
   ]
  },
  {
   "cell_type": "code",
   "execution_count": 108,
   "metadata": {},
   "outputs": [
    {
     "data": {
      "text/plain": [
       "[('꽃님/Noun', 0.8351242542266846)]"
      ]
     },
     "execution_count": 108,
     "metadata": {},
     "output_type": "execute_result"
    }
   ],
   "source": [
    "model.wv.most_similar(positive=tokenize('남자 이모'), negative=tokenize('여자'), topn=1)"
   ]
  },
  {
   "cell_type": "markdown",
   "metadata": {
    "slideshow": {
     "slide_type": "slide"
    }
   },
   "source": [
    "### step 11: 이미 만들어진 Word2Vec 실습"
   ]
  },
  {
   "cell_type": "markdown",
   "metadata": {},
   "source": [
    "* http://word2vec.kr/search/"
   ]
  },
  {
   "cell_type": "markdown",
   "metadata": {},
   "source": [
    "이 웹사이트에서 각종 Word2Vec 연산을 실습해 볼 것 "
   ]
  },
  {
   "cell_type": "markdown",
   "metadata": {
    "slideshow": {
     "slide_type": "slide"
    }
   },
   "source": [
    "## 토픽 모델링"
   ]
  },
  {
   "cell_type": "markdown",
   "metadata": {},
   "source": [
    "* 토픽(topic)\n",
    "\n",
    " * 문서를 구성하는 단어의 비율\n",
    " * 문서 집합의 추상적인 주제"
   ]
  },
  {
   "cell_type": "markdown",
   "metadata": {
    "slideshow": {
     "slide_type": "slide"
    }
   },
   "source": [
    "<img src=\"https://datascienceschool.net/upfiles/4e350a6c64d94ac18caf49b3a804639a.png\" />"
   ]
  },
  {
   "cell_type": "markdown",
   "metadata": {
    "slideshow": {
     "slide_type": "slide"
    }
   },
   "source": [
    "## 토픽 모델링"
   ]
  },
  {
   "cell_type": "markdown",
   "metadata": {},
   "source": [
    "* 문서 집합의 단어 분포로부터 \n",
    "\n",
    "  * 각 토픽의 단어 분포와 \n",
    "  * 각 문서의 토픽 분포를\n",
    "  \n",
    "추정하는 법"
   ]
  },
  {
   "cell_type": "markdown",
   "metadata": {
    "slideshow": {
     "slide_type": "slide"
    }
   },
   "source": [
    "<img src=\"https://datascienceschool.net/upfiles/3435b95be06743cda6a136f69c730828.png\" />"
   ]
  },
  {
   "cell_type": "markdown",
   "metadata": {
    "slideshow": {
     "slide_type": "slide"
    }
   },
   "source": [
    "## 실습 4: 토픽 모델링 실습"
   ]
  },
  {
   "cell_type": "markdown",
   "metadata": {
    "slideshow": {
     "slide_type": "slide"
    }
   },
   "source": [
    "### step 0: 필요 패키지 설치"
   ]
  },
  {
   "cell_type": "markdown",
   "metadata": {},
   "source": [
    "```\n",
    "pip install pyLDAvis\n",
    "```"
   ]
  },
  {
   "cell_type": "markdown",
   "metadata": {
    "slideshow": {
     "slide_type": "slide"
    }
   },
   "source": [
    "### step 1: 텍스트 데이터 다운로드"
   ]
  },
  {
   "cell_type": "code",
   "execution_count": 1,
   "metadata": {},
   "outputs": [],
   "source": [
    "from sklearn.datasets import fetch_20newsgroups\n",
    "\n",
    "newsgroups = fetch_20newsgroups(\n",
    "    categories=[\"comp.graphics\", \"rec.sport.baseball\", \"sci.med\"])"
   ]
  },
  {
   "cell_type": "markdown",
   "metadata": {
    "slideshow": {
     "slide_type": "slide"
    }
   },
   "source": [
    "### step 2: 명사 추출"
   ]
  },
  {
   "cell_type": "code",
   "execution_count": 3,
   "metadata": {},
   "outputs": [],
   "source": [
    "from nltk.tag import pos_tag\n",
    "from nltk.tokenize import word_tokenize\n",
    "\n",
    "tagged_list = [pos_tag(word_tokenize(doc)) for doc in newsgroups.data]\n",
    "nouns_list = [[t[0].lower() for t in doc if t[1].startswith(\"N\")] for doc in tagged_list]"
   ]
  },
  {
   "cell_type": "markdown",
   "metadata": {
    "slideshow": {
     "slide_type": "slide"
    }
   },
   "source": [
    "### step 3: 표제어 추출 "
   ]
  },
  {
   "cell_type": "code",
   "execution_count": 111,
   "metadata": {},
   "outputs": [],
   "source": [
    "from nltk.stem import WordNetLemmatizer\n",
    "\n",
    "lm = WordNetLemmatizer()\n",
    "\n",
    "token_list = [[lm.lemmatize(w, pos=\"n\") for w in doc] for doc in nouns_list]"
   ]
  },
  {
   "cell_type": "markdown",
   "metadata": {
    "slideshow": {
     "slide_type": "slide"
    }
   },
   "source": [
    "### step 4: 불용어 제거"
   ]
  },
  {
   "cell_type": "code",
   "execution_count": 112,
   "metadata": {},
   "outputs": [],
   "source": [
    "from nltk.corpus import stopwords\n",
    "\n",
    "stop_words = stopwords.words('english')\n",
    "stop_words += [\"\", \"subject\", \"article\", \"line\", \"lines\", \"year\", \"month\", \n",
    "               \"address\", \"keyword\", \"msg\"]\n",
    "\n",
    "token_list = [[word for word in doc if (word not in stop_words) and (2 < len(word) < 10)] for doc in token_list]"
   ]
  },
  {
   "cell_type": "markdown",
   "metadata": {
    "slideshow": {
     "slide_type": "slide"
    }
   },
   "source": [
    "### step 5: 토픽 모델링"
   ]
  },
  {
   "cell_type": "code",
   "execution_count": 113,
   "metadata": {},
   "outputs": [],
   "source": [
    "from gensim import corpora\n",
    "\n",
    "dictionary = corpora.Dictionary(token_list)\n",
    "doc_term_matrix = [dictionary.doc2bow(tokens) for tokens in token_list]"
   ]
  },
  {
   "cell_type": "code",
   "execution_count": 117,
   "metadata": {},
   "outputs": [
    {
     "name": "stdout",
     "output_type": "stream",
     "text": [
      "CPU times: user 45.7 s, sys: 21.3 s, total: 1min 7s\n",
      "Wall time: 22.2 s\n"
     ]
    }
   ],
   "source": [
    "%%time\n",
    "from gensim.models.ldamodel import LdaModel\n",
    "\n",
    "model = LdaModel(corpus=doc_term_matrix, id2word=dictionary, num_topics=3, passes=10)"
   ]
  },
  {
   "cell_type": "code",
   "execution_count": 118,
   "metadata": {
    "slideshow": {
     "slide_type": "slide"
    }
   },
   "outputs": [
    {
     "data": {
      "text/plain": [
       "[(0,\n",
       "  '0.013*\"game\" + 0.009*\"team\" + 0.006*\"player\" + 0.006*\"run\" + 0.006*\"baseball\" + 0.005*\"time\" + 0.005*\"season\" + 0.004*\"fan\" + 0.004*\"league\" + 0.003*\"brave\"'),\n",
       " (1,\n",
       "  '0.012*\"image\" + 0.009*\"file\" + 0.006*\"system\" + 0.006*\"graphic\" + 0.006*\"program\" + 0.005*\"science\" + 0.005*\"time\" + 0.005*\"software\" + 0.005*\"computer\" + 0.005*\"format\"'),\n",
       " (2,\n",
       "  '0.008*\"food\" + 0.006*\"point\" + 0.004*\"time\" + 0.004*\"group\" + 0.004*\"people\" + 0.004*\"health\" + 0.004*\"disease\" + 0.004*\"case\" + 0.004*\"use\" + 0.003*\"david\"')]"
      ]
     },
     "execution_count": 118,
     "metadata": {},
     "output_type": "execute_result"
    }
   ],
   "source": [
    "model.print_topics()"
   ]
  },
  {
   "cell_type": "markdown",
   "metadata": {
    "slideshow": {
     "slide_type": "slide"
    }
   },
   "source": [
    "### step 6: 토픽 시각화"
   ]
  },
  {
   "cell_type": "code",
   "execution_count": 119,
   "metadata": {},
   "outputs": [
    {
     "data": {
      "text/html": [
       "\n",
       "<link rel=\"stylesheet\" type=\"text/css\" href=\"https://cdn.rawgit.com/bmabey/pyLDAvis/files/ldavis.v1.0.0.css\">\n",
       "\n",
       "\n",
       "<div id=\"ldavis_el159161405062768081686116798947\"></div>\n",
       "<script type=\"text/javascript\">\n",
       "\n",
       "var ldavis_el159161405062768081686116798947_data = {\"mdsDat\": {\"x\": [0.11220066960429279, -0.1522007719951515, 0.04000010239085888], \"y\": [-0.07869449183974307, -0.029561712273958034, 0.10825620411370102], \"topics\": [1, 2, 3], \"cluster\": [1, 1, 1], \"Freq\": [44.00090408325195, 32.45586395263672, 23.543222427368164]}, \"tinfo\": {\"Category\": [\"Default\", \"Default\", \"Default\", \"Default\", \"Default\", \"Default\", \"Default\", \"Default\", \"Default\", \"Default\", \"Default\", \"Default\", \"Default\", \"Default\", \"Default\", \"Default\", \"Default\", \"Default\", \"Default\", \"Default\", \"Default\", \"Default\", \"Default\", \"Default\", \"Default\", \"Default\", \"Default\", \"Default\", \"Default\", \"Default\", \"Topic1\", \"Topic1\", \"Topic1\", \"Topic1\", \"Topic1\", \"Topic1\", \"Topic1\", \"Topic1\", \"Topic1\", \"Topic1\", \"Topic1\", \"Topic1\", \"Topic1\", \"Topic1\", \"Topic1\", \"Topic1\", \"Topic1\", \"Topic1\", \"Topic1\", \"Topic1\", \"Topic1\", \"Topic1\", \"Topic1\", \"Topic1\", \"Topic1\", \"Topic1\", \"Topic1\", \"Topic1\", \"Topic1\", \"Topic1\", \"Topic1\", \"Topic1\", \"Topic1\", \"Topic1\", \"Topic1\", \"Topic1\", \"Topic1\", \"Topic1\", \"Topic1\", \"Topic1\", \"Topic1\", \"Topic1\", \"Topic1\", \"Topic1\", \"Topic1\", \"Topic1\", \"Topic1\", \"Topic1\", \"Topic1\", \"Topic1\", \"Topic1\", \"Topic1\", \"Topic1\", \"Topic1\", \"Topic1\", \"Topic1\", \"Topic1\", \"Topic1\", \"Topic1\", \"Topic1\", \"Topic1\", \"Topic1\", \"Topic1\", \"Topic1\", \"Topic1\", \"Topic1\", \"Topic1\", \"Topic1\", \"Topic1\", \"Topic1\", \"Topic1\", \"Topic1\", \"Topic1\", \"Topic1\", \"Topic1\", \"Topic1\", \"Topic2\", \"Topic2\", \"Topic2\", \"Topic2\", \"Topic2\", \"Topic2\", \"Topic2\", \"Topic2\", \"Topic2\", \"Topic2\", \"Topic2\", \"Topic2\", \"Topic2\", \"Topic2\", \"Topic2\", \"Topic2\", \"Topic2\", \"Topic2\", \"Topic2\", \"Topic2\", \"Topic2\", \"Topic2\", \"Topic2\", \"Topic2\", \"Topic2\", \"Topic2\", \"Topic2\", \"Topic2\", \"Topic2\", \"Topic2\", \"Topic2\", \"Topic2\", \"Topic2\", \"Topic2\", \"Topic2\", \"Topic2\", \"Topic2\", \"Topic2\", \"Topic2\", \"Topic2\", \"Topic2\", \"Topic2\", \"Topic2\", \"Topic2\", \"Topic2\", \"Topic2\", \"Topic2\", \"Topic2\", \"Topic2\", \"Topic2\", \"Topic2\", \"Topic2\", \"Topic2\", \"Topic2\", \"Topic2\", \"Topic2\", \"Topic2\", \"Topic2\", \"Topic2\", \"Topic2\", \"Topic2\", \"Topic2\", \"Topic2\", \"Topic2\", \"Topic2\", \"Topic2\", \"Topic3\", \"Topic3\", \"Topic3\", \"Topic3\", \"Topic3\", \"Topic3\", \"Topic3\", \"Topic3\", \"Topic3\", \"Topic3\", \"Topic3\", \"Topic3\", \"Topic3\", \"Topic3\", \"Topic3\", \"Topic3\", \"Topic3\", \"Topic3\", \"Topic3\", \"Topic3\", \"Topic3\", \"Topic3\", \"Topic3\", \"Topic3\", \"Topic3\", \"Topic3\", \"Topic3\", \"Topic3\", \"Topic3\", \"Topic3\", \"Topic3\", \"Topic3\", \"Topic3\", \"Topic3\", \"Topic3\", \"Topic3\", \"Topic3\", \"Topic3\", \"Topic3\", \"Topic3\", \"Topic3\", \"Topic3\", \"Topic3\", \"Topic3\", \"Topic3\", \"Topic3\", \"Topic3\", \"Topic3\", \"Topic3\", \"Topic3\", \"Topic3\", \"Topic3\", \"Topic3\", \"Topic3\", \"Topic3\", \"Topic3\", \"Topic3\", \"Topic3\", \"Topic3\", \"Topic3\", \"Topic3\", \"Topic3\", \"Topic3\", \"Topic3\", \"Topic3\", \"Topic3\", \"Topic3\", \"Topic3\", \"Topic3\", \"Topic3\", \"Topic3\", \"Topic3\", \"Topic3\", \"Topic3\", \"Topic3\", \"Topic3\", \"Topic3\", \"Topic3\", \"Topic3\", \"Topic3\", \"Topic3\"], \"Freq\": [510.0, 385.0, 699.0, 262.0, 493.0, 280.0, 286.0, 327.0, 223.0, 203.0, 250.0, 185.0, 143.0, 160.0, 131.0, 227.0, 244.0, 206.0, 103.0, 362.0, 104.0, 122.0, 102.0, 209.0, 197.0, 199.0, 417.0, 91.0, 100.0, 82.0, 221.93817138671875, 86.65193176269531, 44.323360443115234, 37.953433990478516, 60.40957260131836, 108.09353637695312, 26.030622482299805, 42.17526626586914, 27.79819107055664, 23.266128540039062, 85.93341827392578, 243.3933563232422, 54.56113052368164, 24.147151947021484, 67.05479431152344, 34.853492736816406, 48.205238342285156, 21.40810775756836, 21.3990478515625, 20.49186897277832, 43.65516662597656, 19.583667755126953, 18.679441452026367, 17.77454948425293, 17.763484954833984, 19.53105354309082, 17.740089416503906, 31.03416633605957, 27.476470947265625, 21.269062042236328, 660.5015258789062, 216.70184326171875, 115.0898208618164, 138.68414306640625, 37.9560432434082, 456.9508972167969, 184.30979919433594, 77.55008697509766, 43.173770904541016, 130.51333618164062, 51.55426788330078, 70.1706314086914, 116.71385192871094, 59.566165924072266, 247.66473388671875, 62.0912971496582, 239.1244659423828, 68.39094543457031, 112.65454864501953, 223.61648559570312, 166.39089965820312, 320.2608947753906, 337.73468017578125, 121.647216796875, 289.71356201171875, 179.43960571289062, 68.33158874511719, 92.58882904052734, 301.2060852050781, 212.26319885253906, 177.75537109375, 244.8948211669922, 184.9328155517578, 235.44503784179688, 111.00343322753906, 284.954833984375, 216.97198486328125, 157.7827606201172, 188.30770874023438, 165.9718780517578, 141.66700744628906, 131.4559326171875, 145.72283935546875, 145.25572204589844, 136.5926513671875, 137.25379943847656, 81.67356872558594, 56.75883102416992, 61.817176818847656, 48.7209587097168, 78.17162322998047, 38.17163848876953, 101.4126968383789, 30.331195831298828, 53.714439392089844, 37.232574462890625, 31.163679122924805, 59.652713775634766, 497.1707763671875, 31.969642639160156, 127.8342056274414, 24.119474411010742, 27.548734664916992, 24.951719284057617, 27.517555236816406, 18.048376083374023, 18.895767211914062, 18.89310073852539, 38.63985061645508, 43.74605941772461, 88.47671508789062, 21.384197235107422, 28.238386154174805, 48.67717361450195, 49.54246139526367, 100.77841186523438, 370.3288879394531, 137.82423400878906, 98.77664947509766, 76.30003356933594, 95.05261993408203, 173.0149688720703, 149.13858032226562, 81.49458312988281, 56.55982971191406, 253.18946838378906, 186.26544189453125, 83.50926208496094, 249.11422729492188, 109.61618041992188, 63.01580810546875, 256.2229309082031, 97.48240661621094, 88.77545928955078, 84.15508270263672, 102.54043579101562, 68.06501007080078, 114.88019561767578, 75.99944305419922, 88.03713989257812, 206.3407440185547, 119.27655029296875, 107.95010375976562, 120.3546371459961, 123.64785766601562, 114.82664489746094, 116.6882095336914, 109.76810455322266, 107.47169494628906, 103.25421905517578, 95.06649780273438, 96.91803741455078, 22.10145378112793, 44.72848129272461, 20.28609275817871, 18.623281478881836, 22.65354347229004, 21.79632568359375, 14.516307830810547, 13.696112632751465, 33.018821716308594, 32.17256546020508, 14.45904541015625, 12.85334300994873, 16.058996200561523, 12.845008850097656, 16.04001808166504, 24.05622100830078, 12.011178016662598, 12.008698463439941, 24.011226654052734, 11.199434280395508, 15.991704940795898, 15.179160118103027, 12.775945663452148, 13.57153606414795, 11.958674430847168, 30.262666702270508, 13.539399147033691, 32.6600341796875, 23.859416961669922, 10.337484359741211, 59.40400314331055, 27.802005767822266, 233.9095458984375, 32.89836883544922, 22.054645538330078, 21.213464736938477, 50.62131118774414, 35.341796875, 23.295454025268555, 18.6077823638916, 34.00714874267578, 31.83342170715332, 33.22869873046875, 19.102752685546875, 35.0455207824707, 46.2516975402832, 29.616518020629883, 34.70546340942383, 111.72795104980469, 167.6237335205078, 105.65433502197266, 101.61410522460938, 60.18635559082031, 90.92224884033203, 58.20472717285156, 104.11768341064453, 49.249813079833984, 102.07950592041016, 51.60466766357422, 78.16943359375, 91.85728454589844, 97.58229064941406, 90.67967224121094, 47.259246826171875, 80.18160247802734, 107.1461181640625, 91.17467498779297, 74.52275848388672, 88.4593505859375, 115.74798583984375, 86.74067687988281, 95.44332885742188, 66.56510162353516, 88.49248504638672, 79.74984741210938, 77.44257354736328, 78.6707992553711, 65.39299011230469, 65.6211166381836, 62.41343688964844, 59.45695495605469], \"Term\": [\"game\", \"team\", \"image\", \"food\", \"file\", \"run\", \"baseball\", \"player\", \"jpeg\", \"season\", \"format\", \"fan\", \"brave\", \"league\", \"cub\", \"geb\", \"disease\", \"health\", \"pitcher\", \"point\", \"phillies\", \"red\", \"rbi\", \"group\", \"package\", \"use\", \"program\", \"sox\", \"morris\", \"catcher\", \"jpeg\", \"candida\", \"fulk\", \"rind\", \"cview\", \"tool\", \"sasghm\", \"turpin\", \"client\", \"jfif\", \"directory\", \"format\", \"yeast\", \"nfotis\", \"sgi\", \"imagine\", \"utility\", \"membrane\", \"merrill\", \"removal\", \"sequence\", \"mucus\", \"compiler\", \"forsberg\", \"wa7kgx\", \"cad\", \"meme\", \"noring\", \"converter\", \"simtel20\", \"image\", \"geb\", \"display\", \"gif\", \"bloom\", \"file\", \"package\", \"driver\", \"lady\", \"ftp\", \"platform\", \"viewer\", \"site\", \"server\", \"software\", \"hiv\", \"bank\", \"n3jxp\", \"water\", \"data\", \"gordon\", \"graphic\", \"system\", \"pain\", \"science\", \"doctor\", \"chastity\", \"library\", \"program\", \"version\", \"color\", \"computer\", \"question\", \"problem\", \"cancer\", \"time\", \"people\", \"research\", \"anyone\", \"thanks\", \"patient\", \"help\", \"thing\", \"way\", \"disease\", \"number\", \"catcher\", \"era\", \"pitching\", \"oriole\", \"inning\", \"talent\", \"pitcher\", \"col\", \"offense\", \"rookie\", \"viola\", \"lopez\", \"game\", \"wip\", \"cub\", \"rickert\", \"tate\", \"phils\", \"torre\", \"suck\", \"whiten\", \"gilkey\", \"cardinal\", \"aaa\", \"sox\", \"pinch\", \"lineup\", \"clemens\", \"stadium\", \"phillies\", \"team\", \"brave\", \"rbi\", \"yankee\", \"morris\", \"fan\", \"league\", \"mets\", \"bat\", \"run\", \"season\", \"win\", \"baseball\", \"red\", \"score\", \"player\", \"hitter\", \"keyboard\", \"roger\", \"guy\", \"dodger\", \"home\", \"jay\", \"ball\", \"time\", \"steve\", \"john\", \"lot\", \"anyone\", \"day\", \"way\", \"david\", \"number\", \"people\", \"new\", \"thing\", \"bolson\", \"tobacco\", \"gonorrhea\", \"restraint\", \"o157\", \"smokeless\", \"seminar\", \"bu.edu\", \"corn\", \"meat\", \"mitchum\", \"inhibitor\", \"wcsbeau\", \"lipman\", \"paulson\", \"olney\", \"graeme\", \"smoker\", \"cereal\", \"japanese\", \"burzynski\", \"sharon\", \"stark\", \"mmwr\", \"kellog\", \"needle\", \"hus\", \"crohn\", \"nye\", \"wate\", \"seizure\", \"carl\", \"food\", \"kidney\", \"gilbert\", \"krillean\", \"baerga\", \"glutamate\", \"coli\", \"claire\", \"marc\", \"split\", \"adult\", \"tea\", \"lyme\", \"reaction\", \"cdc\", \"kenneth\", \"group\", \"point\", \"health\", \"use\", \"alomar\", \"state\", \"child\", \"disease\", \"risk\", \"case\", \"report\", \"effect\", \"center\", \"david\", \"research\", \"diet\", \"patient\", \"people\", \"lot\", \"week\", \"day\", \"time\", \"number\", \"program\", \"study\", \"problem\", \"thing\", \"way\", \"anyone\", \"world\", \"computer\", \"player\", \"graphic\"], \"Total\": [510.0, 385.0, 699.0, 262.0, 493.0, 280.0, 286.0, 327.0, 223.0, 203.0, 250.0, 185.0, 143.0, 160.0, 131.0, 227.0, 244.0, 206.0, 103.0, 362.0, 104.0, 122.0, 102.0, 209.0, 197.0, 199.0, 417.0, 91.0, 100.0, 82.0, 223.87008666992188, 87.50605010986328, 45.108001708984375, 38.657508850097656, 61.666072845458984, 110.41703796386719, 26.681718826293945, 43.23624038696289, 28.519203186035156, 23.916461944580078, 88.35126495361328, 250.26614379882812, 56.112728118896484, 24.835912704467773, 68.9808120727539, 35.86961364746094, 49.656761169433594, 22.072463989257812, 22.0721435546875, 21.150842666625977, 45.07023239135742, 20.23017120361328, 19.30904769897461, 18.388479232788086, 18.387475967407227, 20.225744247436523, 18.38481330871582, 32.19126892089844, 28.503217697143555, 22.0666446685791, 699.7297973632812, 227.66555786132812, 120.46024322509766, 146.227783203125, 39.500518798828125, 493.3020324707031, 197.39276123046875, 81.71306610107422, 45.01082992553711, 140.5232391357422, 54.171905517578125, 74.45941162109375, 126.52910614013672, 63.4072151184082, 286.9373474121094, 66.84647369384766, 281.3835754394531, 74.13883209228516, 127.11381530761719, 267.96563720703125, 194.95919799804688, 409.79534912109375, 438.5743103027344, 141.24781799316406, 377.85675048828125, 220.53477478027344, 74.13749694824219, 105.27621459960938, 417.7423095703125, 281.94512939453125, 243.30838012695312, 376.5194091796875, 275.7123718261719, 405.10107421875, 137.58349609375, 607.0435791015625, 427.372314453125, 259.12762451171875, 390.6263732910156, 309.6546936035156, 225.37655639648438, 199.20559692382812, 322.3907165527344, 339.3865051269531, 244.28085327148438, 331.4661865234375, 82.61428833007812, 57.729488372802734, 63.07247543334961, 49.7529296875, 79.91944885253906, 39.078556060791016, 103.94648742675781, 31.08950424194336, 55.0695915222168, 38.196075439453125, 31.982772827148438, 61.24769592285156, 510.6192932128906, 32.87168884277344, 131.48171997070312, 24.862218856811523, 28.422893524169922, 25.757307052612305, 28.409473419189453, 18.648712158203125, 19.53721046447754, 19.53733253479004, 39.9709587097168, 45.266510009765625, 91.59087371826172, 22.192903518676758, 29.31497573852539, 50.583553314208984, 51.550994873046875, 104.89520263671875, 385.462646484375, 143.81475830078125, 102.94464111328125, 79.88805389404297, 100.25875091552734, 185.51824951171875, 160.5225372314453, 86.2170181274414, 59.465824127197266, 280.06817626953125, 203.5200653076172, 88.9246597290039, 286.4271545410156, 122.07003021240234, 67.42044830322266, 327.3157958984375, 112.07759094238281, 102.6239242553711, 97.49742126464844, 124.8172607421875, 76.10603332519531, 167.09628295898438, 90.88531494140625, 116.31315612792969, 607.0435791015625, 229.60821533203125, 202.70901489257812, 311.2025451660156, 390.6263732910156, 306.1361083984375, 339.3865051269531, 280.5660400390625, 331.4661865234375, 427.372314453125, 234.33099365234375, 322.3907165527344, 22.753427505493164, 46.39133834838867, 21.083330154418945, 19.399211883544922, 23.621538162231445, 22.782106399536133, 15.184475898742676, 14.340805053710938, 34.606807708740234, 33.75412368774414, 15.186809539794922, 13.500678062438965, 16.877674102783203, 13.501309394836426, 16.87449836730957, 25.328445434570312, 12.658730506896973, 12.659704208374023, 25.324657440185547, 11.816011428833008, 16.88406753540039, 16.034082412719727, 13.503275871276855, 14.352988243103027, 12.661663055419922, 32.06447219848633, 14.356247901916504, 34.64374923706055, 25.33246421813965, 10.976133346557617, 63.35169982910156, 29.541473388671875, 262.2161865234375, 35.540138244628906, 23.64647674560547, 22.800296783447266, 56.69026565551758, 38.9806022644043, 25.400218963623047, 20.314781188964844, 39.93571090698242, 38.195098876953125, 41.035282135009766, 21.168039321899414, 44.548789978027344, 63.57740020751953, 36.77250289916992, 45.39247512817383, 209.88079833984375, 362.72210693359375, 206.31973266601562, 199.1102294921875, 99.68721008300781, 184.2108154296875, 100.3467788696289, 244.28085327148438, 79.09183502197266, 253.2615966796875, 89.42341613769531, 186.91221618652344, 246.6425323486328, 280.5660400390625, 259.12762451171875, 80.20709228515625, 225.37655639648438, 427.372314453125, 311.2025451660156, 207.61871337890625, 306.1361083984375, 607.0435791015625, 331.4661865234375, 417.7423095703125, 191.65597534179688, 405.10107421875, 322.3907165527344, 339.3865051269531, 390.6263732910156, 278.76739501953125, 376.5194091796875, 327.3157958984375, 409.79534912109375], \"loglift\": [30.0, 29.0, 28.0, 27.0, 26.0, 25.0, 24.0, 23.0, 22.0, 21.0, 20.0, 19.0, 18.0, 17.0, 16.0, 15.0, 14.0, 13.0, 12.0, 11.0, 10.0, 9.0, 8.0, 7.0, 6.0, 5.0, 4.0, 3.0, 2.0, 1.0, 0.8123000264167786, 0.8112000226974487, 0.8033999800682068, 0.8026000261306763, 0.8004000186920166, 0.7997000217437744, 0.7962999939918518, 0.7961000204086304, 0.7954000234603882, 0.79339998960495, 0.7932000160217285, 0.7930999994277954, 0.792900025844574, 0.7928000092506409, 0.7925999760627747, 0.7922000288963318, 0.7912999987602234, 0.7904000282287598, 0.7900000214576721, 0.7893000245094299, 0.7890999913215637, 0.7885000109672546, 0.7878000140190125, 0.7870000004768372, 0.7864000201225281, 0.7860000133514404, 0.7853000164031982, 0.7843999862670898, 0.7843000292778015, 0.7840999960899353, 0.7633000016212463, 0.7716000080108643, 0.7753999829292297, 0.7680000066757202, 0.7810999751091003, 0.7444000244140625, 0.7523999810218811, 0.7687000036239624, 0.7792999744415283, 0.7470999956130981, 0.771399974822998, 0.7616000175476074, 0.7401999831199646, 0.7584999799728394, 0.673799991607666, 0.7472000122070312, 0.6582000255584717, 0.7402999997138977, 0.7002000212669373, 0.6399999856948853, 0.6625000238418579, 0.574400007724762, 0.5597000122070312, 0.6715999841690063, 0.5552999973297119, 0.6147000193595886, 0.7394000291824341, 0.6924999952316284, 0.49390000104904175, 0.5371000170707703, 0.5070000290870667, 0.39079999923706055, 0.42160001397132874, 0.2782999873161316, 0.6062999963760376, 0.06469999998807907, 0.14309999346733093, 0.3249000012874603, 0.09130000323057175, 0.1973000019788742, 0.35670000314712524, 0.40529999136924744, 0.026900000870227814, -0.027699999511241913, 0.23960000276565552, -0.06069999933242798, 1.113800048828125, 1.108299970626831, 1.1052000522613525, 1.1043000221252441, 1.1031999588012695, 1.1017999649047852, 1.100600004196167, 1.100600004196167, 1.1003999710083008, 1.0996999740600586, 1.0993000268936157, 1.0988999605178833, 1.0986000299453735, 1.097499966621399, 1.0972000360488892, 1.0950000286102295, 1.094099998474121, 1.093500018119812, 1.093400001525879, 1.0925999879837036, 1.0918999910354614, 1.0917999744415283, 1.0914000272750854, 1.0910999774932861, 1.0907000303268433, 1.0881999731063843, 1.0879000425338745, 1.086899995803833, 1.0855000019073486, 1.0852999687194824, 1.0851999521255493, 1.0827000141143799, 1.0839999914169312, 1.079300045967102, 1.0720000267028809, 1.0555000305175781, 1.0516999959945679, 1.069000005722046, 1.0751999616622925, 1.024399995803833, 1.0367000102996826, 1.0625, 0.9857000112533569, 1.017699956893921, 1.0577000379562378, 0.8804000020027161, 0.98580002784729, 0.9803000092506409, 0.9781000018119812, 0.9286999702453613, 1.0135999917984009, 0.7505999803543091, 0.946399986743927, 0.8468000292778015, 0.04619999974966049, 0.47040000557899475, 0.4952000081539154, 0.1753000020980835, -0.02500000037252903, 0.14470000565052032, 0.05770000070333481, 0.1868000030517578, -0.0010000000474974513, -0.295199990272522, 0.22310000658035278, -0.07660000026226044, 1.4172999858856201, 1.4098000526428223, 1.4077999591827393, 1.405500054359436, 1.4045000076293945, 1.4020999670028687, 1.4012999534606934, 1.4003000259399414, 1.399399995803833, 1.398300051689148, 1.3971999883651733, 1.3971999883651733, 1.3966000080108643, 1.3964999914169312, 1.3955999612808228, 1.3947999477386475, 1.3938000202178955, 1.3934999704360962, 1.3931000232696533, 1.392699956893921, 1.3919999599456787, 1.3914999961853027, 1.3910000324249268, 1.3903000354766846, 1.38919997215271, 1.3884999752044678, 1.3877999782562256, 1.3874000310897827, 1.3863999843597412, 1.3863999843597412, 1.3819999694824219, 1.385599970817566, 1.3321000337600708, 1.3690999746322632, 1.3766000270843506, 1.3741999864578247, 1.3330999612808228, 1.3482999801635742, 1.3597999811172485, 1.3586000204086304, 1.285599946975708, 1.2640999555587769, 1.2352999448776245, 1.3437000513076782, 1.2064000368118286, 1.1282000541687012, 1.2299000024795532, 1.177899956703186, 0.8159000277519226, 0.6743999719619751, 0.7771000266075134, 0.7736999988555908, 0.9416999816894531, 0.7402999997138977, 0.9017000198364258, 0.593500018119812, 0.972599983215332, 0.5376999974250793, 0.8966000080108643, 0.5745999813079834, 0.4586000144481659, 0.3901999890804291, 0.39629998803138733, 0.9174000024795532, 0.41290000081062317, 0.06289999932050705, 0.21870000660419464, 0.42170000076293945, 0.20479999482631683, -0.21089999377727509, 0.10570000112056732, -0.029999999329447746, 0.3887999951839447, -0.07490000128746033, 0.0494999997317791, -0.031300000846385956, -0.15610000491142273, -0.003599999938160181, -0.30070000886917114, -0.21080000698566437, -0.48410001397132874], \"logprob\": [30.0, 29.0, 28.0, 27.0, 26.0, 25.0, 24.0, 23.0, 22.0, 21.0, 20.0, 19.0, 18.0, 17.0, 16.0, 15.0, 14.0, 13.0, 12.0, 11.0, 10.0, 9.0, 8.0, 7.0, 6.0, 5.0, 4.0, 3.0, 2.0, 1.0, -5.488900184631348, -6.4293999671936035, -7.099800109863281, -7.254899978637695, -6.79010009765625, -6.2083001136779785, -7.631999969482422, -7.149499893188477, -7.566299915313721, -7.74429988861084, -6.437699794769287, -5.396599769592285, -6.892000198364258, -7.707099914550781, -6.685800075531006, -7.340099811553955, -7.0157999992370605, -7.827499866485596, -7.827899932861328, -7.871300220489502, -7.114999771118164, -7.916600227355957, -7.963900089263916, -8.013500213623047, -8.014100074768066, -7.919300079345703, -8.01550006866455, -7.456200122833252, -7.578000068664551, -7.834000110626221, -4.3983001708984375, -5.512800216674805, -6.145599842071533, -5.959099769592285, -7.254899978637695, -4.76669979095459, -5.674699783325195, -6.54040002822876, -7.126100063323975, -6.019800186157227, -6.948699951171875, -6.640399932861328, -6.1315999031066895, -6.804200172424316, -5.379199981689453, -6.762700080871582, -5.414299964904785, -6.666100025177002, -6.166999816894531, -5.481400012969971, -5.7769999504089355, -5.122200012207031, -5.068999767303467, -6.090199947357178, -5.222400188446045, -5.701499938964844, -6.666900157928467, -6.363100051879883, -5.183499813079834, -5.5335001945495605, -5.710899829864502, -5.390500068664551, -5.671299934387207, -5.429800033569336, -6.181700229644775, -5.238999843597412, -5.511499881744385, -5.830100059509277, -5.653200149536133, -5.7795000076293945, -5.93779993057251, -6.012599945068359, -5.909599781036377, -5.912799835205078, -5.974299907684326, -5.9695000648498535, -6.184199810028076, -6.5482001304626465, -6.462800025939941, -6.700900077819824, -6.228099822998047, -6.944900035858154, -5.967800140380859, -7.174799919128418, -6.603300094604492, -6.969799995422363, -7.14769983291626, -6.4984002113342285, -4.377999782562256, -7.122200012207031, -5.736199855804443, -7.403900146484375, -7.270999908447266, -7.369999885559082, -7.27209997177124, -7.693900108337402, -7.6479997634887695, -7.648200035095215, -6.932700157165527, -6.808599948883057, -6.1041998863220215, -7.5243000984191895, -7.246300220489502, -6.7017998695373535, -6.684100151062012, -5.973999977111816, -4.672599792480469, -5.660999774932861, -5.994100093841553, -6.252299785614014, -6.03249979019165, -5.433599948883057, -5.582099914550781, -6.186399936676025, -6.551700115203857, -5.052800178527832, -5.359799861907959, -6.1620001792907715, -5.0690999031066895, -5.889999866485596, -6.443600177764893, -5.040900230407715, -6.007299900054932, -6.100900173187256, -6.154300212860107, -5.956699848175049, -6.366499900817871, -5.843100070953369, -6.256199836730957, -6.1092000007629395, -5.257400035858154, -5.805500030517578, -5.905300140380859, -5.796500205993652, -5.769499778747559, -5.843500137329102, -5.827499866485596, -5.888599872589111, -5.9096999168396, -5.94980001449585, -6.032400131225586, -6.0131001472473145, -7.170300006866455, -6.4653000831604, -7.25600004196167, -7.3414998054504395, -7.145599842071533, -7.184199810028076, -7.59060001373291, -7.648799896240234, -6.768799781799316, -6.7947998046875, -7.594600200653076, -7.712299823760986, -7.48960018157959, -7.7129998207092285, -7.490799903869629, -7.0854997634887695, -7.780099868774414, -7.780300140380859, -7.087399959564209, -7.850100040435791, -7.493800163269043, -7.546000003814697, -7.718400001525879, -7.657899856567383, -7.7845001220703125, -6.855999946594238, -7.660299777984619, -6.779799938201904, -7.093699932098389, -7.930099964141846, -6.181600093841553, -6.940800189971924, -4.810999870300293, -6.772500038146973, -7.172399997711182, -7.211299896240234, -6.3414998054504395, -6.700900077819824, -7.117700099945068, -7.342299938201904, -6.739299774169922, -6.8053998947143555, -6.762499809265137, -7.316100120544434, -6.7093000411987305, -6.43179988861084, -6.877600193023682, -6.718999862670898, -5.549900054931641, -5.144199848175049, -5.6057000160217285, -5.644700050354004, -6.168499946594238, -5.755899906158447, -6.202000141143799, -5.6203999519348145, -6.36899995803833, -5.640200138092041, -6.322299957275391, -5.9070000648498535, -5.745699882507324, -5.685200214385986, -5.758600234985352, -6.410299777984619, -5.8815999031066895, -5.591700077056885, -5.7530999183654785, -5.954800128936768, -5.783400058746338, -5.514500141143799, -5.802999973297119, -5.707399845123291, -6.067699909210205, -5.7829999923706055, -5.88700008392334, -5.916399955749512, -5.900599956512451, -6.0854997634887695, -6.081999778747559, -6.1321001052856445, -6.180699825286865]}, \"token.table\": {\"Topic\": [2, 3, 1, 3, 1, 2, 3, 1, 2, 3, 1, 2, 3, 1, 2, 3, 1, 2, 3, 1, 2, 3, 1, 2, 3, 1, 3, 3, 1, 2, 3, 3, 1, 3, 1, 1, 2, 3, 1, 1, 2, 3, 1, 2, 3, 1, 2, 3, 2, 3, 1, 3, 1, 2, 3, 1, 2, 3, 1, 2, 3, 1, 2, 3, 1, 3, 1, 2, 3, 1, 2, 1, 3, 1, 2, 3, 1, 1, 2, 3, 1, 2, 1, 3, 1, 3, 1, 2, 3, 1, 2, 3, 1, 2, 3, 1, 2, 3, 1, 2, 3, 1, 2, 3, 1, 2, 3, 1, 2, 3, 1, 2, 3, 1, 2, 3, 1, 2, 3, 1, 2, 3, 1, 2, 3, 2, 3, 1, 2, 3, 1, 2, 3, 1, 2, 3, 1, 2, 3, 1, 1, 2, 3, 1, 1, 2, 3, 1, 2, 3, 1, 2, 3, 1, 2, 3, 2, 1, 2, 3, 3, 1, 2, 3, 3, 1, 2, 3, 1, 2, 3, 1, 2, 3, 1, 2, 3, 1, 2, 3, 1, 2, 3, 1, 3, 1, 2, 3, 1, 3, 1, 2, 3, 1, 3, 3, 1, 2, 3, 3, 1, 2, 3, 1, 1, 2, 3, 1, 2, 3, 3, 1, 2, 3, 1, 2, 1, 3, 2, 3, 1, 2, 3, 1, 2, 3, 1, 2, 3, 1, 2, 3, 2, 3, 1, 2, 3, 1, 3, 1, 2, 3, 1, 2, 3, 1, 1, 1, 1, 2, 3, 3, 3, 1, 2, 3, 1, 1, 2, 3, 2, 3, 1, 2, 3, 1, 1, 2, 1, 2, 3, 1, 2, 3, 1, 3, 1, 2, 3, 1, 3, 1, 2, 1, 2, 3, 1, 2, 3, 1, 2, 3, 2, 3, 1, 2, 3, 1, 2, 3, 2, 2, 1, 2, 3, 1, 2, 3, 1, 2, 3, 1, 2, 3, 1, 2, 3, 1, 2, 3, 1, 2, 3, 1, 2, 3, 1, 2, 3, 1, 2, 3, 1, 2, 3, 1, 1, 2, 3, 1, 2, 3, 3, 2, 1, 1, 2, 3, 1, 2, 3, 1, 2, 1, 2, 3, 1, 1, 2, 3, 1, 2, 3, 1, 2, 3, 1, 2, 3, 3, 1, 2, 3, 1, 2, 3, 1, 2, 3, 2, 3, 1, 1, 2, 3, 1, 3, 3, 1, 2, 3, 1, 2, 2, 3, 1, 2, 3, 3, 1, 2, 3, 1, 2, 3, 1, 2, 3, 2, 1, 2, 3, 2, 2, 1, 2, 3, 1, 2, 3, 1, 2, 3, 1, 2, 3, 1, 2, 3, 1, 3, 1, 2, 3, 2, 3, 1, 3, 1, 2, 3, 1, 2, 3, 1, 2, 3, 1, 2, 3, 1, 2, 1, 3, 1, 2, 3, 1, 2, 3, 3, 1, 2, 3, 2, 1, 2, 3, 1, 2, 1, 2, 3, 1, 2, 3, 1, 2, 3], \"Freq\": [0.9720210433006287, 0.02209138683974743, 0.17058491706848145, 0.8041859865188599, 0.010031376965343952, 0.3912236988544464, 0.6018826365470886, 0.48127830028533936, 0.31743887066841125, 0.2022392898797989, 0.01763971336185932, 0.08819856494665146, 0.8996253609657288, 0.0601823590695858, 0.7565782070159912, 0.1805470734834671, 0.8493743538856506, 0.039092544466257095, 0.1137237697839737, 0.024439023807644844, 0.8693310022354126, 0.10473867505788803, 0.016816381365060806, 0.958533763885498, 0.03363276273012161, 0.9620127081871033, 0.02531612291932106, 0.9668872952461243, 0.013906778767704964, 0.9595677256584167, 0.027813557535409927, 0.9762352705001831, 0.05922743305563927, 0.9476389288902283, 0.988838791847229, 0.8067828416824341, 0.007268313784152269, 0.18897615373134613, 0.9942169785499573, 0.02501816488802433, 0.9757084250450134, 0.02501816488802433, 0.033850714564323425, 0.033850714564323425, 0.9478200078010559, 0.4422304928302765, 0.15793946385383606, 0.40274563431739807, 0.9925643801689148, 0.012104443274438381, 0.19035962224006653, 0.815826952457428, 0.5432963967323303, 0.08514346927404404, 0.37300947308540344, 0.03948720917105675, 0.03948720917105675, 0.9476929903030396, 0.9172146916389465, 0.013488451018929482, 0.06744225323200226, 0.398617684841156, 0.0199308842420578, 0.5779956579208374, 0.04922524094581604, 0.9352796077728271, 0.019769271835684776, 0.9686943292617798, 0.019769271835684776, 0.9817945957183838, 0.9649558663368225, 0.0787394791841507, 0.9055039882659912, 0.7315818667411804, 0.18084046244621277, 0.08631022274494171, 0.9839946627616882, 0.650696873664856, 0.17528976500034332, 0.17528976500034332, 0.9472614526748657, 0.03508375957608223, 0.028896048665046692, 0.9535695910453796, 0.05773047357797623, 0.9525527954101562, 0.015211240388453007, 0.9735193848609924, 0.015211240388453007, 0.9729823470115662, 0.016216373071074486, 0.016216373071074486, 0.8359280824661255, 0.07836825400590897, 0.0858319029211998, 0.2601883113384247, 0.39206454157829285, 0.34929388761520386, 0.3364516496658325, 0.37564989924430847, 0.287453830242157, 0.3989672064781189, 0.012467725202441216, 0.5859830975532532, 0.9733873009681702, 0.022636914625763893, 0.011318457312881947, 0.5608298778533936, 0.01637459546327591, 0.42573946714401245, 0.9546718001365662, 0.03320597484707832, 0.00830149371176958, 0.8116633892059326, 0.04080989211797714, 0.14963626861572266, 0.02627912536263466, 0.8934902548789978, 0.07883737981319427, 0.9545596837997437, 0.012237944640219212, 0.03671383485198021, 0.4387086033821106, 0.14445284008979797, 0.4173082113265991, 0.9873636960983276, 0.017322169616818428, 0.03234183043241501, 0.9325228333473206, 0.03773213550448418, 0.9264101386070251, 0.06284182518720627, 0.010135778225958347, 0.08771388232707977, 0.019068235531449318, 0.8923934102058411, 0.9709663391113281, 0.015982985496520996, 0.011987239122390747, 0.9788737893104553, 0.9322301745414734, 0.05693008378148079, 0.014232520945370197, 0.9754366874694824, 0.009792030788958073, 0.9733278751373291, 0.015667250379920006, 0.9531525373458862, 0.008784815669059753, 0.03953167051076889, 0.9505717754364014, 0.04787052050232887, 0.006838645786046982, 0.042289599776268005, 0.042289599776268005, 0.9303711652755737, 0.9724971652030945, 0.07696135342121124, 0.025653785094618797, 0.8978824615478516, 0.9486167430877686, 0.8514602184295654, 0.04103422537446022, 0.10771484673023224, 0.9479623436927795, 0.7808775901794434, 0.07320727407932281, 0.14397430419921875, 0.3906979560852051, 0.08099836111068726, 0.533636212348938, 0.07210541516542435, 0.8252063989639282, 0.1121639758348465, 0.4701440632343292, 0.01938738487660885, 0.5137656927108765, 0.6576120257377625, 0.17067793011665344, 0.16565799713134766, 0.008922390639781952, 0.8654718399047852, 0.12491346150636673, 0.927498459815979, 0.05983860790729523, 0.1376451849937439, 0.6882259845733643, 0.17355263233184814, 0.06965608149766922, 0.9751851558685303, 0.9446503520011902, 0.027153339236974716, 0.028582461178302765, 0.9757562875747681, 0.02787875011563301, 0.9629145860671997, 0.012512599118053913, 0.9759827256202698, 0.012512599118053913, 0.9309402108192444, 0.022005755454301834, 0.8362187147140503, 0.14303740859031677, 0.9616807103157043, 0.19732718169689178, 0.5327833890914917, 0.27132487297058105, 0.9916465282440186, 0.00446687638759613, 0.00446687638759613, 0.9477428197860718, 0.15421058237552643, 0.06609024852514267, 0.771052896976471, 0.12667611241340637, 0.8672441840171814, 0.056274402886629105, 0.9285275936126709, 0.043859079480171204, 0.9210406541824341, 0.9553256630897522, 0.022216875106096268, 0.022216875106096268, 0.02491861954331398, 0.9282185435295105, 0.04983723908662796, 0.8833904266357422, 0.08548939973115921, 0.03799528628587723, 0.03411225602030754, 0.9551432132720947, 0.9628695845603943, 0.9796286821365356, 0.01632714457809925, 0.3213341236114502, 0.3856009542942047, 0.2924140691757202, 0.20202569663524628, 0.7856554388999939, 0.07512073963880539, 0.07512073963880539, 0.8513683676719666, 0.029626009985804558, 0.029626009985804558, 0.9480323195457458, 0.9514116644859314, 0.97906893491745, 0.9514254927635193, 0.034795913845300674, 0.9394897222518921, 0.011598638258874416, 0.9218525886535645, 0.9754066467285156, 0.019948383793234825, 0.9475482106208801, 0.029922574758529663, 0.9886223673820496, 0.9171981811523438, 0.013488207943737507, 0.06744103878736496, 0.031187165528535843, 0.9356149435043335, 0.47368893027305603, 0.40540945529937744, 0.11948910355567932, 0.966342568397522, 0.9629940390586853, 0.03106432408094406, 0.41331514716148376, 0.322808176279068, 0.26247021555900574, 0.03947503864765167, 0.03947503864765167, 0.9474009275436401, 0.04233424738049507, 0.9736876487731934, 0.018158841878175735, 0.9805774688720703, 0.018158841878175735, 0.03948130086064339, 0.9475512504577637, 0.020099319517612457, 0.9848666191101074, 0.932151734828949, 0.04052833467721939, 0.025330210104584694, 0.8637301325798035, 0.035398777574300766, 0.106196328997612, 0.6300566792488098, 0.017748074606060982, 0.35496148467063904, 0.0592610202729702, 0.9481763243675232, 0.5077539682388306, 0.24100765585899353, 0.2503671646118164, 0.028599973767995834, 0.9628657698631287, 0.009533324278891087, 0.9705983400344849, 0.9462484121322632, 0.019240669906139374, 0.9716538190841675, 0.009620334953069687, 0.01585477590560913, 0.9829961657524109, 0.01585477590560913, 0.9599071741104126, 0.018459752202033997, 0.03691950440406799, 0.027496380731463432, 0.7821192741394043, 0.18941952288150787, 0.33083176612854004, 0.20676986873149872, 0.46316447854042053, 0.5801021456718445, 0.19995009899139404, 0.21722973883152008, 0.7205398678779602, 0.05027022585272789, 0.22741292417049408, 0.6709890961647034, 0.14870569109916687, 0.18134841322898865, 0.009713958948850632, 0.9616819024085999, 0.029141876846551895, 0.18874631822109222, 0.078644298017025, 0.7235275506973267, 0.09011220932006836, 0.9011220932006836, 0.00819201860576868, 0.9455888271331787, 0.2572033107280731, 0.1677412986755371, 0.58150315284729, 0.6097381711006165, 0.04245012626051903, 0.3511783182621002, 0.9794212579727173, 0.9653201103210449, 0.9829914569854736, 0.35401883721351624, 0.012643530033528805, 0.6195330023765564, 0.061540089547634125, 0.8615612387657166, 0.08205345273017883, 0.026180699467658997, 0.9686859250068665, 0.03213503211736679, 0.9033514857292175, 0.06427006423473358, 0.9744499921798706, 0.7674866318702698, 0.08733468502759933, 0.14555780589580536, 0.02966459095478058, 0.9344345927238464, 0.04449688643217087, 0.009827041067183018, 0.9139147996902466, 0.07861632853746414, 0.031569793820381165, 0.031569793820381165, 0.9313088655471802, 0.9878510236740112, 0.9762541055679321, 0.022187594324350357, 0.022187594324350357, 0.9462645649909973, 0.047313228249549866, 0.01577107608318329, 0.9712845683097839, 0.014496784657239914, 0.014496784657239914, 0.06236714869737625, 0.9355072379112244, 0.9516626000404358, 0.9246883988380432, 0.039516597986221313, 0.039516597986221313, 0.043894097208976746, 0.9656701683998108, 0.9478894472122192, 0.8643001914024353, 0.0766717866063118, 0.05924638360738754, 0.03275435417890549, 0.9607943892478943, 0.15708822011947632, 0.837803840637207, 0.019398268312215805, 0.9699133634567261, 0.019398268312215805, 0.9627293348312378, 0.28228527307510376, 0.22257107496261597, 0.4939992129802704, 0.30922237038612366, 0.5182741284370422, 0.1698545515537262, 0.6365572214126587, 0.01565304771065712, 0.3495847284793854, 0.9652141332626343, 0.7706789970397949, 0.11856599897146225, 0.11172565072774887, 0.9724003076553345, 0.9851213693618774, 0.047241032123565674, 0.047241032123565674, 0.8975796103477478, 0.02075428143143654, 0.9598854780197144, 0.01815999485552311, 0.5360810160636902, 0.30033454298973083, 0.16469958424568176, 0.45286664366722107, 0.3008771538734436, 0.24814610183238983, 0.4694885313510895, 0.3393495976924896, 0.19109007716178894, 0.021555747836828232, 0.9700086712837219, 0.9781098961830139, 0.0090565737336874, 0.0181131474673748, 0.9855867028236389, 0.03519952669739723, 0.9714072942733765, 0.023128746077418327, 0.4369438886642456, 0.05022343620657921, 0.5122790336608887, 0.9666357636451721, 0.020138245075941086, 0.020138245075941086, 0.7519193291664124, 0.17733946442604065, 0.07093578577041626, 0.9401094913482666, 0.053720541298389435, 0.013430135324597359, 0.03126683086156845, 0.9692717790603638, 0.9789271950721741, 0.9110676646232605, 0.8889670968055725, 0.05506875738501549, 0.0629357248544693, 0.4272415041923523, 0.344739705324173, 0.22687996923923492, 0.9479979276657104, 0.28417477011680603, 0.3564226031303406, 0.36123910546302795, 0.9725032448768616, 0.04498189687728882, 0.94461989402771, 0.011245474219322205, 0.030421314761042595, 0.973482072353363, 0.4340536296367645, 0.33002424240112305, 0.2331693023443222, 0.012517516501247883, 0.9513311982154846, 0.025035033002495766, 0.9801697731018066, 0.01782126910984516, 0.01782126910984516], \"Term\": [\"aaa\", \"aaa\", \"adult\", \"adult\", \"alomar\", \"alomar\", \"alomar\", \"anyone\", \"anyone\", \"anyone\", \"baerga\", \"baerga\", \"baerga\", \"ball\", \"ball\", \"ball\", \"bank\", \"bank\", \"bank\", \"baseball\", \"baseball\", \"baseball\", \"bat\", \"bat\", \"bat\", \"bloom\", \"bloom\", \"bolson\", \"brave\", \"brave\", \"brave\", \"bu.edu\", \"burzynski\", \"burzynski\", \"cad\", \"cancer\", \"cancer\", \"cancer\", \"candida\", \"cardinal\", \"cardinal\", \"cardinal\", \"carl\", \"carl\", \"carl\", \"case\", \"case\", \"case\", \"catcher\", \"catcher\", \"cdc\", \"cdc\", \"center\", \"center\", \"center\", \"cereal\", \"cereal\", \"cereal\", \"chastity\", \"chastity\", \"chastity\", \"child\", \"child\", \"child\", \"claire\", \"claire\", \"clemens\", \"clemens\", \"clemens\", \"client\", \"col\", \"coli\", \"coli\", \"color\", \"color\", \"color\", \"compiler\", \"computer\", \"computer\", \"computer\", \"converter\", \"converter\", \"corn\", \"corn\", \"crohn\", \"crohn\", \"cub\", \"cub\", \"cub\", \"cview\", \"cview\", \"cview\", \"data\", \"data\", \"data\", \"david\", \"david\", \"david\", \"day\", \"day\", \"day\", \"diet\", \"diet\", \"diet\", \"directory\", \"directory\", \"directory\", \"disease\", \"disease\", \"disease\", \"display\", \"display\", \"display\", \"doctor\", \"doctor\", \"doctor\", \"dodger\", \"dodger\", \"dodger\", \"driver\", \"driver\", \"driver\", \"effect\", \"effect\", \"effect\", \"era\", \"era\", \"fan\", \"fan\", \"fan\", \"file\", \"file\", \"file\", \"food\", \"food\", \"food\", \"format\", \"format\", \"format\", \"forsberg\", \"ftp\", \"ftp\", \"ftp\", \"fulk\", \"game\", \"game\", \"game\", \"geb\", \"geb\", \"geb\", \"gif\", \"gif\", \"gif\", \"gilbert\", \"gilbert\", \"gilbert\", \"gilkey\", \"glutamate\", \"glutamate\", \"glutamate\", \"gonorrhea\", \"gordon\", \"gordon\", \"gordon\", \"graeme\", \"graphic\", \"graphic\", \"graphic\", \"group\", \"group\", \"group\", \"guy\", \"guy\", \"guy\", \"health\", \"health\", \"health\", \"help\", \"help\", \"help\", \"hitter\", \"hitter\", \"hitter\", \"hiv\", \"hiv\", \"home\", \"home\", \"home\", \"hus\", \"hus\", \"image\", \"image\", \"image\", \"imagine\", \"imagine\", \"inhibitor\", \"inning\", \"inning\", \"inning\", \"japanese\", \"jay\", \"jay\", \"jay\", \"jfif\", \"john\", \"john\", \"john\", \"jpeg\", \"jpeg\", \"jpeg\", \"kellog\", \"kenneth\", \"kenneth\", \"kenneth\", \"keyboard\", \"keyboard\", \"kidney\", \"kidney\", \"krillean\", \"krillean\", \"lady\", \"lady\", \"lady\", \"league\", \"league\", \"league\", \"library\", \"library\", \"library\", \"lineup\", \"lineup\", \"lipman\", \"lopez\", \"lopez\", \"lot\", \"lot\", \"lot\", \"lyme\", \"lyme\", \"marc\", \"marc\", \"marc\", \"meat\", \"meat\", \"meat\", \"membrane\", \"meme\", \"merrill\", \"mets\", \"mets\", \"mets\", \"mitchum\", \"mmwr\", \"morris\", \"morris\", \"morris\", \"mucus\", \"n3jxp\", \"n3jxp\", \"n3jxp\", \"needle\", \"needle\", \"new\", \"new\", \"new\", \"nfotis\", \"noring\", \"noring\", \"number\", \"number\", \"number\", \"nye\", \"nye\", \"nye\", \"o157\", \"o157\", \"offense\", \"offense\", \"offense\", \"olney\", \"olney\", \"oriole\", \"oriole\", \"package\", \"package\", \"package\", \"pain\", \"pain\", \"pain\", \"patient\", \"patient\", \"patient\", \"paulson\", \"paulson\", \"people\", \"people\", \"people\", \"phillies\", \"phillies\", \"phillies\", \"phils\", \"pinch\", \"pitcher\", \"pitcher\", \"pitcher\", \"pitching\", \"pitching\", \"pitching\", \"platform\", \"platform\", \"platform\", \"player\", \"player\", \"player\", \"point\", \"point\", \"point\", \"problem\", \"problem\", \"problem\", \"program\", \"program\", \"program\", \"question\", \"question\", \"question\", \"rbi\", \"rbi\", \"rbi\", \"reaction\", \"reaction\", \"reaction\", \"red\", \"red\", \"red\", \"removal\", \"report\", \"report\", \"report\", \"research\", \"research\", \"research\", \"restraint\", \"rickert\", \"rind\", \"risk\", \"risk\", \"risk\", \"roger\", \"roger\", \"roger\", \"rookie\", \"rookie\", \"run\", \"run\", \"run\", \"sasghm\", \"science\", \"science\", \"science\", \"score\", \"score\", \"score\", \"season\", \"season\", \"season\", \"seizure\", \"seizure\", \"seizure\", \"seminar\", \"sequence\", \"sequence\", \"sequence\", \"server\", \"server\", \"server\", \"sgi\", \"sgi\", \"sgi\", \"sharon\", \"sharon\", \"simtel20\", \"site\", \"site\", \"site\", \"smokeless\", \"smokeless\", \"smoker\", \"software\", \"software\", \"software\", \"sox\", \"sox\", \"split\", \"split\", \"stadium\", \"stadium\", \"stadium\", \"stark\", \"state\", \"state\", \"state\", \"steve\", \"steve\", \"steve\", \"study\", \"study\", \"study\", \"suck\", \"system\", \"system\", \"system\", \"talent\", \"tate\", \"tea\", \"tea\", \"tea\", \"team\", \"team\", \"team\", \"thanks\", \"thanks\", \"thanks\", \"thing\", \"thing\", \"thing\", \"time\", \"time\", \"time\", \"tobacco\", \"tobacco\", \"tool\", \"tool\", \"tool\", \"torre\", \"torre\", \"turpin\", \"turpin\", \"use\", \"use\", \"use\", \"utility\", \"utility\", \"utility\", \"version\", \"version\", \"version\", \"viewer\", \"viewer\", \"viewer\", \"viola\", \"viola\", \"wa7kgx\", \"wate\", \"water\", \"water\", \"water\", \"way\", \"way\", \"way\", \"wcsbeau\", \"week\", \"week\", \"week\", \"whiten\", \"win\", \"win\", \"win\", \"wip\", \"wip\", \"world\", \"world\", \"world\", \"yankee\", \"yankee\", \"yankee\", \"yeast\", \"yeast\", \"yeast\"]}, \"R\": 30, \"lambda.step\": 0.01, \"plot.opts\": {\"xlab\": \"PC1\", \"ylab\": \"PC2\"}, \"topic.order\": [2, 1, 3]};\n",
       "\n",
       "function LDAvis_load_lib(url, callback){\n",
       "  var s = document.createElement('script');\n",
       "  s.src = url;\n",
       "  s.async = true;\n",
       "  s.onreadystatechange = s.onload = callback;\n",
       "  s.onerror = function(){console.warn(\"failed to load library \" + url);};\n",
       "  document.getElementsByTagName(\"head\")[0].appendChild(s);\n",
       "}\n",
       "\n",
       "if(typeof(LDAvis) !== \"undefined\"){\n",
       "   // already loaded: just create the visualization\n",
       "   !function(LDAvis){\n",
       "       new LDAvis(\"#\" + \"ldavis_el159161405062768081686116798947\", ldavis_el159161405062768081686116798947_data);\n",
       "   }(LDAvis);\n",
       "}else if(typeof define === \"function\" && define.amd){\n",
       "   // require.js is available: use it to load d3/LDAvis\n",
       "   require.config({paths: {d3: \"https://cdnjs.cloudflare.com/ajax/libs/d3/3.5.5/d3.min\"}});\n",
       "   require([\"d3\"], function(d3){\n",
       "      window.d3 = d3;\n",
       "      LDAvis_load_lib(\"https://cdn.rawgit.com/bmabey/pyLDAvis/files/ldavis.v1.0.0.js\", function(){\n",
       "        new LDAvis(\"#\" + \"ldavis_el159161405062768081686116798947\", ldavis_el159161405062768081686116798947_data);\n",
       "      });\n",
       "    });\n",
       "}else{\n",
       "    // require.js not available: dynamically load d3 & LDAvis\n",
       "    LDAvis_load_lib(\"https://cdnjs.cloudflare.com/ajax/libs/d3/3.5.5/d3.min.js\", function(){\n",
       "         LDAvis_load_lib(\"https://cdn.rawgit.com/bmabey/pyLDAvis/files/ldavis.v1.0.0.js\", function(){\n",
       "                 new LDAvis(\"#\" + \"ldavis_el159161405062768081686116798947\", ldavis_el159161405062768081686116798947_data);\n",
       "            })\n",
       "         });\n",
       "}\n",
       "</script>"
      ],
      "text/plain": [
       "PreparedData(topic_coordinates=              x         y  topics  cluster       Freq\n",
       "topic                                                \n",
       "1      0.112201 -0.078694       1        1  44.000904\n",
       "0     -0.152201 -0.029562       2        1  32.455864\n",
       "2      0.040000  0.108256       3        1  23.543222, topic_info=    Category        Freq      Term       Total  loglift  logprob\n",
       "354  Default  510.000000      game  510.000000  30.0000  30.0000\n",
       "94   Default  385.000000      team  385.000000  29.0000  29.0000\n",
       "238  Default  699.000000     image  699.000000  28.0000  28.0000\n",
       "139  Default  262.000000      food  262.000000  27.0000  27.0000\n",
       "231  Default  493.000000      file  493.000000  26.0000  26.0000\n",
       "..       ...         ...       ...         ...      ...      ...\n",
       "0     Topic3   78.670799    anyone  390.626373  -0.1561  -5.9006\n",
       "79    Topic3   65.392990     world  278.767395  -0.0036  -6.0855\n",
       "6     Topic3   65.621117  computer  376.519409  -0.3007  -6.0820\n",
       "299   Topic3   62.413437    player  327.315796  -0.2108  -6.1321\n",
       "106   Topic3   59.456955   graphic  409.795349  -0.4841  -6.1807\n",
       "\n",
       "[253 rows x 6 columns], token_table=      Topic      Freq    Term\n",
       "term                         \n",
       "537       2  0.972021     aaa\n",
       "537       3  0.022091     aaa\n",
       "174       1  0.170585   adult\n",
       "174       3  0.804186   adult\n",
       "263       1  0.010031  alomar\n",
       "...     ...       ...     ...\n",
       "533       2  0.951331  yankee\n",
       "533       3  0.025035  yankee\n",
       "2622      1  0.980170   yeast\n",
       "2622      2  0.017821   yeast\n",
       "2622      3  0.017821   yeast\n",
       "\n",
       "[479 rows x 3 columns], R=30, lambda_step=0.01, plot_opts={'xlab': 'PC1', 'ylab': 'PC2'}, topic_order=[2, 1, 3])"
      ]
     },
     "execution_count": 119,
     "metadata": {},
     "output_type": "execute_result"
    }
   ],
   "source": [
    "import pyLDAvis\n",
    "import pyLDAvis.gensim\n",
    "\n",
    "pyLDAvis.enable_notebook()\n",
    "vis = pyLDAvis.gensim.prepare(model, doc_term_matrix, dictionary)\n",
    "vis"
   ]
  }
 ],
 "metadata": {
  "celltoolbar": "Slideshow",
  "kernelspec": {
   "display_name": "Python 3",
   "language": "python",
   "name": "python3"
  },
  "language_info": {
   "codemirror_mode": {
    "name": "ipython",
    "version": 3
   },
   "file_extension": ".py",
   "mimetype": "text/x-python",
   "name": "python",
   "nbconvert_exporter": "python",
   "pygments_lexer": "ipython3",
   "version": "3.7.3"
  }
 },
 "nbformat": 4,
 "nbformat_minor": 2
}
