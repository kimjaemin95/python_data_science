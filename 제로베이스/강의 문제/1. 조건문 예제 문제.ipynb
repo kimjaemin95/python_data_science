{
 "cells": [
  {
   "cell_type": "markdown",
   "id": "39bb3857",
   "metadata": {},
   "source": [
    "### 계좌에 100000원이 있습니다.\n",
    "### 출금 금액을 입력 받습니다.\n",
    "### 출금 금액이 계좌 금액보다 많으면 \"출금 불가능합니다.\" 출력\n",
    "### 출금 금액이 계좌 금액보다 적거나 같으면 \"출금 되었습니다.\" 출력\n",
    "### 마지막에 현재 계좌 금액 출력"
   ]
  },
  {
   "cell_type": "code",
   "execution_count": 2,
   "id": "24eff85c",
   "metadata": {},
   "outputs": [],
   "source": [
    "account = 100000"
   ]
  },
  {
   "cell_type": "code",
   "execution_count": 4,
   "id": "54a7bb9c",
   "metadata": {},
   "outputs": [
    {
     "data": {
      "text/plain": [
       "100000"
      ]
     },
     "execution_count": 4,
     "metadata": {},
     "output_type": "execute_result"
    }
   ],
   "source": [
    "account"
   ]
  },
  {
   "cell_type": "code",
   "execution_count": 7,
   "id": "76100dee",
   "metadata": {},
   "outputs": [
    {
     "name": "stdout",
     "output_type": "stream",
     "text": [
      "출금할 금액을 입력하세요. :10000\n"
     ]
    }
   ],
   "source": [
    "input_money = int(input(\"출금할 금액을 입력하세요. :\"))"
   ]
  },
  {
   "cell_type": "code",
   "execution_count": 8,
   "id": "dccb87aa",
   "metadata": {},
   "outputs": [
    {
     "name": "stdout",
     "output_type": "stream",
     "text": [
      "10000가 출금 되었습니다.\n",
      "회원님의 계좌 금액은 전체 90000원 입니다.\n"
     ]
    }
   ],
   "source": [
    "if account >= input_money:\n",
    "    account -= input_money\n",
    "    print(\"{0}가 출금 되었습니다.\".format(input_money))\n",
    "else:\n",
    "    print(\"출금 불가능합니다.\")\n",
    "print(\"회원님의 계좌 금액은 전체 {0}원 입니다.\".format(account))"
   ]
  },
  {
   "cell_type": "code",
   "execution_count": null,
   "id": "500e01bc",
   "metadata": {},
   "outputs": [],
   "source": []
  }
 ],
 "metadata": {
  "kernelspec": {
   "display_name": "Python 3",
   "language": "python",
   "name": "python3"
  },
  "language_info": {
   "codemirror_mode": {
    "name": "ipython",
    "version": 3
   },
   "file_extension": ".py",
   "mimetype": "text/x-python",
   "name": "python",
   "nbconvert_exporter": "python",
   "pygments_lexer": "ipython3",
   "version": "3.8.8"
  }
 },
 "nbformat": 4,
 "nbformat_minor": 5
}
