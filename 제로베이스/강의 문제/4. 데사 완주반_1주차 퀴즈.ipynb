{
 "cells": [
  {
   "cell_type": "code",
   "execution_count": 1,
   "id": "4ef9fefd",
   "metadata": {},
   "outputs": [
    {
     "data": {
      "text/plain": [
       "True"
      ]
     },
     "execution_count": 1,
     "metadata": {},
     "output_type": "execute_result"
    }
   ],
   "source": [
    "a = True\n",
    "b = False\n",
    "(a or b) and a"
   ]
  },
  {
   "cell_type": "code",
   "execution_count": 2,
   "id": "08be989b",
   "metadata": {},
   "outputs": [],
   "source": [
    "starks = ['john', 'sansa', 'rob', 'aria', 'rickon', 'bran']\n",
    "survivors = starks[-1::-2], starks[0]"
   ]
  },
  {
   "cell_type": "code",
   "execution_count": 3,
   "id": "0ad2d6ec",
   "metadata": {},
   "outputs": [
    {
     "data": {
      "text/plain": [
       "(['bran', 'aria', 'sansa'], 'john')"
      ]
     },
     "execution_count": 3,
     "metadata": {},
     "output_type": "execute_result"
    }
   ],
   "source": [
    "survivors"
   ]
  },
  {
   "cell_type": "code",
   "execution_count": 6,
   "id": "e6498f41",
   "metadata": {},
   "outputs": [],
   "source": [
    "ls = range(1,20)\n",
    "result = []\n",
    "\n",
    "for data in ls:\n",
    "    if (data%3 == 0):\n",
    "        result.append(\"{} 3의 배수\".format(data))\n",
    "    else: \n",
    "        result.append(data)"
   ]
  },
  {
   "cell_type": "code",
   "execution_count": 7,
   "id": "a10f4ad3",
   "metadata": {},
   "outputs": [
    {
     "data": {
      "text/plain": [
       "[1,\n",
       " 2,\n",
       " '3 3의 배수',\n",
       " 4,\n",
       " 5,\n",
       " '6 3의 배수',\n",
       " 7,\n",
       " 8,\n",
       " '9 3의 배수',\n",
       " 10,\n",
       " 11,\n",
       " '12 3의 배수',\n",
       " 13,\n",
       " 14,\n",
       " '15 3의 배수',\n",
       " 16,\n",
       " 17,\n",
       " '18 3의 배수',\n",
       " 19]"
      ]
     },
     "execution_count": 7,
     "metadata": {},
     "output_type": "execute_result"
    }
   ],
   "source": [
    "result\n"
   ]
  },
  {
   "cell_type": "code",
   "execution_count": 12,
   "id": "28929352",
   "metadata": {},
   "outputs": [],
   "source": [
    "result = [\"3의 배수\" if data%3 ==0 else data for data in ls]"
   ]
  },
  {
   "cell_type": "code",
   "execution_count": 13,
   "id": "c0f0a11b",
   "metadata": {},
   "outputs": [
    {
     "data": {
      "text/plain": [
       "[1,\n",
       " 2,\n",
       " '3의 배수',\n",
       " 4,\n",
       " 5,\n",
       " '3의 배수',\n",
       " 7,\n",
       " 8,\n",
       " '3의 배수',\n",
       " 10,\n",
       " 11,\n",
       " '3의 배수',\n",
       " 13,\n",
       " 14,\n",
       " '3의 배수',\n",
       " 16,\n",
       " 17,\n",
       " '3의 배수',\n",
       " 19]"
      ]
     },
     "execution_count": 13,
     "metadata": {},
     "output_type": "execute_result"
    }
   ],
   "source": [
    "result"
   ]
  },
  {
   "cell_type": "code",
   "execution_count": 22,
   "id": "973e3f13",
   "metadata": {},
   "outputs": [],
   "source": [
    "class Marine:\n",
    "    def __init__(self, health=40, attack_pow=5):\n",
    "        self.health = health\n",
    "        self.attac_pow = attack_pow\n",
    "        \n",
    "    def attack(self, unit):\n",
    "        unit.health -= self.attac_pow\n",
    "        if unit.health <= 0:\n",
    "            unit.health = 0\n",
    "            print(\"사망\")"
   ]
  },
  {
   "cell_type": "code",
   "execution_count": 23,
   "id": "6ecfd4e2",
   "metadata": {},
   "outputs": [],
   "source": [
    "marine_1 = Marine()"
   ]
  },
  {
   "cell_type": "code",
   "execution_count": 24,
   "id": "b6afc569",
   "metadata": {},
   "outputs": [],
   "source": [
    "marine_2 = Marine()"
   ]
  },
  {
   "cell_type": "code",
   "execution_count": 25,
   "id": "c735e160",
   "metadata": {},
   "outputs": [],
   "source": [
    "marine_1.attack(marine_2)"
   ]
  },
  {
   "cell_type": "code",
   "execution_count": 26,
   "id": "0102381d",
   "metadata": {},
   "outputs": [],
   "source": [
    "marine_2.attack(marine_1)"
   ]
  },
  {
   "cell_type": "code",
   "execution_count": 27,
   "id": "b115bba2",
   "metadata": {},
   "outputs": [],
   "source": [
    "marine_1.attack(marine_2)"
   ]
  },
  {
   "cell_type": "code",
   "execution_count": 28,
   "id": "c4cab59f",
   "metadata": {},
   "outputs": [
    {
     "name": "stdout",
     "output_type": "stream",
     "text": [
      "30\n"
     ]
    }
   ],
   "source": [
    "print(marine_2.health)"
   ]
  },
  {
   "cell_type": "code",
   "execution_count": null,
   "id": "5d60f0ea",
   "metadata": {},
   "outputs": [],
   "source": []
  }
 ],
 "metadata": {
  "kernelspec": {
   "display_name": "Python 3",
   "language": "python",
   "name": "python3"
  },
  "language_info": {
   "codemirror_mode": {
    "name": "ipython",
    "version": 3
   },
   "file_extension": ".py",
   "mimetype": "text/x-python",
   "name": "python",
   "nbconvert_exporter": "python",
   "pygments_lexer": "ipython3",
   "version": "3.8.8"
  }
 },
 "nbformat": 4,
 "nbformat_minor": 5
}
