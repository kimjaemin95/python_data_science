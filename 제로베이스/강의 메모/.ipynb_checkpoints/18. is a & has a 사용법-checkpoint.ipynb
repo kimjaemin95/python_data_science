{
 "cells": [
  {
   "cell_type": "markdown",
   "id": "a212787a",
   "metadata": {},
   "source": [
    "### is a & has a\n",
    "- 클래스를 설계하는 개념\n",
    "- A is a B\n",
    "    - A는 B이다. 상속을 이용해서 클래스를 만드는 방법\n",
    "- A has a B\n",
    "    - A는 B를 가진다. A가 B객체를 가지고 클래스를 만드는 방법"
   ]
  },
  {
   "cell_type": "code",
   "execution_count": 3,
   "id": "91887a90",
   "metadata": {},
   "outputs": [],
   "source": [
    "# is a\n",
    "class Person : \n",
    "    def __init__(self, name, email):\n",
    "        self.name = name\n",
    "        self.email = email\n",
    "        \n",
    "class Person2(Person):\n",
    "     def info(self):\n",
    "            print(self.name, self.email)"
   ]
  },
  {
   "cell_type": "code",
   "execution_count": 4,
   "id": "26299f39",
   "metadata": {},
   "outputs": [],
   "source": [
    "p = Person2(\"Andy\", \"andy@gmail.com\")"
   ]
  },
  {
   "cell_type": "code",
   "execution_count": 5,
   "id": "b5851487",
   "metadata": {},
   "outputs": [
    {
     "name": "stdout",
     "output_type": "stream",
     "text": [
      "Andy andy@gmail.com\n"
     ]
    }
   ],
   "source": [
    "p.info()"
   ]
  },
  {
   "cell_type": "code",
   "execution_count": 29,
   "id": "b38e09ca",
   "metadata": {},
   "outputs": [],
   "source": [
    "class Name:\n",
    "    def __init__(self, name):\n",
    "        self.name_str = name\n",
    "        \n",
    "class Email:\n",
    "    def __init__(self, email):\n",
    "        self.email_str = email"
   ]
  },
  {
   "cell_type": "code",
   "execution_count": 34,
   "id": "6c28d826",
   "metadata": {},
   "outputs": [],
   "source": [
    "class Person:\n",
    "    def __init__(self, name_obj, email_obj):\n",
    "#         self.name1 = name_obj\n",
    "#         self.email = email_obj\n",
    "        pass\n",
    "        \n",
    "    def info(self):\n",
    "        print(name.name_str, email.email_str)"
   ]
  },
  {
   "cell_type": "code",
   "execution_count": 35,
   "id": "5631ed0d",
   "metadata": {},
   "outputs": [],
   "source": [
    "name1 = Name('Andy')\n",
    "email = Email(\"andy@naver.com\")"
   ]
  },
  {
   "cell_type": "code",
   "execution_count": 36,
   "id": "57f13ba3",
   "metadata": {},
   "outputs": [],
   "source": [
    "p = Person(name1, email)"
   ]
  },
  {
   "cell_type": "code",
   "execution_count": 37,
   "id": "9ef7d5be",
   "metadata": {},
   "outputs": [
    {
     "name": "stdout",
     "output_type": "stream",
     "text": [
      "Andy andy@naver.com\n"
     ]
    }
   ],
   "source": [
    "p.info()"
   ]
  },
  {
   "cell_type": "code",
   "execution_count": null,
   "id": "73d9041d",
   "metadata": {},
   "outputs": [],
   "source": []
  }
 ],
 "metadata": {
  "kernelspec": {
   "display_name": "Python 3",
   "language": "python",
   "name": "python3"
  },
  "language_info": {
   "codemirror_mode": {
    "name": "ipython",
    "version": 3
   },
   "file_extension": ".py",
   "mimetype": "text/x-python",
   "name": "python",
   "nbconvert_exporter": "python",
   "pygments_lexer": "ipython3",
   "version": "3.8.8"
  }
 },
 "nbformat": 4,
 "nbformat_minor": 5
}
