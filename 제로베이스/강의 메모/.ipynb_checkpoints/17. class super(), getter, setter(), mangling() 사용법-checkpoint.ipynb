{
 "cells": [
  {
   "cell_type": "markdown",
   "id": "297f7932",
   "metadata": {},
   "source": [
    "### 클래스 super() 사용법"
   ]
  },
  {
   "cell_type": "code",
   "execution_count": 27,
   "id": "52f85474",
   "metadata": {},
   "outputs": [],
   "source": [
    "class Master:\n",
    "    def __init__(self, a, b):\n",
    "        self.a = a\n",
    "        self.b = b\n",
    "        \n",
    "    def echo(self):\n",
    "        print(\"This is echo function in Master class\")"
   ]
  },
  {
   "cell_type": "code",
   "execution_count": 28,
   "id": "b90bd8cf",
   "metadata": {},
   "outputs": [],
   "source": [
    "master = Master(1, 2)"
   ]
  },
  {
   "cell_type": "code",
   "execution_count": 29,
   "id": "51196470",
   "metadata": {},
   "outputs": [
    {
     "name": "stdout",
     "output_type": "stream",
     "text": [
      "This is echo function in Master class\n"
     ]
    }
   ],
   "source": [
    "master.echo()"
   ]
  },
  {
   "cell_type": "code",
   "execution_count": 30,
   "id": "f5a588f8",
   "metadata": {},
   "outputs": [],
   "source": [
    "class Subber(Master):\n",
    "    def super_printing(self):\n",
    "        super().echo()\n",
    "        print('-'*50)"
   ]
  },
  {
   "cell_type": "code",
   "execution_count": 31,
   "id": "e24f0d28",
   "metadata": {},
   "outputs": [],
   "source": [
    "subber = Subber(1, 2)"
   ]
  },
  {
   "cell_type": "code",
   "execution_count": 32,
   "id": "cf8053e6",
   "metadata": {},
   "outputs": [
    {
     "name": "stdout",
     "output_type": "stream",
     "text": [
      "This is echo function in Master class\n",
      "--------------------------------------------------\n"
     ]
    }
   ],
   "source": [
    "subber.super_printing()"
   ]
  },
  {
   "cell_type": "markdown",
   "id": "159744ea",
   "metadata": {},
   "source": [
    "### 클래스 getter(), setter(), mangling() 상용법"
   ]
  },
  {
   "cell_type": "code",
   "execution_count": 37,
   "id": "02d1be3c",
   "metadata": {},
   "outputs": [],
   "source": [
    "class Master:\n",
    "    def __init__(self, a):\n",
    "        self.a = a\n",
    "        \n",
    "    def getter(self):\n",
    "        return self.a\n",
    "    \n",
    "    def setter(self, set_a):\n",
    "        self.a = set_a\n",
    "        \n",
    "    val_a = property(getter, setter)"
   ]
  },
  {
   "cell_type": "code",
   "execution_count": 38,
   "id": "259b0396",
   "metadata": {},
   "outputs": [],
   "source": [
    "master = Master(10)"
   ]
  },
  {
   "cell_type": "code",
   "execution_count": 41,
   "id": "e6535686",
   "metadata": {},
   "outputs": [],
   "source": [
    "master.a = 1100"
   ]
  },
  {
   "cell_type": "code",
   "execution_count": null,
   "id": "02c76855",
   "metadata": {},
   "outputs": [],
   "source": []
  },
  {
   "cell_type": "markdown",
   "id": "4b7d11a1",
   "metadata": {},
   "source": []
  },
  {
   "cell_type": "code",
   "execution_count": null,
   "id": "a3feaff9",
   "metadata": {},
   "outputs": [],
   "source": []
  }
 ],
 "metadata": {
  "kernelspec": {
   "display_name": "Python 3",
   "language": "python",
   "name": "python3"
  },
  "language_info": {
   "codemirror_mode": {
    "name": "ipython",
    "version": 3
   },
   "file_extension": ".py",
   "mimetype": "text/x-python",
   "name": "python",
   "nbconvert_exporter": "python",
   "pygments_lexer": "ipython3",
   "version": "3.8.8"
  }
 },
 "nbformat": 4,
 "nbformat_minor": 5
}
