{
 "cells": [
  {
   "cell_type": "markdown",
   "id": "5de77813",
   "metadata": {},
   "source": [
    "### 함수 이름 : zip\n",
    "- 같은 인덱스 끼리의 리스트를 Tuple 형태로 묶어주는 함수"
   ]
  },
  {
   "cell_type": "code",
   "execution_count": 4,
   "id": "cf32c63d",
   "metadata": {},
   "outputs": [],
   "source": [
    "city = ['seoul', 'busan', 'daegu']\n",
    "population = [9700000, 3600000, 2500000]"
   ]
  },
  {
   "cell_type": "code",
   "execution_count": 13,
   "id": "7ad93962",
   "metadata": {},
   "outputs": [],
   "source": [
    "use_zip = zip(city, population)"
   ]
  },
  {
   "cell_type": "code",
   "execution_count": 14,
   "id": "3345f91a",
   "metadata": {},
   "outputs": [
    {
     "data": {
      "text/plain": [
       "[('seoul', 9700000), ('busan', 3600000), ('daegu', 2500000)]"
      ]
     },
     "execution_count": 14,
     "metadata": {},
     "output_type": "execute_result"
    }
   ],
   "source": [
    "use_list = list(use_zip)\n",
    "use_list"
   ]
  },
  {
   "cell_type": "code",
   "execution_count": 15,
   "id": "1faa8526",
   "metadata": {},
   "outputs": [
    {
     "data": {
      "text/plain": [
       "{'seoul': 9700000, 'busan': 3600000, 'daegu': 2500000}"
      ]
     },
     "execution_count": 15,
     "metadata": {},
     "output_type": "execute_result"
    }
   ],
   "source": [
    "use_dict = dict(use_list)\n",
    "use_dict"
   ]
  },
  {
   "cell_type": "code",
   "execution_count": null,
   "id": "5f073a2b",
   "metadata": {},
   "outputs": [],
   "source": []
  }
 ],
 "metadata": {
  "kernelspec": {
   "display_name": "Python 3",
   "language": "python",
   "name": "python3"
  },
  "language_info": {
   "codemirror_mode": {
    "name": "ipython",
    "version": 3
   },
   "file_extension": ".py",
   "mimetype": "text/x-python",
   "name": "python",
   "nbconvert_exporter": "python",
   "pygments_lexer": "ipython3",
   "version": "3.8.8"
  }
 },
 "nbformat": 4,
 "nbformat_minor": 5
}
