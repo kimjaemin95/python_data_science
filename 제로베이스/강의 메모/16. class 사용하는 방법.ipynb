{
 "cells": [
  {
   "cell_type": "markdown",
   "id": "d3b1598b",
   "metadata": {},
   "source": [
    "# class : 클래스\n",
    "- 변수와 함수를 묶어 놓은 개념\n",
    "- 사용 방법\n",
    "    - 변수와 함수가 들어있는 클래스를 선언\n",
    "    - 클래스를 객체로 만들어서 클래스 안에 선언된 변수와 함수를 사용\n",
    "- 참고\n",
    "    - 클래스 안에 선언 되어 있는 함수를 매소드라고 한다."
   ]
  },
  {
   "cell_type": "markdown",
   "id": "ebf9c315",
   "metadata": {},
   "source": [
    "### 1. 기본 클래스의 사용"
   ]
  },
  {
   "cell_type": "code",
   "execution_count": 10,
   "id": "8739e475",
   "metadata": {},
   "outputs": [],
   "source": [
    "class Calculator:\n",
    "    num1 = 1\n",
    "    num2 = 2\n",
    "    def plus(self):\n",
    "        return self.num1 + self.num2\n",
    "    \n",
    "    def minus(self):\n",
    "        return self.num1 - self.num2"
   ]
  },
  {
   "cell_type": "code",
   "execution_count": 11,
   "id": "a6a975b9",
   "metadata": {},
   "outputs": [],
   "source": [
    "calculator = Calculator()"
   ]
  },
  {
   "cell_type": "code",
   "execution_count": 12,
   "id": "7d490121",
   "metadata": {},
   "outputs": [
    {
     "data": {
      "text/plain": [
       "3"
      ]
     },
     "execution_count": 12,
     "metadata": {},
     "output_type": "execute_result"
    }
   ],
   "source": [
    "calculator.plus()"
   ]
  },
  {
   "cell_type": "code",
   "execution_count": 13,
   "id": "a77cfcb5",
   "metadata": {},
   "outputs": [
    {
     "data": {
      "text/plain": [
       "-1"
      ]
     },
     "execution_count": 13,
     "metadata": {},
     "output_type": "execute_result"
    }
   ],
   "source": [
    "calculator.minus()"
   ]
  },
  {
   "cell_type": "code",
   "execution_count": 14,
   "id": "3844218c",
   "metadata": {},
   "outputs": [
    {
     "data": {
      "text/plain": [
       "(1, 2)"
      ]
     },
     "execution_count": 14,
     "metadata": {},
     "output_type": "execute_result"
    }
   ],
   "source": [
    "calculator.num1, calculator.num2"
   ]
  },
  {
   "cell_type": "markdown",
   "id": "c4c14fe1",
   "metadata": {},
   "source": [
    "### 클래스 내에서 self 란?\n",
    "- 객체 자신"
   ]
  },
  {
   "cell_type": "code",
   "execution_count": 16,
   "id": "d07bb4b2",
   "metadata": {},
   "outputs": [
    {
     "data": {
      "text/plain": [
       "12"
      ]
     },
     "execution_count": 16,
     "metadata": {},
     "output_type": "execute_result"
    }
   ],
   "source": [
    "calculator.num1 =  10\n",
    "calculator.plus()"
   ]
  },
  {
   "cell_type": "markdown",
   "id": "e86c4091",
   "metadata": {},
   "source": [
    "### 객체지향\n",
    "- 실제 세계를 코드에 반영해서 개발하는 방법\n",
    "- 여러명의 개발자가 코드를 효율적으로 작성해서 프로젝트를 완성시키지 위한 방법\n",
    "- 예 : 설계도 작성(클래스) -> 실제 설계(객체, object)"
   ]
  },
  {
   "cell_type": "markdown",
   "id": "6f683145",
   "metadata": {},
   "source": [
    "### 생성자\n",
    "- 클래스가 객체로 생성될 때 실행되는 함수\n",
    "- 변수(재료)를 추가할 때 사용"
   ]
  },
  {
   "cell_type": "code",
   "execution_count": 20,
   "id": "89b3e6c4",
   "metadata": {},
   "outputs": [],
   "source": [
    "class Calculator:\n",
    "    def __init__(self, num1, num2):\n",
    "        self.num1 = num1\n",
    "        self.num2 = num2\n",
    "    \n",
    "    def plus(self):\n",
    "        return self.num1 + self.num2"
   ]
  },
  {
   "cell_type": "code",
   "execution_count": 21,
   "id": "9ca81b72",
   "metadata": {},
   "outputs": [],
   "source": [
    "cals = Calculator(1,4)"
   ]
  },
  {
   "cell_type": "code",
   "execution_count": 22,
   "id": "b6fe2912",
   "metadata": {},
   "outputs": [
    {
     "data": {
      "text/plain": [
       "5"
      ]
     },
     "execution_count": 22,
     "metadata": {},
     "output_type": "execute_result"
    }
   ],
   "source": [
    "cals.plus()"
   ]
  },
  {
   "cell_type": "markdown",
   "id": "b8aa72b3",
   "metadata": {},
   "source": [
    "### join 함수 사용하기"
   ]
  },
  {
   "cell_type": "code",
   "execution_count": 23,
   "id": "4e6084a7",
   "metadata": {},
   "outputs": [],
   "source": [
    "ls = ['python', 'is', 'good']"
   ]
  },
  {
   "cell_type": "code",
   "execution_count": 24,
   "id": "0ea531fd",
   "metadata": {},
   "outputs": [
    {
     "data": {
      "text/plain": [
       "'python is good'"
      ]
     },
     "execution_count": 24,
     "metadata": {},
     "output_type": "execute_result"
    }
   ],
   "source": [
    "\" \".join(ls)"
   ]
  },
  {
   "cell_type": "code",
   "execution_count": 25,
   "id": "fdd46652",
   "metadata": {},
   "outputs": [
    {
     "data": {
      "text/html": [
       "<div>\n",
       "<style scoped>\n",
       "    .dataframe tbody tr th:only-of-type {\n",
       "        vertical-align: middle;\n",
       "    }\n",
       "\n",
       "    .dataframe tbody tr th {\n",
       "        vertical-align: top;\n",
       "    }\n",
       "\n",
       "    .dataframe thead th {\n",
       "        text-align: right;\n",
       "    }\n",
       "</style>\n",
       "<table border=\"1\" class=\"dataframe\">\n",
       "  <thead>\n",
       "    <tr style=\"text-align: right;\">\n",
       "      <th></th>\n",
       "      <th>name</th>\n",
       "      <th>age</th>\n",
       "    </tr>\n",
       "  </thead>\n",
       "  <tbody>\n",
       "    <tr>\n",
       "      <th>0</th>\n",
       "      <td>jaemin</td>\n",
       "      <td>25</td>\n",
       "    </tr>\n",
       "    <tr>\n",
       "      <th>1</th>\n",
       "      <td>hyeon</td>\n",
       "      <td>25</td>\n",
       "    </tr>\n",
       "  </tbody>\n",
       "</table>\n",
       "</div>"
      ],
      "text/plain": [
       "     name  age\n",
       "0  jaemin   25\n",
       "1   hyeon   25"
      ]
     },
     "execution_count": 25,
     "metadata": {},
     "output_type": "execute_result"
    }
   ],
   "source": [
    "import pandas as pd\n",
    "\n",
    "pd.DataFrame(\n",
    "    [{'name':'jaemin', 'age':25},\n",
    "    {'name':'hyeon', 'age':25}]\n",
    ")"
   ]
  },
  {
   "cell_type": "code",
   "execution_count": null,
   "id": "0ab080aa",
   "metadata": {},
   "outputs": [],
   "source": []
  }
 ],
 "metadata": {
  "kernelspec": {
   "display_name": "Python 3",
   "language": "python",
   "name": "python3"
  },
  "language_info": {
   "codemirror_mode": {
    "name": "ipython",
    "version": 3
   },
   "file_extension": ".py",
   "mimetype": "text/x-python",
   "name": "python",
   "nbconvert_exporter": "python",
   "pygments_lexer": "ipython3",
   "version": "3.8.8"
  }
 },
 "nbformat": 4,
 "nbformat_minor": 5
}
