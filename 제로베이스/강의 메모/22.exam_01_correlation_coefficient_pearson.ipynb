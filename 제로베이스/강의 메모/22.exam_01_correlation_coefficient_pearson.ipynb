{
 "cells": [
  {
   "cell_type": "markdown",
   "id": "c916b70d",
   "metadata": {},
   "source": [
    "# 상관계수 ( Correlation Coefficient )"
   ]
  },
  {
   "cell_type": "markdown",
   "id": "786ca45e",
   "metadata": {},
   "source": [
    "### Index\n",
    "\n",
    "1. 분산\n",
    "1. 공분산\n",
    "1. 상관계수\n",
    "1. 결정계수\n",
    "1. 프리미어리그 데이터 상관계수 분석"
   ]
  },
  {
   "cell_type": "code",
   "execution_count": 3,
   "id": "32a95432",
   "metadata": {},
   "outputs": [],
   "source": [
    "import numpy as np"
   ]
  },
  {
   "cell_type": "markdown",
   "id": "fda7fe2b",
   "metadata": {},
   "source": [
    "샘플 데이터 생성"
   ]
  },
  {
   "cell_type": "code",
   "execution_count": 5,
   "id": "1816d509",
   "metadata": {},
   "outputs": [],
   "source": [
    "data1 = np.array([80, 85, 100, 90, 95])\n",
    "data2 = np.array([70, 80, 100, 95, 95])"
   ]
  },
  {
   "cell_type": "markdown",
   "id": "3003e138",
   "metadata": {},
   "source": [
    "### 2. 분산(variance)\n",
    "- 1개의 이산정도를 나타냄\n",
    "- 편차제곱의 평균"
   ]
  },
  {
   "cell_type": "markdown",
   "id": "a8d3a7f2",
   "metadata": {},
   "source": [
    "$ variance = \\frac{\\sum_{i=1}^n{(x_i-\\bar{x})^2}}{n}, (\\bar{x}:평균) $"
   ]
  },
  {
   "cell_type": "code",
   "execution_count": 13,
   "id": "d60b9097",
   "metadata": {},
   "outputs": [],
   "source": [
    "# 분산 함수\n",
    "def variance(data):\n",
    "    avg = np.average(data)\n",
    "    var = 0\n",
    "    \n",
    "    for num in data:\n",
    "        var += (num - avg)**2\n",
    "    \n",
    "    return var / len(data)"
   ]
  },
  {
   "cell_type": "code",
   "execution_count": 14,
   "id": "b7e15a6d",
   "metadata": {},
   "outputs": [
    {
     "data": {
      "text/plain": [
       "(50.0, 126.0)"
      ]
     },
     "execution_count": 14,
     "metadata": {},
     "output_type": "execute_result"
    }
   ],
   "source": [
    "variance(data1), variance(data2)"
   ]
  },
  {
   "cell_type": "code",
   "execution_count": 16,
   "id": "4705c19f",
   "metadata": {},
   "outputs": [
    {
     "data": {
      "text/plain": [
       "(50.0, 126.0)"
      ]
     },
     "execution_count": 16,
     "metadata": {},
     "output_type": "execute_result"
    }
   ],
   "source": [
    "# Numpy 분산\n",
    "np.var(data1), np.var(data2)"
   ]
  },
  {
   "cell_type": "code",
   "execution_count": 18,
   "id": "661dd699",
   "metadata": {},
   "outputs": [
    {
     "data": {
      "text/plain": [
       "(7.0710678118654755, 11.224972160321824)"
      ]
     },
     "execution_count": 18,
     "metadata": {},
     "output_type": "execute_result"
    }
   ],
   "source": [
    "# Numpy 표준편차\n",
    "np.std(data1), np.std(data2)"
   ]
  },
  {
   "cell_type": "code",
   "execution_count": 24,
   "id": "3c79c8e1",
   "metadata": {},
   "outputs": [],
   "source": [
    "# np.random.randint \n",
    "# randint(low, high=None, size=None, dtype=int)\n",
    "\n",
    "p_data1 = np.random.randint(60, 100, int(10E5))\n",
    "p_data2 = np.random.randint(60, 100, int(10E5))"
   ]
  },
  {
   "cell_type": "code",
   "execution_count": 25,
   "id": "b42a04a8",
   "metadata": {},
   "outputs": [
    {
     "name": "stdout",
     "output_type": "stream",
     "text": [
      "Wall time: 4.53 s\n"
     ]
    },
    {
     "data": {
      "text/plain": [
       "(133.42629211280354, 133.2379711233713)"
      ]
     },
     "execution_count": 25,
     "metadata": {},
     "output_type": "execute_result"
    }
   ],
   "source": [
    "%%time\n",
    "variance(p_data1), variance(p_data2)"
   ]
  },
  {
   "cell_type": "code",
   "execution_count": 26,
   "id": "6c7c1e8a",
   "metadata": {},
   "outputs": [
    {
     "name": "stdout",
     "output_type": "stream",
     "text": [
      "Wall time: 13 ms\n"
     ]
    },
    {
     "data": {
      "text/plain": [
       "(133.426292112879, 133.237971123551)"
      ]
     },
     "execution_count": 26,
     "metadata": {},
     "output_type": "execute_result"
    }
   ],
   "source": [
    "%%time\n",
    "np.var(p_data1), np.var(p_data2)"
   ]
  },
  {
   "cell_type": "markdown",
   "id": "f526a4d3",
   "metadata": {},
   "source": [
    " ### 3. 공분산(covariance)\n",
    "- 2개의 확률변수의 상관정도를 나타냄\n",
    "- 평균 편차곱\n",
    "- 방향성은 보여줄수 있으나 강도를 나타내는데 한계가 있다\n",
    "    - 표본데이터의 크기에 따라서 값의 차이가 큰 단점이 있다\n",
    "    \n",
    "- 공분산 값이 음수이면 x 또는 y가 증가할 때 y 또는 x가 감소한다.\n",
    "- 공분산 값이 양수이면 x 또는 y가 증가할 때 y 또는 x도 증가한다."
   ]
  },
  {
   "cell_type": "markdown",
   "id": "fdcad4fd",
   "metadata": {},
   "source": [
    "$ covariance = \\frac{\\sum_{i=1}^{n}{(x_i-\\bar{x})(y_i-\\bar{y})}}{n}, (\\bar{x}:x의 평균, \\bar{y}:y의 평균) $"
   ]
  },
  {
   "cell_type": "code",
   "execution_count": 28,
   "id": "9f955d4e",
   "metadata": {},
   "outputs": [],
   "source": [
    "# covariance function"
   ]
  },
  {
   "cell_type": "code",
   "execution_count": 33,
   "id": "6f1c8220",
   "metadata": {},
   "outputs": [
    {
     "data": {
      "text/plain": [
       "(93.75,\n",
       " array([[ 62.5 ,  93.75],\n",
       "        [ 93.75, 157.5 ]]))"
      ]
     },
     "execution_count": 33,
     "metadata": {},
     "output_type": "execute_result"
    }
   ],
   "source": [
    "data1 = np.array([80, 85, 100, 90, 95])\n",
    "data2 = np.array([70, 80, 100, 95, 95])\n",
    "np.cov(data1, data2)[0, 1], np.cov(data1, data2) # [0,1]이나 [1,0] 이 공분산"
   ]
  },
  {
   "cell_type": "code",
   "execution_count": 34,
   "id": "dbae4763",
   "metadata": {},
   "outputs": [
    {
     "data": {
      "text/plain": [
       "(-87.5,\n",
       " array([[ 62.5, -87.5],\n",
       "        [-87.5, 130. ]]))"
      ]
     },
     "execution_count": 34,
     "metadata": {},
     "output_type": "execute_result"
    }
   ],
   "source": [
    "data3 = np.array([80, 85, 100, 90, 95])\n",
    "data4 = np.array([100, 90, 70, 90, 80])\n",
    "np.cov(data3, data4)[0, 1], np.cov(data3, data4)"
   ]
  },
  {
   "cell_type": "code",
   "execution_count": 35,
   "id": "34400e0f",
   "metadata": {},
   "outputs": [
    {
     "data": {
      "text/plain": [
       "-8750.0"
      ]
     },
     "execution_count": 35,
     "metadata": {},
     "output_type": "execute_result"
    }
   ],
   "source": [
    "data5 = np.array([800, 850, 1000, 900, 950])\n",
    "data6 = np.array([1000, 900, 700, 900, 800])\n",
    "np.cov(data5, data6)[0, 1]"
   ]
  },
  {
   "cell_type": "markdown",
   "id": "90767028",
   "metadata": {},
   "source": [
    "### 4. 상관계수(correlation coefficient)\n",
    "- 공분산의 한계를 극복하기 위해서 만들어짐\n",
    "- -1 ~ 1까지의 수를 가지며 0과 가까울수록 상관도가 적음을 의미\n",
    "- x의 분산과 y의 분산을 곱한 결과의 제곱근을 나눠주면 x나 y의 변화량이 클수록 0에 가까워짐\n",
    "- https://docs.scipy.org/doc/numpy-1.13.0/reference/generated/numpy.corrcoef.html"
   ]
  },
  {
   "cell_type": "markdown",
   "id": "b32323b8",
   "metadata": {},
   "source": [
    "$ correlation-coefficient = \\frac{공분산}{\\sqrt{{x분산} \\cdot {y분산}}} $"
   ]
  },
  {
   "cell_type": "markdown",
   "id": "0fc5fdf0",
   "metadata": {},
   "source": [
    "최종 상관계수\n",
    "\n",
    "$ r = \\frac{\\sum(x-\\bar{x})(y-\\bar{y})}{\\sqrt{{\\sum(x-\\bar{x})^2}\\cdot{\\sum(y-\\bar{y})^2}}} $"
   ]
  },
  {
   "cell_type": "code",
   "execution_count": 41,
   "id": "7aa50a86",
   "metadata": {},
   "outputs": [
    {
     "data": {
      "text/plain": [
       "(0.9449111825230682, -0.970725343394151, -0.970725343394151)"
      ]
     },
     "execution_count": 41,
     "metadata": {},
     "output_type": "execute_result"
    }
   ],
   "source": [
    "np.corrcoef(data1, data2)[0,1], np.corrcoef(data3, data4)[0,1], np.corrcoef(data5, data6)[0,1]"
   ]
  },
  {
   "cell_type": "markdown",
   "id": "6652cedc",
   "metadata": {},
   "source": [
    "### 5. 결정계수(cofficient of determination: R-squared)\n",
    "- x로부터 y를 예측할수 있는 정도\n",
    "- 상관계수의 제곱 (상관계수를 양수화)\n",
    "- 수치가 클수록 회기분석을 통해 예측할수 있는 수치의 정도가 더 정확"
   ]
  },
  {
   "cell_type": "code",
   "execution_count": 43,
   "id": "28dcec0d",
   "metadata": {},
   "outputs": [
    {
     "data": {
      "text/plain": [
       "(0.892857142857143, 0.9423076923076923)"
      ]
     },
     "execution_count": 43,
     "metadata": {},
     "output_type": "execute_result"
    }
   ],
   "source": [
    "np.corrcoef(data1, data2)[0,1] ** 2,\\\n",
    "np.corrcoef(data1, data4)[0,1] ** 2"
   ]
  },
  {
   "cell_type": "markdown",
   "id": "7ab82523",
   "metadata": {},
   "source": [
    "### 6. 프리미어리그 데이터 상관계수 분석\n",
    "- 2016년 프리미어리그 성적에서 득점과 실점 데이터중에 승점에 영향을 더 많이 준 데이터는?"
   ]
  },
  {
   "cell_type": "code",
   "execution_count": 45,
   "id": "3e982847",
   "metadata": {},
   "outputs": [],
   "source": [
    "import pandas as pd"
   ]
  },
  {
   "cell_type": "code",
   "execution_count": 47,
   "id": "a86df319",
   "metadata": {},
   "outputs": [
    {
     "name": "stdout",
     "output_type": "stream",
     "text": [
      "2014_p.csv\n",
      "2014_s.csv\n",
      "premierleague.csv\n",
      "train.csv\n"
     ]
    }
   ],
   "source": [
    "!ls datas"
   ]
  },
  {
   "cell_type": "code",
   "execution_count": 49,
   "id": "992cf22d",
   "metadata": {},
   "outputs": [
    {
     "data": {
      "text/html": [
       "<div>\n",
       "<style scoped>\n",
       "    .dataframe tbody tr th:only-of-type {\n",
       "        vertical-align: middle;\n",
       "    }\n",
       "\n",
       "    .dataframe tbody tr th {\n",
       "        vertical-align: top;\n",
       "    }\n",
       "\n",
       "    .dataframe thead th {\n",
       "        text-align: right;\n",
       "    }\n",
       "</style>\n",
       "<table border=\"1\" class=\"dataframe\">\n",
       "  <thead>\n",
       "    <tr style=\"text-align: right;\">\n",
       "      <th></th>\n",
       "      <th>name</th>\n",
       "      <th>gf</th>\n",
       "      <th>ga</th>\n",
       "      <th>points</th>\n",
       "    </tr>\n",
       "  </thead>\n",
       "  <tbody>\n",
       "    <tr>\n",
       "      <th>0</th>\n",
       "      <td>Manchester City</td>\n",
       "      <td>106</td>\n",
       "      <td>27</td>\n",
       "      <td>100</td>\n",
       "    </tr>\n",
       "    <tr>\n",
       "      <th>1</th>\n",
       "      <td>Manchester United</td>\n",
       "      <td>68</td>\n",
       "      <td>28</td>\n",
       "      <td>81</td>\n",
       "    </tr>\n",
       "    <tr>\n",
       "      <th>2</th>\n",
       "      <td>Tottenham Hotspur</td>\n",
       "      <td>74</td>\n",
       "      <td>36</td>\n",
       "      <td>77</td>\n",
       "    </tr>\n",
       "    <tr>\n",
       "      <th>3</th>\n",
       "      <td>Liverpool</td>\n",
       "      <td>84</td>\n",
       "      <td>38</td>\n",
       "      <td>75</td>\n",
       "    </tr>\n",
       "    <tr>\n",
       "      <th>4</th>\n",
       "      <td>Chelsea</td>\n",
       "      <td>62</td>\n",
       "      <td>38</td>\n",
       "      <td>70</td>\n",
       "    </tr>\n",
       "  </tbody>\n",
       "</table>\n",
       "</div>"
      ],
      "text/plain": [
       "                name   gf  ga  points\n",
       "0    Manchester City  106  27     100\n",
       "1  Manchester United   68  28      81\n",
       "2  Tottenham Hotspur   74  36      77\n",
       "3          Liverpool   84  38      75\n",
       "4            Chelsea   62  38      70"
      ]
     },
     "execution_count": 49,
     "metadata": {},
     "output_type": "execute_result"
    }
   ],
   "source": [
    "df = pd.read_csv('./datas/premierleague.csv')\n",
    "df.head()"
   ]
  },
  {
   "cell_type": "code",
   "execution_count": 54,
   "id": "139a290d",
   "metadata": {},
   "outputs": [
    {
     "data": {
      "text/plain": [
       "array([106,  68,  74,  84,  62,  74,  36,  44,  56,  39,  45,  45,  48,\n",
       "        44,  34,  28,  37,  28,  35,  31], dtype=int64)"
      ]
     },
     "execution_count": 54,
     "metadata": {},
     "output_type": "execute_result"
    }
   ],
   "source": [
    "gf = np.array(df[\"gf\"])\n",
    "gf"
   ]
  },
  {
   "cell_type": "code",
   "execution_count": 55,
   "id": "70b94be0",
   "metadata": {},
   "outputs": [
    {
     "data": {
      "text/plain": [
       "array([27, 28, 36, 38, 38, 51, 39, 58, 60, 47, 55, 61, 68, 64, 54, 58, 56,\n",
       "       56, 68, 56], dtype=int64)"
      ]
     },
     "execution_count": 55,
     "metadata": {},
     "output_type": "execute_result"
    }
   ],
   "source": [
    "ga = np.array(df[\"ga\"])\n",
    "ga"
   ]
  },
  {
   "cell_type": "code",
   "execution_count": 56,
   "id": "e5db6a47",
   "metadata": {},
   "outputs": [
    {
     "data": {
      "text/plain": [
       "array([100,  81,  77,  75,  70,  63,  54,  49,  47,  44,  44,  44,  42,\n",
       "        41,  40,  37,  36,  33,  33,  31], dtype=int64)"
      ]
     },
     "execution_count": 56,
     "metadata": {},
     "output_type": "execute_result"
    }
   ],
   "source": [
    "points = np.array(df[\"points\"])\n",
    "points"
   ]
  },
  {
   "cell_type": "code",
   "execution_count": 62,
   "id": "b86c2e96",
   "metadata": {},
   "outputs": [
    {
     "data": {
      "text/plain": [
       "(0.93, 0.87)"
      ]
     },
     "execution_count": 62,
     "metadata": {},
     "output_type": "execute_result"
    }
   ],
   "source": [
    "d1, d1_1 = np.corrcoef(gf, points)[0,1], np.corrcoef(gf, points)[0,1] **2\n",
    "round(d1, 2), round(d1_1, 2)"
   ]
  },
  {
   "cell_type": "code",
   "execution_count": 63,
   "id": "19eb071c",
   "metadata": {},
   "outputs": [
    {
     "data": {
      "text/plain": [
       "(-0.87, 0.76)"
      ]
     },
     "execution_count": 63,
     "metadata": {},
     "output_type": "execute_result"
    }
   ],
   "source": [
    "d2, d2_1 =  np.corrcoef(ga, points)[0,1], np.corrcoef(ga, points)[0,1] **2\n",
    "round(d2, 2), round(d2_1, 2)"
   ]
  },
  {
   "cell_type": "code",
   "execution_count": null,
   "id": "adae7331",
   "metadata": {},
   "outputs": [],
   "source": []
  }
 ],
 "metadata": {
  "kernelspec": {
   "display_name": "Python 3",
   "language": "python",
   "name": "python3"
  },
  "language_info": {
   "codemirror_mode": {
    "name": "ipython",
    "version": 3
   },
   "file_extension": ".py",
   "mimetype": "text/x-python",
   "name": "python",
   "nbconvert_exporter": "python",
   "pygments_lexer": "ipython3",
   "version": "3.8.8"
  }
 },
 "nbformat": 4,
 "nbformat_minor": 5
}
