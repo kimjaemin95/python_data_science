{
 "cells": [
  {
   "cell_type": "markdown",
   "id": "58aae06c",
   "metadata": {},
   "source": [
    "### Decorlator\n",
    "- 함수에서 코드를 바꾸지 않고 기능을 추가하거나 수정하고 싶을 때 사용하는 방법\n",
    "- 각 함수 내에서 동일한 기능을 적용하고 싶을 때"
   ]
  },
  {
   "cell_type": "code",
   "execution_count": 6,
   "id": "3971da0c",
   "metadata": {},
   "outputs": [],
   "source": [
    "'''def c(func):\n",
    "    \n",
    "    def wrapper(*args, **kargs):\n",
    "        print(args)\n",
    "        result = func(*args, **kargs)\n",
    "        return result\n",
    "    \n",
    "    return wrapper\n",
    "@c\n",
    "def a():\n",
    "    return\n",
    "\n",
    "@c\n",
    "def b():\n",
    "    return'''"
   ]
  },
  {
   "cell_type": "code",
   "execution_count": 41,
   "id": "39541958",
   "metadata": {},
   "outputs": [],
   "source": [
    "def disp(func):\n",
    "    def wrapper(*args, **kargs):\n",
    "        print(\"start\")\n",
    "        result = func(*args, **kargs)\n",
    "        print(\"result :\", result)\n",
    "        return result\n",
    "    return wrapper"
   ]
  },
  {
   "cell_type": "code",
   "execution_count": 43,
   "id": "0cd4ea2b",
   "metadata": {},
   "outputs": [],
   "source": [
    "@disp\n",
    "def plus(a, b, c):\n",
    "    result = a + b\n",
    "    return result"
   ]
  },
  {
   "cell_type": "code",
   "execution_count": 44,
   "id": "7a5a062d",
   "metadata": {},
   "outputs": [],
   "source": [
    "@disp\n",
    "def minus(a, b, c):\n",
    "    result = a - b\n",
    "    return result"
   ]
  },
  {
   "cell_type": "code",
   "execution_count": 45,
   "id": "ebebe695",
   "metadata": {},
   "outputs": [
    {
     "name": "stdout",
     "output_type": "stream",
     "text": [
      "start\n",
      "result : 3\n",
      "start\n",
      "result : -1\n"
     ]
    },
    {
     "data": {
      "text/plain": [
       "(3, -1)"
      ]
     },
     "execution_count": 45,
     "metadata": {},
     "output_type": "execute_result"
    }
   ],
   "source": [
    "plus(1,2,3), minus(2,3,3)"
   ]
  },
  {
   "cell_type": "markdown",
   "id": "e9f9a8c7",
   "metadata": {},
   "source": [
    "### 함수의 실행 시간을 출력하는 데코레이터 함수를 작성하시오."
   ]
  },
  {
   "cell_type": "code",
   "execution_count": 6,
   "id": "d9c53fda",
   "metadata": {},
   "outputs": [],
   "source": [
    "from datetime import datetime"
   ]
  },
  {
   "cell_type": "code",
   "execution_count": 11,
   "id": "d6660710",
   "metadata": {},
   "outputs": [],
   "source": [
    "def timer(func):\n",
    "    def wrapper(*args, **kargs):\n",
    "        start = datetime.now()\n",
    "        result = func(*args, **kargs)\n",
    "        end = datetime.now()\n",
    "        print('Running time :', end-start)\n",
    "        return result\n",
    "    return wrapper\n",
    "\n",
    "@timer\n",
    "def func1(a, b):\n",
    "    ls = [num for num in range(a,b)]\n",
    "    res = list(map(lambda x:x**2, ls))\n",
    "    return sum(res)"
   ]
  },
  {
   "cell_type": "code",
   "execution_count": 13,
   "id": "7a697ca1",
   "metadata": {},
   "outputs": [
    {
     "name": "stdout",
     "output_type": "stream",
     "text": [
      "Running time : 0:00:00.035504\n"
     ]
    },
    {
     "data": {
      "text/plain": [
       "333328333350000"
      ]
     },
     "execution_count": 13,
     "metadata": {},
     "output_type": "execute_result"
    }
   ],
   "source": [
    "res = func1(1, 100000)\n",
    "res"
   ]
  },
  {
   "cell_type": "markdown",
   "id": "282d38d5",
   "metadata": {},
   "source": [
    "### 패스워드를 입력 받아야 함수가 실행되도록하는 데코레이터 작성"
   ]
  },
  {
   "cell_type": "code",
   "execution_count": 14,
   "id": "9321f00c",
   "metadata": {},
   "outputs": [],
   "source": [
    "def password(func):\n",
    "    def wrapper(*args, **kargs):\n",
    "        check = 'test01'\n",
    "        pw = input('Please enter your password :')\n",
    "        if check == pw:\n",
    "            result = func(*args, **kargs)\n",
    "        else:\n",
    "            result = \"Not allow\"\n",
    "        return result\n",
    "    return wrapper"
   ]
  },
  {
   "cell_type": "code",
   "execution_count": 15,
   "id": "f25630b0",
   "metadata": {},
   "outputs": [],
   "source": [
    "@password\n",
    "def plus(a, b):\n",
    "    return a+b\n"
   ]
  },
  {
   "cell_type": "code",
   "execution_count": 17,
   "id": "ecf8abc8",
   "metadata": {},
   "outputs": [
    {
     "name": "stdout",
     "output_type": "stream",
     "text": [
      "Please enter your password :asdf\n"
     ]
    },
    {
     "data": {
      "text/plain": [
       "'Not allow'"
      ]
     },
     "execution_count": 17,
     "metadata": {},
     "output_type": "execute_result"
    }
   ],
   "source": [
    "plus(1,3)"
   ]
  },
  {
   "cell_type": "code",
   "execution_count": null,
   "id": "c6129607",
   "metadata": {},
   "outputs": [],
   "source": []
  }
 ],
 "metadata": {
  "kernelspec": {
   "display_name": "Python 3",
   "language": "python",
   "name": "python3"
  },
  "language_info": {
   "codemirror_mode": {
    "name": "ipython",
    "version": 3
   },
   "file_extension": ".py",
   "mimetype": "text/x-python",
   "name": "python",
   "nbconvert_exporter": "python",
   "pygments_lexer": "ipython3",
   "version": "3.8.8"
  }
 },
 "nbformat": 4,
 "nbformat_minor": 5
}
