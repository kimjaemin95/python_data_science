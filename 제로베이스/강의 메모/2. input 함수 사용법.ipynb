{
 "cells": [
  {
   "cell_type": "markdown",
   "id": "6f74f1c5",
   "metadata": {},
   "source": [
    "### Input 함수 사용법\n",
    "- input 선언 후 문자열 입력"
   ]
  },
  {
   "cell_type": "code",
   "execution_count": 2,
   "id": "8d0307c1",
   "metadata": {},
   "outputs": [
    {
     "name": "stdout",
     "output_type": "stream",
     "text": [
      "문자열을 입력해주세요 : 안녕하세요\n"
     ]
    }
   ],
   "source": [
    "data = input(\"문자열을 입력해주세요 : \")"
   ]
  },
  {
   "cell_type": "code",
   "execution_count": 3,
   "id": "42b25cb3",
   "metadata": {},
   "outputs": [
    {
     "data": {
      "text/plain": [
       "'안녕하세요'"
      ]
     },
     "execution_count": 3,
     "metadata": {},
     "output_type": "execute_result"
    }
   ],
   "source": [
    "data"
   ]
  },
  {
   "cell_type": "code",
   "execution_count": null,
   "id": "4a5f1feb",
   "metadata": {},
   "outputs": [],
   "source": []
  }
 ],
 "metadata": {
  "kernelspec": {
   "display_name": "Python 3",
   "language": "python",
   "name": "python3"
  },
  "language_info": {
   "codemirror_mode": {
    "name": "ipython",
    "version": 3
   },
   "file_extension": ".py",
   "mimetype": "text/x-python",
   "name": "python",
   "nbconvert_exporter": "python",
   "pygments_lexer": "ipython3",
   "version": "3.8.8"
  }
 },
 "nbformat": 4,
 "nbformat_minor": 5
}
